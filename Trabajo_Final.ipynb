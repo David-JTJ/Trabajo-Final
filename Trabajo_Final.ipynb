{
 "cells": [
  {
   "cell_type": "code",
   "execution_count": 6,
   "id": "10f26a64",
   "metadata": {},
   "outputs": [],
   "source": [
    "import pandas as pd\n",
    "import numpy as np\n",
    "import matplotlib.pyplot as ptl\n",
    "import seaborn as sns\n",
    "from urllib.request import urlopen\n",
    "from bs4 import BeautifulSoup as soup\n",
    "import requests\n",
    "import urllib.request, urllib.parse, urllib.error\n",
    "import re\n",
    "from urllib.request import Request, urlopen"
   ]
  },
  {
   "cell_type": "code",
   "execution_count": 5,
   "id": "2629a6bc",
   "metadata": {},
   "outputs": [
    {
     "name": "stdout",
     "output_type": "stream",
     "text": [
      "['TRNAS-GGA', 'LOC102173449', 'LOC102169333', 'LOC108636757', 'LOC102187712', 'VGLL3', 'CHMP2B', 'POU1F1', 'HTR1F', 'LOC102188976', 'CGGBP1', 'ZNF654', 'C1H3orf38', 'LOC102190548', 'SLC12A8', 'LOC106502043', 'ZNF148', 'SNX4', 'OSBPL11', 'LMLN', 'RPL35A', 'IQCG', 'LRCH3', 'FYTTD1', 'RUBCN', 'MUC20', 'MUC4', 'TNK2', 'TFRC', 'ZDHHC19']\n"
     ]
    }
   ],
   "source": [
    "df = pd.read_excel('Trabajo_Final_LP2.xlsx', sheet_name='Hoja1')\n",
    "L=[]\n",
    "L = df.iloc[:,1].to_list()\n",
    "print(L)"
   ]
  },
  {
   "cell_type": "code",
   "execution_count": 16,
   "id": "ded76258",
   "metadata": {},
   "outputs": [
    {
     "name": "stdout",
     "output_type": "stream",
     "text": [
      "https://www.uniprot.org/uniprot/?query=VGLL3+Capra+Hircus&sort=score\n"
     ]
    }
   ],
   "source": [
    "urls=[]\n",
    "for i in range(0,len(L)):\n",
    "       urls.append(\"https://www.uniprot.org/uniprot/?query=\"+L[i]+\"+Capra+Hircus&sort=score\")\n",
    "print(urls[5])"
   ]
  },
  {
   "cell_type": "code",
   "execution_count": 30,
   "id": "998bb2e8",
   "metadata": {},
   "outputs": [
    {
     "name": "stdout",
     "output_type": "stream",
     "text": [
      "['NaN', 'NaN', 'NaN', 'NaN', 'NaN', ' ', ' ', ' ', ' ', 'NaN', ' ', ' ', 'NaN', ' ', ' ', 'NaN', ' ', ' ', ' ', ' ', 'NaN', ' ', ' ', ' ', ' ', ' ', ' ', ' ', ' ', ' ']\n"
     ]
    }
   ],
   "source": [
    "resl=0\n",
    "B=[]\n",
    "\n",
    "for i in range(len(urls)):\n",
    "    requ = Request(urls[i], headers={'User-Agent': 'Mozilla/5.0'})\n",
    "    subpage = urlopen(requ).read()\n",
    "    pagesoup=soup(subpage, \"html.parser\")\n",
    "    resl = pagesoup.find(\"div\",{\"class\":\"content results\"}).h2\n",
    "    if resl == None:\n",
    "        B.append(\" \")\n",
    "    elif resl != None:\n",
    "        B.append(\"NaN\")\n",
    "print(B)"
   ]
  },
  {
   "cell_type": "code",
   "execution_count": 77,
   "id": "32006aee",
   "metadata": {},
   "outputs": [
    {
     "name": "stdout",
     "output_type": "stream",
     "text": [
      "['NaN', 'NaN', 'NaN', 'NaN', 'NaN', ' ', ' ', ' ', ' ', 'NaN', ' ', ' ', 'NaN', ' ', ' ', 'NaN', ' ', ' ', ' ', ' ', 'NaN', ' ', ' ', ' ', ' ', ' ', ' ', ' ', ' ', ' ']\n",
      "['NaN', 'NaN', 'NaN', 'NaN', 'NaN', ' ', ' ', ' ', ' ', 'NaN', ' ', ' ', 'NaN', ' ', ' ', 'NaN', ' ', ' ', ' ', ' ', 'NaN', ' ', ' ', ' ', ' ', ' ', ' ', ' ', ' ', ' ']\n",
      "['NaN', 'NaN', 'NaN', 'NaN', 'NaN', ' ', ' ', ' ', ' ', 'NaN', ' ', ' ', 'NaN', ' ', ' ', 'NaN', ' ', ' ', ' ', ' ', 'NaN', ' ', ' ', ' ', ' ', ' ', ' ', ' ', ' ', ' ']\n",
      "['NaN', 'NaN', 'NaN', 'NaN', 'NaN', ' ', ' ', ' ', ' ', 'NaN', ' ', ' ', 'NaN', ' ', ' ', 'NaN', ' ', ' ', ' ', ' ', 'NaN', ' ', ' ', ' ', ' ', ' ', ' ', ' ', ' ', ' ']\n",
      "['NaN', 'NaN', 'NaN', 'NaN', 'NaN', ' ', ' ', ' ', ' ', 'NaN', ' ', ' ', 'NaN', ' ', ' ', 'NaN', ' ', ' ', ' ', ' ', 'NaN', ' ', ' ', ' ', ' ', ' ', ' ', ' ', ' ', ' ']\n",
      "['NaN', 'NaN', 'NaN', 'NaN', 'NaN', ' ', ' ', ' ', ' ', 'NaN', ' ', ' ', 'NaN', ' ', ' ', 'NaN', ' ', ' ', ' ', ' ', 'NaN', ' ', ' ', ' ', ' ', ' ', ' ', ' ', ' ', ' ']\n"
     ]
    }
   ],
   "source": [
    "Entry=[' ']*len(L)\n",
    "Entry_Name=[' ']*len(L)\n",
    "Protein=[' ']*len(L)\n",
    "Gene=[' ']*len(L)\n",
    "Organism=[' ']*len(L)\n",
    "GO_BP=[' ']*len(L)\n",
    "\n",
    "for i in range(len(B)):\n",
    "    if str(B[i]) == \"NaN\":\n",
    "        Entry[i]=\"NaN\"\n",
    "        Entry_Name[i]=\"NaN\"\n",
    "        Protein[i]=\"NaN\"\n",
    "        Gene[i]=\"NaN\"\n",
    "        Organism[i]=\"NaN\"\n",
    "        GO_BP[i]=\"NaN\"\n",
    "\n",
    "\n",
    "print(Entry)    \n",
    "print(Entry_Name)\n",
    "print(Protein)\n",
    "print(Gene)\n",
    "print(Organism)\n",
    "print(GO_BP)"
   ]
  },
  {
   "cell_type": "code",
   "execution_count": 42,
   "id": "71825ed2",
   "metadata": {},
   "outputs": [
    {
     "name": "stdout",
     "output_type": "stream",
     "text": [
      "[5, 6, 7, 8, 10, 11, 13, 14, 16, 17, 18, 19, 21, 22, 23, 24, 25, 26, 27, 28, 29]\n"
     ]
    }
   ],
   "source": [
    "A=[]\n",
    "for i in range(len(B)):\n",
    "    if Entry[i]!=\"NaN\":\n",
    "        A.append(i)\n",
    "print(A)"
   ]
  },
  {
   "cell_type": "code",
   "execution_count": 49,
   "id": "b8bd2d7b",
   "metadata": {},
   "outputs": [
    {
     "name": "stdout",
     "output_type": "stream",
     "text": [
      "['NaN', 'NaN', 'NaN', 'NaN', 'NaN', 'A0A452FI87', 'A0A452EJ84', 'B8YMT5', 'A0A452DP04', 'NaN', 'A0A452EH80', 'A0A452EMC5', 'NaN', 'A0A452G5A1', 'A0A452FPS5', 'NaN', 'A0A452F389', 'A0A452EGT9', 'A0A452G516', 'A0A452F0J2', 'NaN', 'A0A452E679', 'A0A452G381', 'A0A452FHL6', 'A0A452EXQ2', 'A0A452FA09', 'A0A452EHY5', 'A0A452EC95', 'A0A452GAH5', 'A0A452FVX0']\n"
     ]
    }
   ],
   "source": [
    "for i in A:\n",
    "    requ = Request(urls[i], headers={'User-Agent': 'Mozilla/5.0'})\n",
    "    subpage = urlopen(requ).read()\n",
    "    pagesoup=soup(subpage, \"html.parser\")\n",
    "    resl = pagesoup.find(\"td\",{\"class\":\"entryID\"}).a.text[0:15]\n",
    "    Entry[i]=resl\n",
    "print(Entry)"
   ]
  },
  {
   "cell_type": "code",
   "execution_count": 66,
   "id": "45a59be4",
   "metadata": {},
   "outputs": [
    {
     "name": "stdout",
     "output_type": "stream",
     "text": [
      "https://www.uniprot.org/uniprot/B8YMT5\n"
     ]
    }
   ],
   "source": [
    "urls_1=[]\n",
    "\n",
    "for i in A:\n",
    "       urls_1.append(\"https://www.uniprot.org/uniprot/\"+Entry[i])\n",
    "print(urls_1[2])"
   ]
  },
  {
   "cell_type": "code",
   "execution_count": 78,
   "id": "cd891fc2",
   "metadata": {},
   "outputs": [
    {
     "name": "stdout",
     "output_type": "stream",
     "text": [
      "(A0A452FI87_CAPHI)\n",
      "(A0A452EJ84_CAPHI)\n",
      "(B8YMT5_CAPHI)\n",
      "(A0A452DP04_CAPHI)\n",
      "(A0A452EH80_CAPHI)\n",
      "(A0A452EMC5_CAPHI)\n",
      "(A0A452G5A1_CAPHI)\n",
      "(A0A452FPS5_CAPHI)\n",
      "(A0A452F389_CAPHI)\n",
      "(A0A452EGT9_CAPHI)\n",
      "(A0A452G516_CAPHI)\n",
      "(A0A452F0J2_CAPHI)\n",
      "(A0A452E679_CAPHI)\n",
      "(A0A452G381_CAPHI)\n",
      "(A0A452FHL6_CAPHI)\n",
      "(A0A452EXQ2_CAPHI)\n",
      "(A0A452FA09_CAPHI)\n",
      "(A0A452EHY5_CAPHI)\n",
      "(A0A452EC95_CAPHI)\n",
      "(A0A452GAH5_CAPHI)\n",
      "(A0A452FVX0_CAPHI)\n",
      "['(A0A452FI87_CAPHI)', '(A0A452EJ84_CAPHI)', '(B8YMT5_CAPHI)', '(A0A452DP04_CAPHI)', '(A0A452EH80_CAPHI)', '(A0A452EMC5_CAPHI)', '(A0A452G5A1_CAPHI)', '(A0A452FPS5_CAPHI)', '(A0A452F389_CAPHI)', '(A0A452EGT9_CAPHI)', '(A0A452G516_CAPHI)', '(A0A452F0J2_CAPHI)', '(A0A452E679_CAPHI)', '(A0A452G381_CAPHI)', '(A0A452FHL6_CAPHI)', '(A0A452EXQ2_CAPHI)', '(A0A452FA09_CAPHI)', '(A0A452EHY5_CAPHI)', '(A0A452EC95_CAPHI)', '(A0A452GAH5_CAPHI)', '(A0A452FVX0_CAPHI)']\n"
     ]
    }
   ],
   "source": [
    "Alt = []\n",
    "for i in range(len(urls_1)):\n",
    "    requ = Request(urls_1[i], headers={'User-Agent': 'Mozilla/5.0'})\n",
    "    subpage = urlopen(requ).read()\n",
    "    pagesoup=soup(subpage, \"html.parser\")\n",
    "    resl = pagesoup.find(\"h2\",{\"class\":\"page-title\"}).span.text[0:25]\n",
    "    print(resl)\n",
    "    Alt.append(resl)\n",
    "\n",
    "print(Alt)"
   ]
  },
  {
   "cell_type": "code",
   "execution_count": 81,
   "id": "16f6782b",
   "metadata": {},
   "outputs": [
    {
     "name": "stdout",
     "output_type": "stream",
     "text": [
      "['NaN', 'NaN', 'NaN', 'NaN', 'NaN', '(A0A452FI87_CAPHI)', '(A0A452EJ84_CAPHI)', '(B8YMT5_CAPHI)', '(A0A452DP04_CAPHI)', 'NaN', '(A0A452EH80_CAPHI)', '(A0A452EMC5_CAPHI)', 'NaN', '(A0A452G5A1_CAPHI)', '(A0A452FPS5_CAPHI)', 'NaN', '(A0A452F389_CAPHI)', '(A0A452EGT9_CAPHI)', '(A0A452G516_CAPHI)', '(A0A452F0J2_CAPHI)', 'NaN', '(A0A452E679_CAPHI)', '(A0A452G381_CAPHI)', '(A0A452FHL6_CAPHI)', '(A0A452EXQ2_CAPHI)', '(A0A452FA09_CAPHI)', '(A0A452EHY5_CAPHI)', '(A0A452EC95_CAPHI)', '(A0A452GAH5_CAPHI)', '(A0A452FVX0_CAPHI)']\n"
     ]
    }
   ],
   "source": [
    "x = 0\n",
    "for i in range(len(Entry_Name)):\n",
    "    if Entry_Name[i]!=\"NaN\":\n",
    "            Entry_Name[i]=Alt[x]\n",
    "            x = x + 1\n",
    "    else:\n",
    "        Entry_Name[i]='NaN'\n",
    "print(Entry_Name)  "
   ]
  },
  {
   "cell_type": "code",
   "execution_count": 90,
   "id": "ec29ca8e",
   "metadata": {},
   "outputs": [
    {
     "name": "stdout",
     "output_type": "stream",
     "text": [
      "['Vestigial like family member 3', 'Charged multivesicular body protein 2B', 'POU domain protein', '5-hydroxytryptamine receptor 1F', 'CGG triplet repeat binding protein 1', 'Zinc finger protein 654', 'Sulfide:quinone oxidoreductase, mitochondrial pseu', 'Solute carrier family 12 member 8', 'Zinc finger protein 148', 'Sorting nexin 4', 'Oxysterol-binding protein', 'Leishmanolysin-like peptidase', 'Dynein regulatory complex protein 9', 'Leucine rich repeats and calponin homology domain ', 'Forty-two-three domain-containing protein 1', 'Rubicon autophagy regulator', 'Mucin 20, cell surface associated', 'Mucin 4, cell surface associated', 'Non-specific protein-tyrosine kinase', 'Transferrin receptor protein 1', 'Palmitoyltransferase']\n"
     ]
    }
   ],
   "source": [
    "Prot = []\n",
    "for i in range(len(urls_1)):\n",
    "    requ = Request(urls_1[i], headers={'User-Agent': 'Mozilla/5.0'})\n",
    "    subpage = urlopen(requ).read()\n",
    "    pagesoup=soup(subpage, \"html.parser\")\n",
    "    resl = pagesoup.find(\"div\",{\"id\":\"content-protein\"}).h1.text[0:50]\n",
    "    Prot.append(resl)\n",
    "\n",
    "print(Prot)"
   ]
  },
  {
   "cell_type": "code",
   "execution_count": 91,
   "id": "223f8600",
   "metadata": {},
   "outputs": [
    {
     "name": "stdout",
     "output_type": "stream",
     "text": [
      "['NaN', 'NaN', 'NaN', 'NaN', 'NaN', 'Vestigial like family member 3', 'Charged multivesicular body protein 2B', 'POU domain protein', '5-hydroxytryptamine receptor 1F', 'NaN', 'CGG triplet repeat binding protein 1', 'Zinc finger protein 654', 'NaN', 'Sulfide:quinone oxidoreductase, mitochondrial pseu', 'Solute carrier family 12 member 8', 'NaN', 'Zinc finger protein 148', 'Sorting nexin 4', 'Oxysterol-binding protein', 'Leishmanolysin-like peptidase', 'NaN', 'Dynein regulatory complex protein 9', 'Leucine rich repeats and calponin homology domain ', 'Forty-two-three domain-containing protein 1', 'Rubicon autophagy regulator', 'Mucin 20, cell surface associated', 'Mucin 4, cell surface associated', 'Non-specific protein-tyrosine kinase', 'Transferrin receptor protein 1', 'Palmitoyltransferase']\n"
     ]
    }
   ],
   "source": [
    "x = 0\n",
    "for i in range(len(Protein)):\n",
    "    if Protein[i]!=\"NaN\":\n",
    "            Protein[i]=Prot[x]\n",
    "            x = x + 1\n",
    "    else:\n",
    "        Protein[i]='NaN'\n",
    "print(Protein) "
   ]
  },
  {
   "cell_type": "code",
   "execution_count": 94,
   "id": "cac0d0a4",
   "metadata": {},
   "outputs": [
    {
     "name": "stdout",
     "output_type": "stream",
     "text": [
      "['VGLL3', 'CHMP2B', 'POU1F1', 'HTR1F', 'CGGBP1', 'ZNF654', 'LOC102190548', 'SLC12A8', 'ZNF148', 'SNX4', 'OSBPL11', 'LMLN', 'IQCG', 'LRCH3', 'FYTTD1', 'RUBCN', 'MUC20', 'MUC4', 'TNK2', 'TFRC', 'ZDHHC19']\n"
     ]
    }
   ],
   "source": [
    "G=[]\n",
    "\n",
    "for i in range(len(urls_1)):\n",
    "    requ = Request(urls_1[i], headers={'User-Agent': 'Mozilla/5.0'})\n",
    "    subpage = urlopen(requ).read()\n",
    "    pagesoup=soup(subpage, \"html.parser\")\n",
    "    resl = pagesoup.find(\"div\",{\"id\":\"content-gene\"}).h2.text[0:50]\n",
    "    G.append(resl)\n",
    "\n",
    "print(G)\n"
   ]
  },
  {
   "cell_type": "code",
   "execution_count": 95,
   "id": "b168c3a5",
   "metadata": {},
   "outputs": [
    {
     "name": "stdout",
     "output_type": "stream",
     "text": [
      "['NaN', 'NaN', 'NaN', 'NaN', 'NaN', 'VGLL3', 'CHMP2B', 'POU1F1', 'HTR1F', 'NaN', 'CGGBP1', 'ZNF654', 'NaN', 'LOC102190548', 'SLC12A8', 'NaN', 'ZNF148', 'SNX4', 'OSBPL11', 'LMLN', 'NaN', 'IQCG', 'LRCH3', 'FYTTD1', 'RUBCN', 'MUC20', 'MUC4', 'TNK2', 'TFRC', 'ZDHHC19']\n"
     ]
    }
   ],
   "source": [
    "x = 0\n",
    "for i in range(len(Gene)):\n",
    "    if Gene[i]!=\"NaN\":\n",
    "            Gene[i]=G[x]\n",
    "            x = x + 1\n",
    "    else:\n",
    "        Gene[i]='NaN'\n",
    "print(Gene) "
   ]
  },
  {
   "cell_type": "code",
   "execution_count": 96,
   "id": "46e2ef7a",
   "metadata": {},
   "outputs": [
    {
     "name": "stdout",
     "output_type": "stream",
     "text": [
      "['Capra hircus (Goat)', 'Capra hircus (Goat)', 'Capra hircus (Goat)', 'Capra hircus (Goat)', 'Capra hircus (Goat)', 'Capra hircus (Goat)', 'Capra hircus (Goat)', 'Capra hircus (Goat)', 'Capra hircus (Goat)', 'Capra hircus (Goat)', 'Capra hircus (Goat)', 'Capra hircus (Goat)', 'Capra hircus (Goat)', 'Capra hircus (Goat)', 'Capra hircus (Goat)', 'Capra hircus (Goat)', 'Capra hircus (Goat)', 'Capra hircus (Goat)', 'Capra hircus (Goat)', 'Capra hircus (Goat)', 'Capra hircus (Goat)']\n"
     ]
    }
   ],
   "source": [
    "Org=[]\n",
    "\n",
    "for i in range(len(urls_1)):\n",
    "    requ = Request(urls_1[i], headers={'User-Agent': 'Mozilla/5.0'})\n",
    "    subpage = urlopen(requ).read()\n",
    "    pagesoup=soup(subpage, \"html.parser\")\n",
    "    resl = pagesoup.find(\"div\",{\"id\":\"content-organism\"}).em.text[0:50]\n",
    "    Org.append(resl)\n",
    "\n",
    "print(Org)"
   ]
  },
  {
   "cell_type": "code",
   "execution_count": 97,
   "id": "3385002b",
   "metadata": {},
   "outputs": [
    {
     "name": "stdout",
     "output_type": "stream",
     "text": [
      "['NaN', 'NaN', 'NaN', 'NaN', 'NaN', 'Capra hircus (Goat)', 'Capra hircus (Goat)', 'Capra hircus (Goat)', 'Capra hircus (Goat)', 'NaN', 'Capra hircus (Goat)', 'Capra hircus (Goat)', 'NaN', 'Capra hircus (Goat)', 'Capra hircus (Goat)', 'NaN', 'Capra hircus (Goat)', 'Capra hircus (Goat)', 'Capra hircus (Goat)', 'Capra hircus (Goat)', 'NaN', 'Capra hircus (Goat)', 'Capra hircus (Goat)', 'Capra hircus (Goat)', 'Capra hircus (Goat)', 'Capra hircus (Goat)', 'Capra hircus (Goat)', 'Capra hircus (Goat)', 'Capra hircus (Goat)', 'Capra hircus (Goat)']\n"
     ]
    }
   ],
   "source": [
    "x = 0\n",
    "for i in range(len(Organism)):\n",
    "    if Organism[i]!=\"NaN\":\n",
    "            Organism[i]=Org[x]\n",
    "            x = x + 1\n",
    "    else:\n",
    "        Organism[i]='NaN'\n",
    "print(Organism) "
   ]
  },
  {
   "cell_type": "code",
   "execution_count": null,
   "id": "e47bae71",
   "metadata": {},
   "outputs": [],
   "source": []
  },
  {
   "cell_type": "code",
   "execution_count": null,
   "id": "742ca402",
   "metadata": {},
   "outputs": [],
   "source": []
  },
  {
   "cell_type": "code",
   "execution_count": null,
   "id": "7d4bf472",
   "metadata": {},
   "outputs": [],
   "source": []
  }
 ],
 "metadata": {
  "kernelspec": {
   "display_name": "Python 3",
   "language": "python",
   "name": "python3"
  },
  "language_info": {
   "codemirror_mode": {
    "name": "ipython",
    "version": 3
   },
   "file_extension": ".py",
   "mimetype": "text/x-python",
   "name": "python",
   "nbconvert_exporter": "python",
   "pygments_lexer": "ipython3",
   "version": "3.8.8"
  }
 },
 "nbformat": 4,
 "nbformat_minor": 5
}
