{
 "cells": [
  {
   "cell_type": "markdown",
   "metadata": {},
   "source": [
    "### TRABAJO FINAL"
   ]
  },
  {
   "cell_type": "markdown",
   "metadata": {},
   "source": [
    "En el presente trabajo, extraeremos los datos de la pagina [UniProt](\"https://www.uniprot.org/\") los de la especie **Capra Hircus** comunmente conocida como cabra, con el fin de poder recolectar los datos solicitados, buscaremos automatizar la extracción lo maximo posible, de tal manera que el programa pueda resolver todos los inconvenientes que se puedan presentar en el lapso de tiempo de la extracción.\n",
    "\n",
    "<table><tr>\n",
    "<td> <img src=\"https://cadenaser00.epimg.net/ser/imagenes/2018/08/29/ciencia/1535562087_639151_1535562526_noticia_normal.jpg\" alt=\"Drawing\" style=\"width: 450px;\"/> </td>\n",
    "<td> <img src=\"https://static4.abc.es/Media/201403/25/cabras-listas--644x362.jpg\" alt=\"Drawing\" style=\"width: 640px;\"/> </td>\n",
    "</tr></table>"
   ]
  },
  {
   "cell_type": "markdown",
   "metadata": {},
   "source": [
    "### Librerias : "
   ]
  },
  {
   "cell_type": "code",
   "execution_count": null,
   "metadata": {},
   "outputs": [],
   "source": [
    "import pandas as pd\n",
    "import numpy as np\n",
    "import matplotlib.pyplot as ptl\n",
    "import seaborn as sns\n",
    "from urllib.request import urlopen\n",
    "from bs4 import BeautifulSoup as soup\n",
    "import requests\n",
    "import urllib.request, urllib.parse, urllib.error\n",
    "import re\n",
    "from urllib.request import Request, urlopen"
   ]
  },
  {
   "cell_type": "markdown",
   "metadata": {},
   "source": [
    "### Extrayendo los datos del excel base : \n",
    "Extraeremos el nombre de las hojas, para facilitar la extracción de datos el ayuda del comando **sheet_names**, podemos extraer de manera más practica el nombre de cada hoja, de nuestro archivo base."
   ]
  },
  {
   "cell_type": "code",
   "execution_count": 2,
   "metadata": {},
   "outputs": [
    {
     "name": "stdout",
     "output_type": "stream",
     "text": [
      "['C1 Milagros', 'C2 Wilmer', 'C3 Gisell', 'C4 Jerica', 'C5 Manuel', 'C6 Jerica', 'C7 Mariana', 'C8 Rosha', 'C9 Jerica', 'C10 Lucero', 'C11 Nicole', 'C12 Gisell', 'C13 Lucero', 'C14 Wilmer', 'C15Milagros', 'C16', 'C17', 'C18', 'Hoja 20', 'Hoja 21', 'Hoja 22', 'Hoja 23']\n"
     ]
    }
   ],
   "source": [
    "file=\"02 Ch Genes ordenados con vecinos.xlsx\"\n",
    "df = pd.ExcelFile(file)\n",
    "a=df.sheet_names[1:23]\n",
    "print(a)"
   ]
  },
  {
   "cell_type": "markdown",
   "metadata": {},
   "source": [
    "### Extrayendo los nombres de los genes de cada hoja \n",
    "Extraemos los datos de cada hoja, con el comando **sheet_name**, con el comando antes mencionado podremos recorrer cada hoja implementando un bucle, cuyo rango será la _cantidad de hoja_.  \n",
    "Extraeremos 30 datos de cada hoja. Con el fin de comprobar la efectividad de la extracción de datos, ante las dificultades que se puedan presentar.  \n",
    "La longitud de datos extraidos serán de 522 datos en total, al observar la data original, podremos observar que existen duplicados en las hojas de la data base."
   ]
  },
  {
   "cell_type": "code",
   "execution_count": 3,
   "metadata": {},
   "outputs": [
    {
     "name": "stdout",
     "output_type": "stream",
     "text": [
      "522\n"
     ]
    }
   ],
   "source": [
    "p=[]\n",
    "for i in range(18):\n",
    "    file=\"02 Ch Genes ordenados con vecinos.xlsx\"\n",
    "    datos=pd.read_excel(file,sheet_name=a[i])\n",
    "    datos=datos.iloc[0:,4].to_list()[1:30]\n",
    "    p=p+datos\n",
    "# print(p)\n",
    "print(len(p))"
   ]
  },
  {
   "cell_type": "markdown",
   "metadata": {},
   "source": [
    "### Eliminando los duplicados de los datos extradidos :\n",
    "Con el comando **unique** del paquete de pandas, podremos eliminar los datos duplicados que se presentan en el paso anterior. Con el fin, de poder tener la data lo mas limpia posible. Observamos asi, la reducción de terminos, al eliminar los duplicados."
   ]
  },
  {
   "cell_type": "code",
   "execution_count": 4,
   "metadata": {},
   "outputs": [
    {
     "data": {
      "text/plain": [
       "509"
      ]
     },
     "execution_count": 4,
     "metadata": {},
     "output_type": "execute_result"
    }
   ],
   "source": [
    "p=pd.unique(p)\n",
    "len(p)\n",
    "# print(p)"
   ]
  },
  {
   "cell_type": "markdown",
   "metadata": {},
   "source": [
    "### Extrayendo los urls  : \n",
    "Del vector de los datos almacenados ( sin duplicados) extraeremos los links de la pagina [UniProt](\"https://www.uniprot.org/\"), cuya link base seria :\n",
    "\n",
    "$$ https://www.uniprot.org/uniprot/?query= ( Nombre del gen) +Capra+Hircus&sort=score $$  \n",
    "El cual de manera optima, se almacenaran una lista cuyo nombre será **urls**."
   ]
  },
  {
   "cell_type": "code",
   "execution_count": 5,
   "metadata": {},
   "outputs": [
    {
     "name": "stdout",
     "output_type": "stream",
     "text": [
      "['https://www.uniprot.org/uniprot/?query=TRNAS-GGA+Capra+Hircus&sort=score', 'https://www.uniprot.org/uniprot/?query=LOC102173449+Capra+Hircus&sort=score', 'https://www.uniprot.org/uniprot/?query=LOC102169333+Capra+Hircus&sort=score', 'https://www.uniprot.org/uniprot/?query=LOC108636757+Capra+Hircus&sort=score', 'https://www.uniprot.org/uniprot/?query=LOC102187712+Capra+Hircus&sort=score', 'https://www.uniprot.org/uniprot/?query=VGLL3+Capra+Hircus&sort=score', 'https://www.uniprot.org/uniprot/?query=CHMP2B+Capra+Hircus&sort=score', 'https://www.uniprot.org/uniprot/?query=POU1F1+Capra+Hircus&sort=score', 'https://www.uniprot.org/uniprot/?query=HTR1F+Capra+Hircus&sort=score', 'https://www.uniprot.org/uniprot/?query=LOC102188976+Capra+Hircus&sort=score', 'https://www.uniprot.org/uniprot/?query=CGGBP1+Capra+Hircus&sort=score', 'https://www.uniprot.org/uniprot/?query=ZNF654+Capra+Hircus&sort=score', 'https://www.uniprot.org/uniprot/?query=C1H3orf38+Capra+Hircus&sort=score', 'https://www.uniprot.org/uniprot/?query=LOC102190548+Capra+Hircus&sort=score', 'https://www.uniprot.org/uniprot/?query=SLC12A8+Capra+Hircus&sort=score', 'https://www.uniprot.org/uniprot/?query=LOC106502043+Capra+Hircus&sort=score', 'https://www.uniprot.org/uniprot/?query=ZNF148+Capra+Hircus&sort=score', 'https://www.uniprot.org/uniprot/?query=SNX4+Capra+Hircus&sort=score', 'https://www.uniprot.org/uniprot/?query=OSBPL11+Capra+Hircus&sort=score', 'https://www.uniprot.org/uniprot/?query=LMLN+Capra+Hircus&sort=score', 'https://www.uniprot.org/uniprot/?query=RPL35A+Capra+Hircus&sort=score', 'https://www.uniprot.org/uniprot/?query=IQCG+Capra+Hircus&sort=score', 'https://www.uniprot.org/uniprot/?query=LRCH3+Capra+Hircus&sort=score', 'https://www.uniprot.org/uniprot/?query=FYTTD1+Capra+Hircus&sort=score', 'https://www.uniprot.org/uniprot/?query=RUBCN+Capra+Hircus&sort=score', 'https://www.uniprot.org/uniprot/?query=MUC20+Capra+Hircus&sort=score', 'https://www.uniprot.org/uniprot/?query=MUC4+Capra+Hircus&sort=score', 'https://www.uniprot.org/uniprot/?query=TNK2+Capra+Hircus&sort=score', 'https://www.uniprot.org/uniprot/?query=TFRC+Capra+Hircus&sort=score', 'https://www.uniprot.org/uniprot/?query=LOC106503629+Capra+Hircus&sort=score', 'https://www.uniprot.org/uniprot/?query=C2H1orf64+Capra+Hircus&sort=score', 'https://www.uniprot.org/uniprot/?query=CLCNKA+Capra+Hircus&sort=score', 'https://www.uniprot.org/uniprot/?query=HSPB7+Capra+Hircus&sort=score', 'https://www.uniprot.org/uniprot/?query=FAM131C+Capra+Hircus&sort=score', 'https://www.uniprot.org/uniprot/?query=LOC102181451+Capra+Hircus&sort=score', 'https://www.uniprot.org/uniprot/?query=EPHA2+Capra+Hircus&sort=score', 'https://www.uniprot.org/uniprot/?query=LOC108637009+Capra+Hircus&sort=score', 'https://www.uniprot.org/uniprot/?query=ARHGEF19+Capra+Hircus&sort=score', 'https://www.uniprot.org/uniprot/?query=RSG1+Capra+Hircus&sort=score', 'https://www.uniprot.org/uniprot/?query=FBXO42+Capra+Hircus&sort=score', 'https://www.uniprot.org/uniprot/?query=LOC102179430+Capra+Hircus&sort=score', 'https://www.uniprot.org/uniprot/?query=SZRD1+Capra+Hircus&sort=score', 'https://www.uniprot.org/uniprot/?query=SPATA21+Capra+Hircus&sort=score', 'https://www.uniprot.org/uniprot/?query=NECAP2+Capra+Hircus&sort=score', 'https://www.uniprot.org/uniprot/?query=CROCC+Capra+Hircus&sort=score', 'https://www.uniprot.org/uniprot/?query=LOC102183471+Capra+Hircus&sort=score', 'https://www.uniprot.org/uniprot/?query=SDHB+Capra+Hircus&sort=score', 'https://www.uniprot.org/uniprot/?query=PADI2+Capra+Hircus&sort=score', 'https://www.uniprot.org/uniprot/?query=LOC108637078+Capra+Hircus&sort=score', 'https://www.uniprot.org/uniprot/?query=PADI1+Capra+Hircus&sort=score', 'https://www.uniprot.org/uniprot/?query=PADI3+Capra+Hircus&sort=score', 'https://www.uniprot.org/uniprot/?query=PADI4+Capra+Hircus&sort=score', 'https://www.uniprot.org/uniprot/?query=LOC102174173+Capra+Hircus&sort=score', 'https://www.uniprot.org/uniprot/?query=PADI6+Capra+Hircus&sort=score', 'https://www.uniprot.org/uniprot/?query=RCC2+Capra+Hircus&sort=score', 'https://www.uniprot.org/uniprot/?query=LOC108638510+Capra+Hircus&sort=score', 'https://www.uniprot.org/uniprot/?query=LOC108637086+Capra+Hircus&sort=score', 'https://www.uniprot.org/uniprot/?query=LOC102173345+Capra+Hircus&sort=score', 'https://www.uniprot.org/uniprot/?query=LOC106503868+Capra+Hircus&sort=score', 'https://www.uniprot.org/uniprot/?query=LOC108633797+Capra+Hircus&sort=score', 'https://www.uniprot.org/uniprot/?query=LOC106503869+Capra+Hircus&sort=score', 'https://www.uniprot.org/uniprot/?query=LOC106503865+Capra+Hircus&sort=score', 'https://www.uniprot.org/uniprot/?query=LOC108633799+Capra+Hircus&sort=score', 'https://www.uniprot.org/uniprot/?query=LOC106503913+Capra+Hircus&sort=score', 'https://www.uniprot.org/uniprot/?query=LOC108633801+Capra+Hircus&sort=score', 'https://www.uniprot.org/uniprot/?query=LOC108633800+Capra+Hircus&sort=score', 'https://www.uniprot.org/uniprot/?query=LOC102182746+Capra+Hircus&sort=score', 'https://www.uniprot.org/uniprot/?query=LOC108633805+Capra+Hircus&sort=score', 'https://www.uniprot.org/uniprot/?query=LOC108633806+Capra+Hircus&sort=score', 'https://www.uniprot.org/uniprot/?query=LOC108633807+Capra+Hircus&sort=score', 'https://www.uniprot.org/uniprot/?query=ING5+Capra+Hircus&sort=score', 'https://www.uniprot.org/uniprot/?query=DTYMK+Capra+Hircus&sort=score', 'https://www.uniprot.org/uniprot/?query=ATG4B+Capra+Hircus&sort=score', 'https://www.uniprot.org/uniprot/?query=THAP4+Capra+Hircus&sort=score', 'https://www.uniprot.org/uniprot/?query=LOC106502005+Capra+Hircus&sort=score', 'https://www.uniprot.org/uniprot/?query=BOK+Capra+Hircus&sort=score', 'https://www.uniprot.org/uniprot/?query=STK25+Capra+Hircus&sort=score', 'https://www.uniprot.org/uniprot/?query=FARP2+Capra+Hircus&sort=score', 'https://www.uniprot.org/uniprot/?query=SEPTIN2+Capra+Hircus&sort=score', 'https://www.uniprot.org/uniprot/?query=HDLBP+Capra+Hircus&sort=score', 'https://www.uniprot.org/uniprot/?query=ANO7+Capra+Hircus&sort=score', 'https://www.uniprot.org/uniprot/?query=PPP1R7+Capra+Hircus&sort=score', 'https://www.uniprot.org/uniprot/?query=PASK+Capra+Hircus&sort=score', 'https://www.uniprot.org/uniprot/?query=MTERF4+Capra+Hircus&sort=score', 'https://www.uniprot.org/uniprot/?query=SNED1+Capra+Hircus&sort=score', 'https://www.uniprot.org/uniprot/?query=CROCC2+Capra+Hircus&sort=score', 'https://www.uniprot.org/uniprot/?query=LOC108633853+Capra+Hircus&sort=score', 'https://www.uniprot.org/uniprot/?query=RNF32+Capra+Hircus&sort=score', 'https://www.uniprot.org/uniprot/?query=LOC106502075+Capra+Hircus&sort=score', 'https://www.uniprot.org/uniprot/?query=SHH+Capra+Hircus&sort=score', 'https://www.uniprot.org/uniprot/?query=RBM33+Capra+Hircus&sort=score', 'https://www.uniprot.org/uniprot/?query=CNPY1+Capra+Hircus&sort=score', 'https://www.uniprot.org/uniprot/?query=EN2+Capra+Hircus&sort=score', 'https://www.uniprot.org/uniprot/?query=LOC106502073+Capra+Hircus&sort=score', 'https://www.uniprot.org/uniprot/?query=INSIG1+Capra+Hircus&sort=score', 'https://www.uniprot.org/uniprot/?query=HTR5A+Capra+Hircus&sort=score', 'https://www.uniprot.org/uniprot/?query=PAXIP1+Capra+Hircus&sort=score', 'https://www.uniprot.org/uniprot/?query=DPP6+Capra+Hircus&sort=score', 'https://www.uniprot.org/uniprot/?query=LOC102183393+Capra+Hircus&sort=score', 'https://www.uniprot.org/uniprot/?query=GALNT11+Capra+Hircus&sort=score', 'https://www.uniprot.org/uniprot/?query=GALNTL5+Capra+Hircus&sort=score', 'https://www.uniprot.org/uniprot/?query=PRKAG2+Capra+Hircus&sort=score', 'https://www.uniprot.org/uniprot/?query=TRC-GCA7-1+Capra+Hircus&sort=score', 'https://www.uniprot.org/uniprot/?query=RHEB+Capra+Hircus&sort=score', 'https://www.uniprot.org/uniprot/?query=CRYGN+Capra+Hircus&sort=score', 'https://www.uniprot.org/uniprot/?query=WDR86+Capra+Hircus&sort=score', 'https://www.uniprot.org/uniprot/?query=NUB1+Capra+Hircus&sort=score', 'https://www.uniprot.org/uniprot/?query=SMARCD3+Capra+Hircus&sort=score', 'https://www.uniprot.org/uniprot/?query=LOC108635818+Capra+Hircus&sort=score', 'https://www.uniprot.org/uniprot/?query=MIR671+Capra+Hircus&sort=score', 'https://www.uniprot.org/uniprot/?query=ABCF2+Capra+Hircus&sort=score', 'https://www.uniprot.org/uniprot/?query=LOC102188114+Capra+Hircus&sort=score', 'https://www.uniprot.org/uniprot/?query=IQCA1L+Capra+Hircus&sort=score', 'https://www.uniprot.org/uniprot/?query=ASB10+Capra+Hircus&sort=score', 'https://www.uniprot.org/uniprot/?query=GBX1+Capra+Hircus&sort=score', 'https://www.uniprot.org/uniprot/?query=AGAP3+Capra+Hircus&sort=score', 'https://www.uniprot.org/uniprot/?query=NCKAP1L+Capra+Hircus&sort=score', 'https://www.uniprot.org/uniprot/?query=GTSF1+Capra+Hircus&sort=score', 'https://www.uniprot.org/uniprot/?query=ITGA5+Capra+Hircus&sort=score', 'https://www.uniprot.org/uniprot/?query=ZNF385A+Capra+Hircus&sort=score', 'https://www.uniprot.org/uniprot/?query=GPR84+Capra+Hircus&sort=score', 'https://www.uniprot.org/uniprot/?query=COPZ1+Capra+Hircus&sort=score', 'https://www.uniprot.org/uniprot/?query=MIR148B+Capra+Hircus&sort=score', 'https://www.uniprot.org/uniprot/?query=NFE2+Capra+Hircus&sort=score', 'https://www.uniprot.org/uniprot/?query=HNRNPA1+Capra+Hircus&sort=score', 'https://www.uniprot.org/uniprot/?query=CBX5+Capra+Hircus&sort=score', 'https://www.uniprot.org/uniprot/?query=SMUG1+Capra+Hircus&sort=score', 'https://www.uniprot.org/uniprot/?query=LOC106502088+Capra+Hircus&sort=score', 'https://www.uniprot.org/uniprot/?query=HOXC4+Capra+Hircus&sort=score', 'https://www.uniprot.org/uniprot/?query=HOXC5+Capra+Hircus&sort=score', 'https://www.uniprot.org/uniprot/?query=HOXC6+Capra+Hircus&sort=score', 'https://www.uniprot.org/uniprot/?query=HOXC8+Capra+Hircus&sort=score', 'https://www.uniprot.org/uniprot/?query=LOC108635995+Capra+Hircus&sort=score', 'https://www.uniprot.org/uniprot/?query=HOXC9+Capra+Hircus&sort=score', 'https://www.uniprot.org/uniprot/?query=LOC102190854+Capra+Hircus&sort=score', 'https://www.uniprot.org/uniprot/?query=HOXC10+Capra+Hircus&sort=score', 'https://www.uniprot.org/uniprot/?query=HOXC11+Capra+Hircus&sort=score', 'https://www.uniprot.org/uniprot/?query=HOXC12+Capra+Hircus&sort=score', 'https://www.uniprot.org/uniprot/?query=HOXC13+Capra+Hircus&sort=score', 'https://www.uniprot.org/uniprot/?query=LOC102178515+Capra+Hircus&sort=score', 'https://www.uniprot.org/uniprot/?query=LOC102178797+Capra+Hircus&sort=score', 'https://www.uniprot.org/uniprot/?query=CALCOCO1+Capra+Hircus&sort=score', 'https://www.uniprot.org/uniprot/?query=LOC106502089+Capra+Hircus&sort=score', 'https://www.uniprot.org/uniprot/?query=ATP5G2+Capra+Hircus&sort=score', 'https://www.uniprot.org/uniprot/?query=LOC102169075+Capra+Hircus&sort=score', 'https://www.uniprot.org/uniprot/?query=GPRIN3+Capra+Hircus&sort=score', 'https://www.uniprot.org/uniprot/?query=TIGD2+Capra+Hircus&sort=score', 'https://www.uniprot.org/uniprot/?query=FAM13A+Capra+Hircus&sort=score', 'https://www.uniprot.org/uniprot/?query=HERC3+Capra+Hircus&sort=score', 'https://www.uniprot.org/uniprot/?query=NAP1L5+Capra+Hircus&sort=score', 'https://www.uniprot.org/uniprot/?query=PYURF+Capra+Hircus&sort=score', 'https://www.uniprot.org/uniprot/?query=PIGY+Capra+Hircus&sort=score', 'https://www.uniprot.org/uniprot/?query=HERC5+Capra+Hircus&sort=score', 'https://www.uniprot.org/uniprot/?query=LOC106502196+Capra+Hircus&sort=score', 'https://www.uniprot.org/uniprot/?query=HERC6+Capra+Hircus&sort=score', 'https://www.uniprot.org/uniprot/?query=LOC108636216+Capra+Hircus&sort=score', 'https://www.uniprot.org/uniprot/?query=PPM1K+Capra+Hircus&sort=score', 'https://www.uniprot.org/uniprot/?query=ABCG2+Capra+Hircus&sort=score', 'https://www.uniprot.org/uniprot/?query=PKD2+Capra+Hircus&sort=score', 'https://www.uniprot.org/uniprot/?query=SPP1+Capra+Hircus&sort=score', 'https://www.uniprot.org/uniprot/?query=MEPE+Capra+Hircus&sort=score', 'https://www.uniprot.org/uniprot/?query=IBSP+Capra+Hircus&sort=score', 'https://www.uniprot.org/uniprot/?query=LOC102176111+Capra+Hircus&sort=score', 'https://www.uniprot.org/uniprot/?query=TRNAA-CGC+Capra+Hircus&sort=score', 'https://www.uniprot.org/uniprot/?query=LAP3+Capra+Hircus&sort=score', 'https://www.uniprot.org/uniprot/?query=MED28+Capra+Hircus&sort=score', 'https://www.uniprot.org/uniprot/?query=FAM184B+Capra+Hircus&sort=score', 'https://www.uniprot.org/uniprot/?query=LOC106502187+Capra+Hircus&sort=score', 'https://www.uniprot.org/uniprot/?query=DCAF16+Capra+Hircus&sort=score', 'https://www.uniprot.org/uniprot/?query=NCAPG+Capra+Hircus&sort=score', 'https://www.uniprot.org/uniprot/?query=LCORL+Capra+Hircus&sort=score', 'https://www.uniprot.org/uniprot/?query=LOC102178056+Capra+Hircus&sort=score', 'https://www.uniprot.org/uniprot/?query=LOC102190868+Capra+Hircus&sort=score', 'https://www.uniprot.org/uniprot/?query=FBXL17+Capra+Hircus&sort=score', 'https://www.uniprot.org/uniprot/?query=LOC102184996+Capra+Hircus&sort=score', 'https://www.uniprot.org/uniprot/?query=EFNA5+Capra+Hircus&sort=score', 'https://www.uniprot.org/uniprot/?query=LOC106502373+Capra+Hircus&sort=score', 'https://www.uniprot.org/uniprot/?query=LOC108636347+Capra+Hircus&sort=score', 'https://www.uniprot.org/uniprot/?query=LOC102170226+Capra+Hircus&sort=score', 'https://www.uniprot.org/uniprot/?query=GLRA1+Capra+Hircus&sort=score', 'https://www.uniprot.org/uniprot/?query=G3BP1+Capra+Hircus&sort=score', 'https://www.uniprot.org/uniprot/?query=ATOX1+Capra+Hircus&sort=score', 'https://www.uniprot.org/uniprot/?query=SPARC+Capra+Hircus&sort=score', 'https://www.uniprot.org/uniprot/?query=FAT2+Capra+Hircus&sort=score', 'https://www.uniprot.org/uniprot/?query=LOC102191423+Capra+Hircus&sort=score', 'https://www.uniprot.org/uniprot/?query=SLC36A2+Capra+Hircus&sort=score', 'https://www.uniprot.org/uniprot/?query=LOC102174838+Capra+Hircus&sort=score', 'https://www.uniprot.org/uniprot/?query=GM2A+Capra+Hircus&sort=score', 'https://www.uniprot.org/uniprot/?query=CCDC69+Capra+Hircus&sort=score', 'https://www.uniprot.org/uniprot/?query=ANXA6+Capra+Hircus&sort=score', 'https://www.uniprot.org/uniprot/?query=TNIP1+Capra+Hircus&sort=score', 'https://www.uniprot.org/uniprot/?query=GPX3+Capra+Hircus&sort=score', 'https://www.uniprot.org/uniprot/?query=ZNF300+Capra+Hircus&sort=score', 'https://www.uniprot.org/uniprot/?query=LOC106502342+Capra+Hircus&sort=score', 'https://www.uniprot.org/uniprot/?query=SMIM3+Capra+Hircus&sort=score', 'https://www.uniprot.org/uniprot/?query=DCTN4+Capra+Hircus&sort=score', 'https://www.uniprot.org/uniprot/?query=RBM22+Capra+Hircus&sort=score', 'https://www.uniprot.org/uniprot/?query=MYOZ3+Capra+Hircus&sort=score', 'https://www.uniprot.org/uniprot/?query=SYNPO+Capra+Hircus&sort=score', 'https://www.uniprot.org/uniprot/?query=LOC102182592+Capra+Hircus&sort=score', 'https://www.uniprot.org/uniprot/?query=SLC24A2+Capra+Hircus&sort=score', 'https://www.uniprot.org/uniprot/?query=ACER2+Capra+Hircus&sort=score', 'https://www.uniprot.org/uniprot/?query=RPS6+Capra+Hircus&sort=score', 'https://www.uniprot.org/uniprot/?query=DENND4C+Capra+Hircus&sort=score', 'https://www.uniprot.org/uniprot/?query=LOC102184341+Capra+Hircus&sort=score', 'https://www.uniprot.org/uniprot/?query=LOC108636651+Capra+Hircus&sort=score', 'https://www.uniprot.org/uniprot/?query=PLIN2+Capra+Hircus&sort=score', 'https://www.uniprot.org/uniprot/?query=HAUS6+Capra+Hircus&sort=score', 'https://www.uniprot.org/uniprot/?query=LOC102169668+Capra+Hircus&sort=score', 'https://www.uniprot.org/uniprot/?query=TRNAC-GCA+Capra+Hircus&sort=score', 'https://www.uniprot.org/uniprot/?query=RRAGA+Capra+Hircus&sort=score', 'https://www.uniprot.org/uniprot/?query=SAXO1+Capra+Hircus&sort=score', 'https://www.uniprot.org/uniprot/?query=ADAMTSL1+Capra+Hircus&sort=score', 'https://www.uniprot.org/uniprot/?query=RIC1+Capra+Hircus&sort=score', 'https://www.uniprot.org/uniprot/?query=LOC108636599+Capra+Hircus&sort=score', 'https://www.uniprot.org/uniprot/?query=LOC106502403+Capra+Hircus&sort=score', 'https://www.uniprot.org/uniprot/?query=PDCD1LG2+Capra+Hircus&sort=score', 'https://www.uniprot.org/uniprot/?query=LOC108636553+Capra+Hircus&sort=score', 'https://www.uniprot.org/uniprot/?query=LOC102175576+Capra+Hircus&sort=score', 'https://www.uniprot.org/uniprot/?query=CD274+Capra+Hircus&sort=score', 'https://www.uniprot.org/uniprot/?query=PLGRKT+Capra+Hircus&sort=score', 'https://www.uniprot.org/uniprot/?query=INSL6+Capra+Hircus&sort=score', 'https://www.uniprot.org/uniprot/?query=JAK2+Capra+Hircus&sort=score', 'https://www.uniprot.org/uniprot/?query=RCL1+Capra+Hircus&sort=score', 'https://www.uniprot.org/uniprot/?query=AK3+Capra+Hircus&sort=score', 'https://www.uniprot.org/uniprot/?query=CDC37L1+Capra+Hircus&sort=score', 'https://www.uniprot.org/uniprot/?query=LOC102181499+Capra+Hircus&sort=score', 'https://www.uniprot.org/uniprot/?query=PLPP6+Capra+Hircus&sort=score', 'https://www.uniprot.org/uniprot/?query=TRNAL-CAA+Capra+Hircus&sort=score', 'https://www.uniprot.org/uniprot/?query=LOC102189482+Capra+Hircus&sort=score', 'https://www.uniprot.org/uniprot/?query=OSTM1+Capra+Hircus&sort=score', 'https://www.uniprot.org/uniprot/?query=SEC63+Capra+Hircus&sort=score', 'https://www.uniprot.org/uniprot/?query=SCML4+Capra+Hircus&sort=score', 'https://www.uniprot.org/uniprot/?query=SOBP+Capra+Hircus&sort=score', 'https://www.uniprot.org/uniprot/?query=PDSS2+Capra+Hircus&sort=score', 'https://www.uniprot.org/uniprot/?query=BEND3+Capra+Hircus&sort=score', 'https://www.uniprot.org/uniprot/?query=C9H6orf203+Capra+Hircus&sort=score', 'https://www.uniprot.org/uniprot/?query=LOC102180126+Capra+Hircus&sort=score', 'https://www.uniprot.org/uniprot/?query=CD24+Capra+Hircus&sort=score', 'https://www.uniprot.org/uniprot/?query=QRSL1+Capra+Hircus&sort=score', 'https://www.uniprot.org/uniprot/?query=RTN4IP1+Capra+Hircus&sort=score', 'https://www.uniprot.org/uniprot/?query=CRYBG1+Capra+Hircus&sort=score', 'https://www.uniprot.org/uniprot/?query=ATG5+Capra+Hircus&sort=score', 'https://www.uniprot.org/uniprot/?query=LOC102180942+Capra+Hircus&sort=score', 'https://www.uniprot.org/uniprot/?query=PRDM1+Capra+Hircus&sort=score', 'https://www.uniprot.org/uniprot/?query=LOC102181500+Capra+Hircus&sort=score', 'https://www.uniprot.org/uniprot/?query=SGK1+Capra+Hircus&sort=score', 'https://www.uniprot.org/uniprot/?query=LOC102177441+Capra+Hircus&sort=score', 'https://www.uniprot.org/uniprot/?query=LOC102171073+Capra+Hircus&sort=score', 'https://www.uniprot.org/uniprot/?query=LOC106502481+Capra+Hircus&sort=score', 'https://www.uniprot.org/uniprot/?query=ALDH8A1+Capra+Hircus&sort=score', 'https://www.uniprot.org/uniprot/?query=HBS1L+Capra+Hircus&sort=score', 'https://www.uniprot.org/uniprot/?query=MYB+Capra+Hircus&sort=score', 'https://www.uniprot.org/uniprot/?query=AHI1+Capra+Hircus&sort=score', 'https://www.uniprot.org/uniprot/?query=PDE7B+Capra+Hircus&sort=score', 'https://www.uniprot.org/uniprot/?query=EIF3J+Capra+Hircus&sort=score', 'https://www.uniprot.org/uniprot/?query=CTDSPL2+Capra+Hircus&sort=score', 'https://www.uniprot.org/uniprot/?query=LOC108636916+Capra+Hircus&sort=score', 'https://www.uniprot.org/uniprot/?query=GOLM2+Capra+Hircus&sort=score', 'https://www.uniprot.org/uniprot/?query=RPS6KA5+Capra+Hircus&sort=score', 'https://www.uniprot.org/uniprot/?query=TTC7B+Capra+Hircus&sort=score', 'https://www.uniprot.org/uniprot/?query=LOC108636918+Capra+Hircus&sort=score', 'https://www.uniprot.org/uniprot/?query=CALM1+Capra+Hircus&sort=score', 'https://www.uniprot.org/uniprot/?query=NRDE2+Capra+Hircus&sort=score', 'https://www.uniprot.org/uniprot/?query=PSMC1+Capra+Hircus&sort=score', 'https://www.uniprot.org/uniprot/?query=KCNK13+Capra+Hircus&sort=score', 'https://www.uniprot.org/uniprot/?query=TDP1+Capra+Hircus&sort=score', 'https://www.uniprot.org/uniprot/?query=EFCAB11+Capra+Hircus&sort=score', 'https://www.uniprot.org/uniprot/?query=LOC108636919+Capra+Hircus&sort=score', 'https://www.uniprot.org/uniprot/?query=FOXN3+Capra+Hircus&sort=score', 'https://www.uniprot.org/uniprot/?query=LOC102174033+Capra+Hircus&sort=score', 'https://www.uniprot.org/uniprot/?query=LOC102179290+Capra+Hircus&sort=score', 'https://www.uniprot.org/uniprot/?query=ADCK1+Capra+Hircus&sort=score', 'https://www.uniprot.org/uniprot/?query=SNW1+Capra+Hircus&sort=score', 'https://www.uniprot.org/uniprot/?query=SLIRP+Capra+Hircus&sort=score', 'https://www.uniprot.org/uniprot/?query=ALKBH1+Capra+Hircus&sort=score', 'https://www.uniprot.org/uniprot/?query=TRNAW-CCA+Capra+Hircus&sort=score', 'https://www.uniprot.org/uniprot/?query=SPTLC2+Capra+Hircus&sort=score', 'https://www.uniprot.org/uniprot/?query=LOC102179011+Capra+Hircus&sort=score', 'https://www.uniprot.org/uniprot/?query=LOC102172451+Capra+Hircus&sort=score', 'https://www.uniprot.org/uniprot/?query=LOC108636922+Capra+Hircus&sort=score', 'https://www.uniprot.org/uniprot/?query=ISM2+Capra+Hircus&sort=score', 'https://www.uniprot.org/uniprot/?query=AHSA1+Capra+Hircus&sort=score', 'https://www.uniprot.org/uniprot/?query=VIPAS39+Capra+Hircus&sort=score', 'https://www.uniprot.org/uniprot/?query=LOC102171344+Capra+Hircus&sort=score', 'https://www.uniprot.org/uniprot/?query=LOC102171160+Capra+Hircus&sort=score', 'https://www.uniprot.org/uniprot/?query=BCL2L11+Capra+Hircus&sort=score', 'https://www.uniprot.org/uniprot/?query=ACOXL+Capra+Hircus&sort=score', 'https://www.uniprot.org/uniprot/?query=BUB1+Capra+Hircus&sort=score', 'https://www.uniprot.org/uniprot/?query=LOC102171434+Capra+Hircus&sort=score', 'https://www.uniprot.org/uniprot/?query=LOC106502597+Capra+Hircus&sort=score', 'https://www.uniprot.org/uniprot/?query=NPHP1+Capra+Hircus&sort=score', 'https://www.uniprot.org/uniprot/?query=MALL+Capra+Hircus&sort=score', 'https://www.uniprot.org/uniprot/?query=MAL+Capra+Hircus&sort=score', 'https://www.uniprot.org/uniprot/?query=LOC102172271+Capra+Hircus&sort=score', 'https://www.uniprot.org/uniprot/?query=MRPS5+Capra+Hircus&sort=score', 'https://www.uniprot.org/uniprot/?query=LOC102173309+Capra+Hircus&sort=score', 'https://www.uniprot.org/uniprot/?query=ZNF514+Capra+Hircus&sort=score', 'https://www.uniprot.org/uniprot/?query=ZNF2+Capra+Hircus&sort=score', 'https://www.uniprot.org/uniprot/?query=LOC106502594+Capra+Hircus&sort=score', 'https://www.uniprot.org/uniprot/?query=PROM2+Capra+Hircus&sort=score', 'https://www.uniprot.org/uniprot/?query=KCNIP3+Capra+Hircus&sort=score', 'https://www.uniprot.org/uniprot/?query=LOC102175132+Capra+Hircus&sort=score', 'https://www.uniprot.org/uniprot/?query=GPAT2+Capra+Hircus&sort=score', 'https://www.uniprot.org/uniprot/?query=ADRA2B+Capra+Hircus&sort=score', 'https://www.uniprot.org/uniprot/?query=ASTL+Capra+Hircus&sort=score', 'https://www.uniprot.org/uniprot/?query=DUSP2+Capra+Hircus&sort=score', 'https://www.uniprot.org/uniprot/?query=STARD7+Capra+Hircus&sort=score', 'https://www.uniprot.org/uniprot/?query=LOC108637128+Capra+Hircus&sort=score', 'https://www.uniprot.org/uniprot/?query=TMEM127+Capra+Hircus&sort=score', 'https://www.uniprot.org/uniprot/?query=CIAO1+Capra+Hircus&sort=score', 'https://www.uniprot.org/uniprot/?query=SNRNP200+Capra+Hircus&sort=score', 'https://www.uniprot.org/uniprot/?query=LOC102168554+Capra+Hircus&sort=score', 'https://www.uniprot.org/uniprot/?query=TMTC4+Capra+Hircus&sort=score', 'https://www.uniprot.org/uniprot/?query=GGACT+Capra+Hircus&sort=score', 'https://www.uniprot.org/uniprot/?query=PCCA+Capra+Hircus&sort=score', 'https://www.uniprot.org/uniprot/?query=LOC102191345+Capra+Hircus&sort=score', 'https://www.uniprot.org/uniprot/?query=ZIC2+Capra+Hircus&sort=score', 'https://www.uniprot.org/uniprot/?query=ZIC5+Capra+Hircus&sort=score', 'https://www.uniprot.org/uniprot/?query=CLYBL+Capra+Hircus&sort=score', 'https://www.uniprot.org/uniprot/?query=TRNAG-CCC+Capra+Hircus&sort=score', 'https://www.uniprot.org/uniprot/?query=TM9SF2+Capra+Hircus&sort=score', 'https://www.uniprot.org/uniprot/?query=LOC108637269+Capra+Hircus&sort=score', 'https://www.uniprot.org/uniprot/?query=LOC102178740+Capra+Hircus&sort=score', 'https://www.uniprot.org/uniprot/?query=UBAC2+Capra+Hircus&sort=score', 'https://www.uniprot.org/uniprot/?query=LOC102177727+Capra+Hircus&sort=score', 'https://www.uniprot.org/uniprot/?query=GPR18+Capra+Hircus&sort=score', 'https://www.uniprot.org/uniprot/?query=DOCK9+Capra+Hircus&sort=score', 'https://www.uniprot.org/uniprot/?query=SLC15A1+Capra+Hircus&sort=score', 'https://www.uniprot.org/uniprot/?query=STK24+Capra+Hircus&sort=score', 'https://www.uniprot.org/uniprot/?query=FARP1+Capra+Hircus&sort=score', 'https://www.uniprot.org/uniprot/?query=ATP12A+Capra+Hircus&sort=score', 'https://www.uniprot.org/uniprot/?query=RNF17+Capra+Hircus&sort=score', 'https://www.uniprot.org/uniprot/?query=LOC102174219+Capra+Hircus&sort=score', 'https://www.uniprot.org/uniprot/?query=CENPJ+Capra+Hircus&sort=score', 'https://www.uniprot.org/uniprot/?query=LOC102173478+Capra+Hircus&sort=score', 'https://www.uniprot.org/uniprot/?query=PARP4+Capra+Hircus&sort=score', 'https://www.uniprot.org/uniprot/?query=MPHOSPH8+Capra+Hircus&sort=score', 'https://www.uniprot.org/uniprot/?query=LOC108637349+Capra+Hircus&sort=score', 'https://www.uniprot.org/uniprot/?query=SPTLC3+Capra+Hircus&sort=score', 'https://www.uniprot.org/uniprot/?query=ISM1+Capra+Hircus&sort=score', 'https://www.uniprot.org/uniprot/?query=TASP1+Capra+Hircus&sort=score', 'https://www.uniprot.org/uniprot/?query=ESF1+Capra+Hircus&sort=score', 'https://www.uniprot.org/uniprot/?query=NDUFAF5+Capra+Hircus&sort=score', 'https://www.uniprot.org/uniprot/?query=SEL1L2+Capra+Hircus&sort=score', 'https://www.uniprot.org/uniprot/?query=LOC102186409+Capra+Hircus&sort=score', 'https://www.uniprot.org/uniprot/?query=MACROD2+Capra+Hircus&sort=score', 'https://www.uniprot.org/uniprot/?query=KIF16B+Capra+Hircus&sort=score', 'https://www.uniprot.org/uniprot/?query=SNRPB2+Capra+Hircus&sort=score', 'https://www.uniprot.org/uniprot/?query=OTOR+Capra+Hircus&sort=score', 'https://www.uniprot.org/uniprot/?query=LOC102170614+Capra+Hircus&sort=score', 'https://www.uniprot.org/uniprot/?query=NANP+Capra+Hircus&sort=score', 'https://www.uniprot.org/uniprot/?query=NINL+Capra+Hircus&sort=score', 'https://www.uniprot.org/uniprot/?query=LOC102171438+Capra+Hircus&sort=score', 'https://www.uniprot.org/uniprot/?query=FBH1+Capra+Hircus&sort=score', 'https://www.uniprot.org/uniprot/?query=IL15RA+Capra+Hircus&sort=score', 'https://www.uniprot.org/uniprot/?query=IL2RA+Capra+Hircus&sort=score', 'https://www.uniprot.org/uniprot/?query=LOC102169883+Capra+Hircus&sort=score', 'https://www.uniprot.org/uniprot/?query=RBM17+Capra+Hircus&sort=score', 'https://www.uniprot.org/uniprot/?query=PFKFB3+Capra+Hircus&sort=score', 'https://www.uniprot.org/uniprot/?query=PRKCQ+Capra+Hircus&sort=score', 'https://www.uniprot.org/uniprot/?query=TRNAF-GAA+Capra+Hircus&sort=score', 'https://www.uniprot.org/uniprot/?query=SFMBT2+Capra+Hircus&sort=score', 'https://www.uniprot.org/uniprot/?query=BAMBI+Capra+Hircus&sort=score', 'https://www.uniprot.org/uniprot/?query=WAC+Capra+Hircus&sort=score', 'https://www.uniprot.org/uniprot/?query=LOC102168462+Capra+Hircus&sort=score', 'https://www.uniprot.org/uniprot/?query=LOC108637364+Capra+Hircus&sort=score', 'https://www.uniprot.org/uniprot/?query=RPL30+Capra+Hircus&sort=score', 'https://www.uniprot.org/uniprot/?query=ERICH5+Capra+Hircus&sort=score', 'https://www.uniprot.org/uniprot/?query=RIDA+Capra+Hircus&sort=score', 'https://www.uniprot.org/uniprot/?query=POP1+Capra+Hircus&sort=score', 'https://www.uniprot.org/uniprot/?query=NIPAL2+Capra+Hircus&sort=score', 'https://www.uniprot.org/uniprot/?query=LOC102179113+Capra+Hircus&sort=score', 'https://www.uniprot.org/uniprot/?query=KCNS2+Capra+Hircus&sort=score', 'https://www.uniprot.org/uniprot/?query=STK3+Capra+Hircus&sort=score', 'https://www.uniprot.org/uniprot/?query=OSR2+Capra+Hircus&sort=score', 'https://www.uniprot.org/uniprot/?query=LOC108637491+Capra+Hircus&sort=score', 'https://www.uniprot.org/uniprot/?query=VPS13B+Capra+Hircus&sort=score', 'https://www.uniprot.org/uniprot/?query=LOC108637516+Capra+Hircus&sort=score', 'https://www.uniprot.org/uniprot/?query=LOC108637517+Capra+Hircus&sort=score', 'https://www.uniprot.org/uniprot/?query=LOC108637473+Capra+Hircus&sort=score', 'https://www.uniprot.org/uniprot/?query=RGS22+Capra+Hircus&sort=score', 'https://www.uniprot.org/uniprot/?query=LOC106502865+Capra+Hircus&sort=score', 'https://www.uniprot.org/uniprot/?query=FBXO43+Capra+Hircus&sort=score', 'https://www.uniprot.org/uniprot/?query=POLR2K+Capra+Hircus&sort=score', 'https://www.uniprot.org/uniprot/?query=SPAG1+Capra+Hircus&sort=score', 'https://www.uniprot.org/uniprot/?query=RNF19A+Capra+Hircus&sort=score', 'https://www.uniprot.org/uniprot/?query=LOC108637518+Capra+Hircus&sort=score', 'https://www.uniprot.org/uniprot/?query=ANKRD46+Capra+Hircus&sort=score', 'https://www.uniprot.org/uniprot/?query=SNX31+Capra+Hircus&sort=score', 'https://www.uniprot.org/uniprot/?query=PABPC1+Capra+Hircus&sort=score', 'https://www.uniprot.org/uniprot/?query=LOC102175495+Capra+Hircus&sort=score', 'https://www.uniprot.org/uniprot/?query=YWHAZ+Capra+Hircus&sort=score', 'https://www.uniprot.org/uniprot/?query=ZNF706+Capra+Hircus&sort=score', 'https://www.uniprot.org/uniprot/?query=LOC102169117+Capra+Hircus&sort=score', 'https://www.uniprot.org/uniprot/?query=LOC102178926+Capra+Hircus&sort=score', 'https://www.uniprot.org/uniprot/?query=LOC102178644+Capra+Hircus&sort=score', 'https://www.uniprot.org/uniprot/?query=LOC102178378+Capra+Hircus&sort=score', 'https://www.uniprot.org/uniprot/?query=LOC102178094+Capra+Hircus&sort=score', 'https://www.uniprot.org/uniprot/?query=LOC102168843+Capra+Hircus&sort=score', 'https://www.uniprot.org/uniprot/?query=LOC102168560+Capra+Hircus&sort=score', 'https://www.uniprot.org/uniprot/?query=LOC102168280+Capra+Hircus&sort=score', 'https://www.uniprot.org/uniprot/?query=LOC102177822+Capra+Hircus&sort=score', 'https://www.uniprot.org/uniprot/?query=LOC108637605+Capra+Hircus&sort=score', 'https://www.uniprot.org/uniprot/?query=LOC102177548+Capra+Hircus&sort=score', 'https://www.uniprot.org/uniprot/?query=LOC102191634+Capra+Hircus&sort=score', 'https://www.uniprot.org/uniprot/?query=LOC102177262+Capra+Hircus&sort=score', 'https://www.uniprot.org/uniprot/?query=LOC102191355+Capra+Hircus&sort=score', 'https://www.uniprot.org/uniprot/?query=LOC102176713+Capra+Hircus&sort=score', 'https://www.uniprot.org/uniprot/?query=LOC102176984+Capra+Hircus&sort=score', 'https://www.uniprot.org/uniprot/?query=LOC102191066+Capra+Hircus&sort=score', 'https://www.uniprot.org/uniprot/?query=LOC102176444+Capra+Hircus&sort=score', 'https://www.uniprot.org/uniprot/?query=LOC102190805+Capra+Hircus&sort=score', 'https://www.uniprot.org/uniprot/?query=LOC102176149+Capra+Hircus&sort=score', 'https://www.uniprot.org/uniprot/?query=LOC102190535+Capra+Hircus&sort=score', 'https://www.uniprot.org/uniprot/?query=LOC102175879+Capra+Hircus&sort=score', 'https://www.uniprot.org/uniprot/?query=LOC102190247+Capra+Hircus&sort=score', 'https://www.uniprot.org/uniprot/?query=LOC102189977+Capra+Hircus&sort=score', 'https://www.uniprot.org/uniprot/?query=LOC102175603+Capra+Hircus&sort=score', 'https://www.uniprot.org/uniprot/?query=LOC102175320+Capra+Hircus&sort=score', 'https://www.uniprot.org/uniprot/?query=LOC102175048+Capra+Hircus&sort=score', 'https://www.uniprot.org/uniprot/?query=LOC102189696+Capra+Hircus&sort=score', 'https://www.uniprot.org/uniprot/?query=PTPRJ+Capra+Hircus&sort=score', 'https://www.uniprot.org/uniprot/?query=PLD5+Capra+Hircus&sort=score', 'https://www.uniprot.org/uniprot/?query=BECN2+Capra+Hircus&sort=score', 'https://www.uniprot.org/uniprot/?query=MAP1LC3C+Capra+Hircus&sort=score', 'https://www.uniprot.org/uniprot/?query=EXO1+Capra+Hircus&sort=score', 'https://www.uniprot.org/uniprot/?query=WDR64+Capra+Hircus&sort=score', 'https://www.uniprot.org/uniprot/?query=LOC102176544+Capra+Hircus&sort=score', 'https://www.uniprot.org/uniprot/?query=CHML+Capra+Hircus&sort=score', 'https://www.uniprot.org/uniprot/?query=OPN3+Capra+Hircus&sort=score', 'https://www.uniprot.org/uniprot/?query=KMO+Capra+Hircus&sort=score', 'https://www.uniprot.org/uniprot/?query=FH+Capra+Hircus&sort=score', 'https://www.uniprot.org/uniprot/?query=RGS7+Capra+Hircus&sort=score', 'https://www.uniprot.org/uniprot/?query=LOC108637770+Capra+Hircus&sort=score', 'https://www.uniprot.org/uniprot/?query=LOC102189780+Capra+Hircus&sort=score', 'https://www.uniprot.org/uniprot/?query=LOC102190717+Capra+Hircus&sort=score', 'https://www.uniprot.org/uniprot/?query=LOC102190981+Capra+Hircus&sort=score', 'https://www.uniprot.org/uniprot/?query=SELP+Capra+Hircus&sort=score', 'https://www.uniprot.org/uniprot/?query=SELL+Capra+Hircus&sort=score', 'https://www.uniprot.org/uniprot/?query=SELE+Capra+Hircus&sort=score', 'https://www.uniprot.org/uniprot/?query=METTL18+Capra+Hircus&sort=score', 'https://www.uniprot.org/uniprot/?query=C16H1orf112+Capra+Hircus&sort=score', 'https://www.uniprot.org/uniprot/?query=LOC106502954+Capra+Hircus&sort=score', 'https://www.uniprot.org/uniprot/?query=SCYL3+Capra+Hircus&sort=score', 'https://www.uniprot.org/uniprot/?query=KIFAP3+Capra+Hircus&sort=score', 'https://www.uniprot.org/uniprot/?query=METTL11B+Capra+Hircus&sort=score', 'https://www.uniprot.org/uniprot/?query=LOC108637754+Capra+Hircus&sort=score', 'https://www.uniprot.org/uniprot/?query=GORAB+Capra+Hircus&sort=score', 'https://www.uniprot.org/uniprot/?query=PRRX1+Capra+Hircus&sort=score', 'https://www.uniprot.org/uniprot/?query=MROH9+Capra+Hircus&sort=score', 'https://www.uniprot.org/uniprot/?query=LOC102173111+Capra+Hircus&sort=score', 'https://www.uniprot.org/uniprot/?query=SFI1+Capra+Hircus&sort=score', 'https://www.uniprot.org/uniprot/?query=LOC102173595+Capra+Hircus&sort=score', 'https://www.uniprot.org/uniprot/?query=EIF4ENIF1+Capra+Hircus&sort=score', 'https://www.uniprot.org/uniprot/?query=DRG1+Capra+Hircus&sort=score', 'https://www.uniprot.org/uniprot/?query=PATZ1+Capra+Hircus&sort=score', 'https://www.uniprot.org/uniprot/?query=PIK3IP1+Capra+Hircus&sort=score', 'https://www.uniprot.org/uniprot/?query=LIMK2+Capra+Hircus&sort=score', 'https://www.uniprot.org/uniprot/?query=LOC108637845+Capra+Hircus&sort=score', 'https://www.uniprot.org/uniprot/?query=CRKL+Capra+Hircus&sort=score', 'https://www.uniprot.org/uniprot/?query=LOC108637844+Capra+Hircus&sort=score', 'https://www.uniprot.org/uniprot/?query=RNF185+Capra+Hircus&sort=score', 'https://www.uniprot.org/uniprot/?query=PLA2G3+Capra+Hircus&sort=score', 'https://www.uniprot.org/uniprot/?query=INPP5J+Capra+Hircus&sort=score', 'https://www.uniprot.org/uniprot/?query=LOC102171091+Capra+Hircus&sort=score', 'https://www.uniprot.org/uniprot/?query=SMTN+Capra+Hircus&sort=score', 'https://www.uniprot.org/uniprot/?query=LOC106503045+Capra+Hircus&sort=score', 'https://www.uniprot.org/uniprot/?query=LOC102169320+Capra+Hircus&sort=score', 'https://www.uniprot.org/uniprot/?query=MORC2+Capra+Hircus&sort=score', 'https://www.uniprot.org/uniprot/?query=OSBP2+Capra+Hircus&sort=score', 'https://www.uniprot.org/uniprot/?query=C17H5orf52+Capra+Hircus&sort=score', 'https://www.uniprot.org/uniprot/?query=DUSP18+Capra+Hircus&sort=score', 'https://www.uniprot.org/uniprot/?query=SLC35E4+Capra+Hircus&sort=score', 'https://www.uniprot.org/uniprot/?query=TCN2+Capra+Hircus&sort=score', 'https://www.uniprot.org/uniprot/?query=PES1+Capra+Hircus&sort=score', 'https://www.uniprot.org/uniprot/?query=GAL3ST1+Capra+Hircus&sort=score', 'https://www.uniprot.org/uniprot/?query=LOC102190250+Capra+Hircus&sort=score', 'https://www.uniprot.org/uniprot/?query=LOC102169408+Capra+Hircus&sort=score', 'https://www.uniprot.org/uniprot/?query=SEC14L3+Capra+Hircus&sort=score', 'https://www.uniprot.org/uniprot/?query=MTFP1+Capra+Hircus&sort=score', 'https://www.uniprot.org/uniprot/?query=LOC102180147+Capra+Hircus&sort=score', 'https://www.uniprot.org/uniprot/?query=LOC106503091+Capra+Hircus&sort=score', 'https://www.uniprot.org/uniprot/?query=CHD9+Capra+Hircus&sort=score', 'https://www.uniprot.org/uniprot/?query=LOC108637966+Capra+Hircus&sort=score', 'https://www.uniprot.org/uniprot/?query=RBL2+Capra+Hircus&sort=score', 'https://www.uniprot.org/uniprot/?query=AKTIP+Capra+Hircus&sort=score', 'https://www.uniprot.org/uniprot/?query=LOC102182337+Capra+Hircus&sort=score', 'https://www.uniprot.org/uniprot/?query=RPGRIP1L+Capra+Hircus&sort=score', 'https://www.uniprot.org/uniprot/?query=FTO+Capra+Hircus&sort=score', 'https://www.uniprot.org/uniprot/?query=TRNAG-UCC+Capra+Hircus&sort=score', 'https://www.uniprot.org/uniprot/?query=LOC102183093+Capra+Hircus&sort=score', 'https://www.uniprot.org/uniprot/?query=IRX3+Capra+Hircus&sort=score', 'https://www.uniprot.org/uniprot/?query=LOC102183995+Capra+Hircus&sort=score', 'https://www.uniprot.org/uniprot/?query=LOC102184183+Capra+Hircus&sort=score', 'https://www.uniprot.org/uniprot/?query=IRX5+Capra+Hircus&sort=score', 'https://www.uniprot.org/uniprot/?query=LOC102173770+Capra+Hircus&sort=score', 'https://www.uniprot.org/uniprot/?query=LOC108638060+Capra+Hircus&sort=score', 'https://www.uniprot.org/uniprot/?query=CDH5+Capra+Hircus&sort=score', 'https://www.uniprot.org/uniprot/?query=BEAN1+Capra+Hircus&sort=score', 'https://www.uniprot.org/uniprot/?query=LOC102173495+Capra+Hircus&sort=score', 'https://www.uniprot.org/uniprot/?query=TK2+Capra+Hircus&sort=score', 'https://www.uniprot.org/uniprot/?query=LOC102173772+Capra+Hircus&sort=score', 'https://www.uniprot.org/uniprot/?query=CMTM2+Capra+Hircus&sort=score', 'https://www.uniprot.org/uniprot/?query=CMTM3+Capra+Hircus&sort=score', 'https://www.uniprot.org/uniprot/?query=CMTM4+Capra+Hircus&sort=score', 'https://www.uniprot.org/uniprot/?query=DYNC1LI2+Capra+Hircus&sort=score', 'https://www.uniprot.org/uniprot/?query=TERB1+Capra+Hircus&sort=score', 'https://www.uniprot.org/uniprot/?query=NAE1+Capra+Hircus&sort=score']\n"
     ]
    }
   ],
   "source": [
    "urls=[]\n",
    "for i in range(0,len(p)):\n",
    "       urls.append(\"https://www.uniprot.org/uniprot/?query=\"+p[i]+\"+Capra+Hircus&sort=score\")\n",
    "print(urls)"
   ]
  },
  {
   "cell_type": "markdown",
   "metadata": {},
   "source": [
    "### Datos no encontrados : \n",
    "Al revisar los links extraidos anteriormente, observamos que algunos genes de la data original, no estan registrados en la pagina [UniProt](\"https://www.uniprot.org/\"). Por ende, buscaremos mediante el paquete **BeautifulSoup**, aquellos que muestren _Datos no encontrados_ los asociaremos directamente ingresandolos a una lista que llamaremos B, como un dato de tipo _Nonetype (NaN)_.  \n",
    "De esa forma, la lista de nuestros datos totales, se centra especificamente en aquellos que si presenten resultados."
   ]
  },
  {
   "cell_type": "code",
   "execution_count": 7,
   "metadata": {},
   "outputs": [
    {
     "name": "stdout",
     "output_type": "stream",
     "text": [
      "['NaN', 'NaN', 'NaN', 'NaN', 'NaN', ' ', ' ', ' ', ' ', 'NaN', ' ', ' ', 'NaN', ' ', ' ', 'NaN', ' ', ' ', ' ', ' ', 'NaN', ' ', ' ', ' ', ' ', ' ', ' ', ' ', ' ', 'NaN', 'NaN', ' ', ' ', ' ', 'NaN', ' ', 'NaN', ' ', ' ', ' ', 'NaN', ' ', ' ', ' ', ' ', 'NaN', ' ', ' ', 'NaN', ' ', ' ', 'NaN', 'NaN', ' ', ' ', 'NaN', 'NaN', 'NaN', 'NaN', 'NaN', 'NaN', 'NaN', 'NaN', 'NaN', 'NaN', ' ', 'NaN', 'NaN', 'NaN', 'NaN', ' ', ' ', ' ', ' ', 'NaN', ' ', ' ', ' ', ' ', ' ', 'NaN', ' ', ' ', ' ', ' ', 'NaN', 'NaN', ' ', 'NaN', ' ', ' ', ' ', ' ', 'NaN', ' ', ' ', ' ', ' ', 'NaN', ' ', ' ', ' ', 'NaN', ' ', ' ', ' ', ' ', ' ', 'NaN', 'NaN', ' ', 'NaN', ' ', ' ', ' ', ' ', ' ', ' ', ' ', ' ', ' ', ' ', 'NaN', ' ', ' ', ' ', ' ', 'NaN', ' ', ' ', ' ', ' ', 'NaN', ' ', 'NaN', ' ', ' ', ' ', ' ', 'NaN', 'NaN', ' ', 'NaN', 'NaN', 'NaN', ' ', ' ', ' ', ' ', ' ', ' ', ' ', ' ', 'NaN', ' ', 'NaN', ' ', ' ', ' ', ' ', ' ', ' ', ' ', 'NaN', ' ', ' ', ' ', 'NaN', ' ', ' ', ' ', 'NaN', 'NaN', ' ', 'NaN', ' ', 'NaN', 'NaN', 'NaN', ' ', ' ', 'NaN', ' ', ' ', 'NaN', ' ', 'NaN', ' ', ' ', ' ', ' ', ' ', ' ', 'NaN', ' ', ' ', ' ', ' ', ' ', ' ', ' ', ' ', ' ', ' ', 'NaN', 'NaN', ' ', ' ', ' ', 'NaN', ' ', ' ', ' ', ' ', 'NaN', 'NaN', ' ', 'NaN', 'NaN', ' ', ' ', ' ', ' ', ' ', ' ', ' ', 'NaN', ' ', 'NaN', 'NaN', ' ', ' ', ' ', ' ', ' ', ' ', 'NaN', 'NaN', ' ', ' ', ' ', ' ', ' ', 'NaN', ' ', 'NaN', ' ', 'NaN', 'NaN', 'NaN', ' ', ' ', ' ', ' ', ' ', ' ', ' ', 'NaN', ' ', ' ', ' ', 'NaN', ' ', ' ', ' ', 'NaN', ' ', ' ', 'NaN', ' ', 'NaN', 'NaN', ' ', ' ', ' ', ' ', 'NaN', ' ', 'NaN', 'NaN', 'NaN', 'NaN', ' ', ' ', 'NaN', 'NaN', ' ', 'NaN', ' ', ' ', 'NaN', ' ', ' ', ' ', ' ', ' ', 'NaN', ' ', ' ', 'NaN', ' ', ' ', 'NaN', ' ', ' ', ' ', ' ', ' ', 'NaN', ' ', ' ', ' ', 'NaN', ' ', ' ', ' ', 'NaN', ' ', ' ', ' ', 'NaN', ' ', 'NaN', ' ', ' ', 'NaN', ' ', ' ', ' ', ' ', ' ', ' ', ' ', 'NaN', ' ', 'NaN', ' ', ' ', 'NaN', ' ', ' ', ' ', ' ', ' ', ' ', 'NaN', 'NaN', ' ', ' ', ' ', 'NaN', ' ', ' ', 'NaN', ' ', ' ', ' ', 'NaN', ' ', ' ', ' ', 'NaN', ' ', ' ', ' ', 'NaN', 'NaN', ' ', 'NaN', ' ', ' ', ' ', ' ', ' ', ' ', ' ', 'NaN', ' ', ' ', 'NaN', 'NaN', ' ', 'NaN', ' ', ' ', ' ', ' ', 'NaN', ' ', ' ', ' ', 'NaN', ' ', ' ', 'NaN', 'NaN', 'NaN', 'NaN', 'NaN', 'NaN', 'NaN', 'NaN', 'NaN', 'NaN', ' ', 'NaN', ' ', ' ', 'NaN', 'NaN', ' ', 'NaN', ' ', ' ', ' ', ' ', 'NaN', 'NaN', ' ', ' ', ' ', ' ', ' ', ' ', 'NaN', ' ', ' ', ' ', 'NaN', ' ', ' ', ' ', ' ', ' ', 'NaN', 'NaN', ' ', ' ', ' ', ' ', ' ', ' ', 'NaN', 'NaN', ' ', ' ', ' ', 'NaN', ' ', ' ', 'NaN', 'NaN', ' ', ' ', ' ', ' ', ' ', ' ', ' ', 'NaN', ' ', 'NaN', ' ', ' ', ' ', 'NaN', ' ', 'NaN', 'NaN', ' ', ' ', 'NaN', ' ', ' ', ' ', ' ', ' ', 'NaN', 'NaN', ' ', ' ', 'NaN', 'NaN', ' ', 'NaN', ' ', ' ', ' ', ' ', ' ', 'NaN', 'NaN', ' ', 'NaN', 'NaN', ' ', 'NaN', 'NaN', ' ', ' ', 'NaN', ' ', 'NaN', ' ', ' ', ' ', ' ', ' ', ' ']\n"
     ]
    }
   ],
   "source": [
    "resl=0\n",
    "B=[]\n",
    "for i in range(len(urls)):\n",
    "    requ = Request(urls[i], headers={'User-Agent': 'Mozilla/5.0'})\n",
    "    subpage = urlopen(requ).read()\n",
    "    pagesoup=soup(subpage, \"html.parser\")\n",
    "    resl = pagesoup.find(\"div\",{\"class\":\"content results\"}).h2\n",
    "    if resl == None:\n",
    "        B.append(\" \")\n",
    "    elif resl != None:\n",
    "        B.append(\"NaN\")\n",
    "print(B)"
   ]
  },
  {
   "cell_type": "markdown",
   "metadata": {},
   "source": [
    "### Creando las listas del tamaño de la muestra extraida:\n",
    "Ahora observamos que el modelo del csv pedido, son 8 columnas las solicitadas, que son : \n",
    "+ GeneBrev\n",
    "+ Entry\n",
    "+ Entry name\n",
    "+ Protein\n",
    "+ Gene\n",
    "+ Organism\n",
    "+ Status\n",
    "+ GO - Biological process   \n",
    "\n",
    "Crearemos lista, con cada uno de los nombres solicitados, de longitud de la lista con los datos sin duplicados, recorreremos mediante un bucle la lista B, de manera que repliquemos los datos no encontrados en cada uno de las listas creadas. "
   ]
  },
  {
   "cell_type": "code",
   "execution_count": 8,
   "metadata": {},
   "outputs": [
    {
     "name": "stdout",
     "output_type": "stream",
     "text": [
      "['NaN', 'NaN', 'NaN', 'NaN', 'NaN', ' ', ' ', ' ', ' ', 'NaN', ' ', ' ', 'NaN', ' ', ' ', 'NaN', ' ', ' ', ' ', ' ', 'NaN', ' ', ' ', ' ', ' ', ' ', ' ', ' ', ' ', 'NaN', 'NaN', ' ', ' ', ' ', 'NaN', ' ', 'NaN', ' ', ' ', ' ', 'NaN', ' ', ' ', ' ', ' ', 'NaN', ' ', ' ', 'NaN', ' ', ' ', 'NaN', 'NaN', ' ', ' ', 'NaN', 'NaN', 'NaN', 'NaN', 'NaN', 'NaN', 'NaN', 'NaN', 'NaN', 'NaN', ' ', 'NaN', 'NaN', 'NaN', 'NaN', ' ', ' ', ' ', ' ', 'NaN', ' ', ' ', ' ', ' ', ' ', 'NaN', ' ', ' ', ' ', ' ', 'NaN', 'NaN', ' ', 'NaN', ' ', ' ', ' ', ' ', 'NaN', ' ', ' ', ' ', ' ', 'NaN', ' ', ' ', ' ', 'NaN', ' ', ' ', ' ', ' ', ' ', 'NaN', 'NaN', ' ', 'NaN', ' ', ' ', ' ', ' ', ' ', ' ', ' ', ' ', ' ', ' ', 'NaN', ' ', ' ', ' ', ' ', 'NaN', ' ', ' ', ' ', ' ', 'NaN', ' ', 'NaN', ' ', ' ', ' ', ' ', 'NaN', 'NaN', ' ', 'NaN', 'NaN', 'NaN', ' ', ' ', ' ', ' ', ' ', ' ', ' ', ' ', 'NaN', ' ', 'NaN', ' ', ' ', ' ', ' ', ' ', ' ', ' ', 'NaN', ' ', ' ', ' ', 'NaN', ' ', ' ', ' ', 'NaN', 'NaN', ' ', 'NaN', ' ', 'NaN', 'NaN', 'NaN', ' ', ' ', 'NaN', ' ', ' ', 'NaN', ' ', 'NaN', ' ', ' ', ' ', ' ', ' ', ' ', 'NaN', ' ', ' ', ' ', ' ', ' ', ' ', ' ', ' ', ' ', ' ', 'NaN', 'NaN', ' ', ' ', ' ', 'NaN', ' ', ' ', ' ', ' ', 'NaN', 'NaN', ' ', 'NaN', 'NaN', ' ', ' ', ' ', ' ', ' ', ' ', ' ', 'NaN', ' ', 'NaN', 'NaN', ' ', ' ', ' ', ' ', ' ', ' ', 'NaN', 'NaN', ' ', ' ', ' ', ' ', ' ', 'NaN', ' ', 'NaN', ' ', 'NaN', 'NaN', 'NaN', ' ', ' ', ' ', ' ', ' ', ' ', ' ', 'NaN', ' ', ' ', ' ', 'NaN', ' ', ' ', ' ', 'NaN', ' ', ' ', 'NaN', ' ', 'NaN', 'NaN', ' ', ' ', ' ', ' ', 'NaN', ' ', 'NaN', 'NaN', 'NaN', 'NaN', ' ', ' ', 'NaN', 'NaN', ' ', 'NaN', ' ', ' ', 'NaN', ' ', ' ', ' ', ' ', ' ', 'NaN', ' ', ' ', 'NaN', ' ', ' ', 'NaN', ' ', ' ', ' ', ' ', ' ', 'NaN', ' ', ' ', ' ', 'NaN', ' ', ' ', ' ', 'NaN', ' ', ' ', ' ', 'NaN', ' ', 'NaN', ' ', ' ', 'NaN', ' ', ' ', ' ', ' ', ' ', ' ', ' ', 'NaN', ' ', 'NaN', ' ', ' ', 'NaN', ' ', ' ', ' ', ' ', ' ', ' ', 'NaN', 'NaN', ' ', ' ', ' ', 'NaN', ' ', ' ', 'NaN', ' ', ' ', ' ', 'NaN', ' ', ' ', ' ', 'NaN', ' ', ' ', ' ', 'NaN', 'NaN', ' ', 'NaN', ' ', ' ', ' ', ' ', ' ', ' ', ' ', 'NaN', ' ', ' ', 'NaN', 'NaN', ' ', 'NaN', ' ', ' ', ' ', ' ', 'NaN', ' ', ' ', ' ', 'NaN', ' ', ' ', 'NaN', 'NaN', 'NaN', 'NaN', 'NaN', 'NaN', 'NaN', 'NaN', 'NaN', 'NaN', ' ', 'NaN', ' ', ' ', 'NaN', 'NaN', ' ', 'NaN', ' ', ' ', ' ', ' ', 'NaN', 'NaN', ' ', ' ', ' ', ' ', ' ', ' ', 'NaN', ' ', ' ', ' ', 'NaN', ' ', ' ', ' ', ' ', ' ', 'NaN', 'NaN', ' ', ' ', ' ', ' ', ' ', ' ', 'NaN', 'NaN', ' ', ' ', ' ', 'NaN', ' ', ' ', 'NaN', 'NaN', ' ', ' ', ' ', ' ', ' ', ' ', ' ', 'NaN', ' ', 'NaN', ' ', ' ', ' ', 'NaN', ' ', 'NaN', 'NaN', ' ', ' ', 'NaN', ' ', ' ', ' ', ' ', ' ', 'NaN', 'NaN', ' ', ' ', 'NaN', 'NaN', ' ', 'NaN', ' ', ' ', ' ', ' ', ' ', 'NaN', 'NaN', ' ', 'NaN', 'NaN', ' ', 'NaN', 'NaN', ' ', ' ', 'NaN', ' ', 'NaN', ' ', ' ', ' ', ' ', ' ', ' ']\n",
      "['NaN', 'NaN', 'NaN', 'NaN', 'NaN', ' ', ' ', ' ', ' ', 'NaN', ' ', ' ', 'NaN', ' ', ' ', 'NaN', ' ', ' ', ' ', ' ', 'NaN', ' ', ' ', ' ', ' ', ' ', ' ', ' ', ' ', 'NaN', 'NaN', ' ', ' ', ' ', 'NaN', ' ', 'NaN', ' ', ' ', ' ', 'NaN', ' ', ' ', ' ', ' ', 'NaN', ' ', ' ', 'NaN', ' ', ' ', 'NaN', 'NaN', ' ', ' ', 'NaN', 'NaN', 'NaN', 'NaN', 'NaN', 'NaN', 'NaN', 'NaN', 'NaN', 'NaN', ' ', 'NaN', 'NaN', 'NaN', 'NaN', ' ', ' ', ' ', ' ', 'NaN', ' ', ' ', ' ', ' ', ' ', 'NaN', ' ', ' ', ' ', ' ', 'NaN', 'NaN', ' ', 'NaN', ' ', ' ', ' ', ' ', 'NaN', ' ', ' ', ' ', ' ', 'NaN', ' ', ' ', ' ', 'NaN', ' ', ' ', ' ', ' ', ' ', 'NaN', 'NaN', ' ', 'NaN', ' ', ' ', ' ', ' ', ' ', ' ', ' ', ' ', ' ', ' ', 'NaN', ' ', ' ', ' ', ' ', 'NaN', ' ', ' ', ' ', ' ', 'NaN', ' ', 'NaN', ' ', ' ', ' ', ' ', 'NaN', 'NaN', ' ', 'NaN', 'NaN', 'NaN', ' ', ' ', ' ', ' ', ' ', ' ', ' ', ' ', 'NaN', ' ', 'NaN', ' ', ' ', ' ', ' ', ' ', ' ', ' ', 'NaN', ' ', ' ', ' ', 'NaN', ' ', ' ', ' ', 'NaN', 'NaN', ' ', 'NaN', ' ', 'NaN', 'NaN', 'NaN', ' ', ' ', 'NaN', ' ', ' ', 'NaN', ' ', 'NaN', ' ', ' ', ' ', ' ', ' ', ' ', 'NaN', ' ', ' ', ' ', ' ', ' ', ' ', ' ', ' ', ' ', ' ', 'NaN', 'NaN', ' ', ' ', ' ', 'NaN', ' ', ' ', ' ', ' ', 'NaN', 'NaN', ' ', 'NaN', 'NaN', ' ', ' ', ' ', ' ', ' ', ' ', ' ', 'NaN', ' ', 'NaN', 'NaN', ' ', ' ', ' ', ' ', ' ', ' ', 'NaN', 'NaN', ' ', ' ', ' ', ' ', ' ', 'NaN', ' ', 'NaN', ' ', 'NaN', 'NaN', 'NaN', ' ', ' ', ' ', ' ', ' ', ' ', ' ', 'NaN', ' ', ' ', ' ', 'NaN', ' ', ' ', ' ', 'NaN', ' ', ' ', 'NaN', ' ', 'NaN', 'NaN', ' ', ' ', ' ', ' ', 'NaN', ' ', 'NaN', 'NaN', 'NaN', 'NaN', ' ', ' ', 'NaN', 'NaN', ' ', 'NaN', ' ', ' ', 'NaN', ' ', ' ', ' ', ' ', ' ', 'NaN', ' ', ' ', 'NaN', ' ', ' ', 'NaN', ' ', ' ', ' ', ' ', ' ', 'NaN', ' ', ' ', ' ', 'NaN', ' ', ' ', ' ', 'NaN', ' ', ' ', ' ', 'NaN', ' ', 'NaN', ' ', ' ', 'NaN', ' ', ' ', ' ', ' ', ' ', ' ', ' ', 'NaN', ' ', 'NaN', ' ', ' ', 'NaN', ' ', ' ', ' ', ' ', ' ', ' ', 'NaN', 'NaN', ' ', ' ', ' ', 'NaN', ' ', ' ', 'NaN', ' ', ' ', ' ', 'NaN', ' ', ' ', ' ', 'NaN', ' ', ' ', ' ', 'NaN', 'NaN', ' ', 'NaN', ' ', ' ', ' ', ' ', ' ', ' ', ' ', 'NaN', ' ', ' ', 'NaN', 'NaN', ' ', 'NaN', ' ', ' ', ' ', ' ', 'NaN', ' ', ' ', ' ', 'NaN', ' ', ' ', 'NaN', 'NaN', 'NaN', 'NaN', 'NaN', 'NaN', 'NaN', 'NaN', 'NaN', 'NaN', ' ', 'NaN', ' ', ' ', 'NaN', 'NaN', ' ', 'NaN', ' ', ' ', ' ', ' ', 'NaN', 'NaN', ' ', ' ', ' ', ' ', ' ', ' ', 'NaN', ' ', ' ', ' ', 'NaN', ' ', ' ', ' ', ' ', ' ', 'NaN', 'NaN', ' ', ' ', ' ', ' ', ' ', ' ', 'NaN', 'NaN', ' ', ' ', ' ', 'NaN', ' ', ' ', 'NaN', 'NaN', ' ', ' ', ' ', ' ', ' ', ' ', ' ', 'NaN', ' ', 'NaN', ' ', ' ', ' ', 'NaN', ' ', 'NaN', 'NaN', ' ', ' ', 'NaN', ' ', ' ', ' ', ' ', ' ', 'NaN', 'NaN', ' ', ' ', 'NaN', 'NaN', ' ', 'NaN', ' ', ' ', ' ', ' ', ' ', 'NaN', 'NaN', ' ', 'NaN', 'NaN', ' ', 'NaN', 'NaN', ' ', ' ', 'NaN', ' ', 'NaN', ' ', ' ', ' ', ' ', ' ', ' ']\n",
      "['NaN', 'NaN', 'NaN', 'NaN', 'NaN', ' ', ' ', ' ', ' ', 'NaN', ' ', ' ', 'NaN', ' ', ' ', 'NaN', ' ', ' ', ' ', ' ', 'NaN', ' ', ' ', ' ', ' ', ' ', ' ', ' ', ' ', 'NaN', 'NaN', ' ', ' ', ' ', 'NaN', ' ', 'NaN', ' ', ' ', ' ', 'NaN', ' ', ' ', ' ', ' ', 'NaN', ' ', ' ', 'NaN', ' ', ' ', 'NaN', 'NaN', ' ', ' ', 'NaN', 'NaN', 'NaN', 'NaN', 'NaN', 'NaN', 'NaN', 'NaN', 'NaN', 'NaN', ' ', 'NaN', 'NaN', 'NaN', 'NaN', ' ', ' ', ' ', ' ', 'NaN', ' ', ' ', ' ', ' ', ' ', 'NaN', ' ', ' ', ' ', ' ', 'NaN', 'NaN', ' ', 'NaN', ' ', ' ', ' ', ' ', 'NaN', ' ', ' ', ' ', ' ', 'NaN', ' ', ' ', ' ', 'NaN', ' ', ' ', ' ', ' ', ' ', 'NaN', 'NaN', ' ', 'NaN', ' ', ' ', ' ', ' ', ' ', ' ', ' ', ' ', ' ', ' ', 'NaN', ' ', ' ', ' ', ' ', 'NaN', ' ', ' ', ' ', ' ', 'NaN', ' ', 'NaN', ' ', ' ', ' ', ' ', 'NaN', 'NaN', ' ', 'NaN', 'NaN', 'NaN', ' ', ' ', ' ', ' ', ' ', ' ', ' ', ' ', 'NaN', ' ', 'NaN', ' ', ' ', ' ', ' ', ' ', ' ', ' ', 'NaN', ' ', ' ', ' ', 'NaN', ' ', ' ', ' ', 'NaN', 'NaN', ' ', 'NaN', ' ', 'NaN', 'NaN', 'NaN', ' ', ' ', 'NaN', ' ', ' ', 'NaN', ' ', 'NaN', ' ', ' ', ' ', ' ', ' ', ' ', 'NaN', ' ', ' ', ' ', ' ', ' ', ' ', ' ', ' ', ' ', ' ', 'NaN', 'NaN', ' ', ' ', ' ', 'NaN', ' ', ' ', ' ', ' ', 'NaN', 'NaN', ' ', 'NaN', 'NaN', ' ', ' ', ' ', ' ', ' ', ' ', ' ', 'NaN', ' ', 'NaN', 'NaN', ' ', ' ', ' ', ' ', ' ', ' ', 'NaN', 'NaN', ' ', ' ', ' ', ' ', ' ', 'NaN', ' ', 'NaN', ' ', 'NaN', 'NaN', 'NaN', ' ', ' ', ' ', ' ', ' ', ' ', ' ', 'NaN', ' ', ' ', ' ', 'NaN', ' ', ' ', ' ', 'NaN', ' ', ' ', 'NaN', ' ', 'NaN', 'NaN', ' ', ' ', ' ', ' ', 'NaN', ' ', 'NaN', 'NaN', 'NaN', 'NaN', ' ', ' ', 'NaN', 'NaN', ' ', 'NaN', ' ', ' ', 'NaN', ' ', ' ', ' ', ' ', ' ', 'NaN', ' ', ' ', 'NaN', ' ', ' ', 'NaN', ' ', ' ', ' ', ' ', ' ', 'NaN', ' ', ' ', ' ', 'NaN', ' ', ' ', ' ', 'NaN', ' ', ' ', ' ', 'NaN', ' ', 'NaN', ' ', ' ', 'NaN', ' ', ' ', ' ', ' ', ' ', ' ', ' ', 'NaN', ' ', 'NaN', ' ', ' ', 'NaN', ' ', ' ', ' ', ' ', ' ', ' ', 'NaN', 'NaN', ' ', ' ', ' ', 'NaN', ' ', ' ', 'NaN', ' ', ' ', ' ', 'NaN', ' ', ' ', ' ', 'NaN', ' ', ' ', ' ', 'NaN', 'NaN', ' ', 'NaN', ' ', ' ', ' ', ' ', ' ', ' ', ' ', 'NaN', ' ', ' ', 'NaN', 'NaN', ' ', 'NaN', ' ', ' ', ' ', ' ', 'NaN', ' ', ' ', ' ', 'NaN', ' ', ' ', 'NaN', 'NaN', 'NaN', 'NaN', 'NaN', 'NaN', 'NaN', 'NaN', 'NaN', 'NaN', ' ', 'NaN', ' ', ' ', 'NaN', 'NaN', ' ', 'NaN', ' ', ' ', ' ', ' ', 'NaN', 'NaN', ' ', ' ', ' ', ' ', ' ', ' ', 'NaN', ' ', ' ', ' ', 'NaN', ' ', ' ', ' ', ' ', ' ', 'NaN', 'NaN', ' ', ' ', ' ', ' ', ' ', ' ', 'NaN', 'NaN', ' ', ' ', ' ', 'NaN', ' ', ' ', 'NaN', 'NaN', ' ', ' ', ' ', ' ', ' ', ' ', ' ', 'NaN', ' ', 'NaN', ' ', ' ', ' ', 'NaN', ' ', 'NaN', 'NaN', ' ', ' ', 'NaN', ' ', ' ', ' ', ' ', ' ', 'NaN', 'NaN', ' ', ' ', 'NaN', 'NaN', ' ', 'NaN', ' ', ' ', ' ', ' ', ' ', 'NaN', 'NaN', ' ', 'NaN', 'NaN', ' ', 'NaN', 'NaN', ' ', ' ', 'NaN', ' ', 'NaN', ' ', ' ', ' ', ' ', ' ', ' ']\n",
      "['NaN', 'NaN', 'NaN', 'NaN', 'NaN', ' ', ' ', ' ', ' ', 'NaN', ' ', ' ', 'NaN', ' ', ' ', 'NaN', ' ', ' ', ' ', ' ', 'NaN', ' ', ' ', ' ', ' ', ' ', ' ', ' ', ' ', 'NaN', 'NaN', ' ', ' ', ' ', 'NaN', ' ', 'NaN', ' ', ' ', ' ', 'NaN', ' ', ' ', ' ', ' ', 'NaN', ' ', ' ', 'NaN', ' ', ' ', 'NaN', 'NaN', ' ', ' ', 'NaN', 'NaN', 'NaN', 'NaN', 'NaN', 'NaN', 'NaN', 'NaN', 'NaN', 'NaN', ' ', 'NaN', 'NaN', 'NaN', 'NaN', ' ', ' ', ' ', ' ', 'NaN', ' ', ' ', ' ', ' ', ' ', 'NaN', ' ', ' ', ' ', ' ', 'NaN', 'NaN', ' ', 'NaN', ' ', ' ', ' ', ' ', 'NaN', ' ', ' ', ' ', ' ', 'NaN', ' ', ' ', ' ', 'NaN', ' ', ' ', ' ', ' ', ' ', 'NaN', 'NaN', ' ', 'NaN', ' ', ' ', ' ', ' ', ' ', ' ', ' ', ' ', ' ', ' ', 'NaN', ' ', ' ', ' ', ' ', 'NaN', ' ', ' ', ' ', ' ', 'NaN', ' ', 'NaN', ' ', ' ', ' ', ' ', 'NaN', 'NaN', ' ', 'NaN', 'NaN', 'NaN', ' ', ' ', ' ', ' ', ' ', ' ', ' ', ' ', 'NaN', ' ', 'NaN', ' ', ' ', ' ', ' ', ' ', ' ', ' ', 'NaN', ' ', ' ', ' ', 'NaN', ' ', ' ', ' ', 'NaN', 'NaN', ' ', 'NaN', ' ', 'NaN', 'NaN', 'NaN', ' ', ' ', 'NaN', ' ', ' ', 'NaN', ' ', 'NaN', ' ', ' ', ' ', ' ', ' ', ' ', 'NaN', ' ', ' ', ' ', ' ', ' ', ' ', ' ', ' ', ' ', ' ', 'NaN', 'NaN', ' ', ' ', ' ', 'NaN', ' ', ' ', ' ', ' ', 'NaN', 'NaN', ' ', 'NaN', 'NaN', ' ', ' ', ' ', ' ', ' ', ' ', ' ', 'NaN', ' ', 'NaN', 'NaN', ' ', ' ', ' ', ' ', ' ', ' ', 'NaN', 'NaN', ' ', ' ', ' ', ' ', ' ', 'NaN', ' ', 'NaN', ' ', 'NaN', 'NaN', 'NaN', ' ', ' ', ' ', ' ', ' ', ' ', ' ', 'NaN', ' ', ' ', ' ', 'NaN', ' ', ' ', ' ', 'NaN', ' ', ' ', 'NaN', ' ', 'NaN', 'NaN', ' ', ' ', ' ', ' ', 'NaN', ' ', 'NaN', 'NaN', 'NaN', 'NaN', ' ', ' ', 'NaN', 'NaN', ' ', 'NaN', ' ', ' ', 'NaN', ' ', ' ', ' ', ' ', ' ', 'NaN', ' ', ' ', 'NaN', ' ', ' ', 'NaN', ' ', ' ', ' ', ' ', ' ', 'NaN', ' ', ' ', ' ', 'NaN', ' ', ' ', ' ', 'NaN', ' ', ' ', ' ', 'NaN', ' ', 'NaN', ' ', ' ', 'NaN', ' ', ' ', ' ', ' ', ' ', ' ', ' ', 'NaN', ' ', 'NaN', ' ', ' ', 'NaN', ' ', ' ', ' ', ' ', ' ', ' ', 'NaN', 'NaN', ' ', ' ', ' ', 'NaN', ' ', ' ', 'NaN', ' ', ' ', ' ', 'NaN', ' ', ' ', ' ', 'NaN', ' ', ' ', ' ', 'NaN', 'NaN', ' ', 'NaN', ' ', ' ', ' ', ' ', ' ', ' ', ' ', 'NaN', ' ', ' ', 'NaN', 'NaN', ' ', 'NaN', ' ', ' ', ' ', ' ', 'NaN', ' ', ' ', ' ', 'NaN', ' ', ' ', 'NaN', 'NaN', 'NaN', 'NaN', 'NaN', 'NaN', 'NaN', 'NaN', 'NaN', 'NaN', ' ', 'NaN', ' ', ' ', 'NaN', 'NaN', ' ', 'NaN', ' ', ' ', ' ', ' ', 'NaN', 'NaN', ' ', ' ', ' ', ' ', ' ', ' ', 'NaN', ' ', ' ', ' ', 'NaN', ' ', ' ', ' ', ' ', ' ', 'NaN', 'NaN', ' ', ' ', ' ', ' ', ' ', ' ', 'NaN', 'NaN', ' ', ' ', ' ', 'NaN', ' ', ' ', 'NaN', 'NaN', ' ', ' ', ' ', ' ', ' ', ' ', ' ', 'NaN', ' ', 'NaN', ' ', ' ', ' ', 'NaN', ' ', 'NaN', 'NaN', ' ', ' ', 'NaN', ' ', ' ', ' ', ' ', ' ', 'NaN', 'NaN', ' ', ' ', 'NaN', 'NaN', ' ', 'NaN', ' ', ' ', ' ', ' ', ' ', 'NaN', 'NaN', ' ', 'NaN', 'NaN', ' ', 'NaN', 'NaN', ' ', ' ', 'NaN', ' ', 'NaN', ' ', ' ', ' ', ' ', ' ', ' ']\n",
      "['NaN', 'NaN', 'NaN', 'NaN', 'NaN', ' ', ' ', ' ', ' ', 'NaN', ' ', ' ', 'NaN', ' ', ' ', 'NaN', ' ', ' ', ' ', ' ', 'NaN', ' ', ' ', ' ', ' ', ' ', ' ', ' ', ' ', 'NaN', 'NaN', ' ', ' ', ' ', 'NaN', ' ', 'NaN', ' ', ' ', ' ', 'NaN', ' ', ' ', ' ', ' ', 'NaN', ' ', ' ', 'NaN', ' ', ' ', 'NaN', 'NaN', ' ', ' ', 'NaN', 'NaN', 'NaN', 'NaN', 'NaN', 'NaN', 'NaN', 'NaN', 'NaN', 'NaN', ' ', 'NaN', 'NaN', 'NaN', 'NaN', ' ', ' ', ' ', ' ', 'NaN', ' ', ' ', ' ', ' ', ' ', 'NaN', ' ', ' ', ' ', ' ', 'NaN', 'NaN', ' ', 'NaN', ' ', ' ', ' ', ' ', 'NaN', ' ', ' ', ' ', ' ', 'NaN', ' ', ' ', ' ', 'NaN', ' ', ' ', ' ', ' ', ' ', 'NaN', 'NaN', ' ', 'NaN', ' ', ' ', ' ', ' ', ' ', ' ', ' ', ' ', ' ', ' ', 'NaN', ' ', ' ', ' ', ' ', 'NaN', ' ', ' ', ' ', ' ', 'NaN', ' ', 'NaN', ' ', ' ', ' ', ' ', 'NaN', 'NaN', ' ', 'NaN', 'NaN', 'NaN', ' ', ' ', ' ', ' ', ' ', ' ', ' ', ' ', 'NaN', ' ', 'NaN', ' ', ' ', ' ', ' ', ' ', ' ', ' ', 'NaN', ' ', ' ', ' ', 'NaN', ' ', ' ', ' ', 'NaN', 'NaN', ' ', 'NaN', ' ', 'NaN', 'NaN', 'NaN', ' ', ' ', 'NaN', ' ', ' ', 'NaN', ' ', 'NaN', ' ', ' ', ' ', ' ', ' ', ' ', 'NaN', ' ', ' ', ' ', ' ', ' ', ' ', ' ', ' ', ' ', ' ', 'NaN', 'NaN', ' ', ' ', ' ', 'NaN', ' ', ' ', ' ', ' ', 'NaN', 'NaN', ' ', 'NaN', 'NaN', ' ', ' ', ' ', ' ', ' ', ' ', ' ', 'NaN', ' ', 'NaN', 'NaN', ' ', ' ', ' ', ' ', ' ', ' ', 'NaN', 'NaN', ' ', ' ', ' ', ' ', ' ', 'NaN', ' ', 'NaN', ' ', 'NaN', 'NaN', 'NaN', ' ', ' ', ' ', ' ', ' ', ' ', ' ', 'NaN', ' ', ' ', ' ', 'NaN', ' ', ' ', ' ', 'NaN', ' ', ' ', 'NaN', ' ', 'NaN', 'NaN', ' ', ' ', ' ', ' ', 'NaN', ' ', 'NaN', 'NaN', 'NaN', 'NaN', ' ', ' ', 'NaN', 'NaN', ' ', 'NaN', ' ', ' ', 'NaN', ' ', ' ', ' ', ' ', ' ', 'NaN', ' ', ' ', 'NaN', ' ', ' ', 'NaN', ' ', ' ', ' ', ' ', ' ', 'NaN', ' ', ' ', ' ', 'NaN', ' ', ' ', ' ', 'NaN', ' ', ' ', ' ', 'NaN', ' ', 'NaN', ' ', ' ', 'NaN', ' ', ' ', ' ', ' ', ' ', ' ', ' ', 'NaN', ' ', 'NaN', ' ', ' ', 'NaN', ' ', ' ', ' ', ' ', ' ', ' ', 'NaN', 'NaN', ' ', ' ', ' ', 'NaN', ' ', ' ', 'NaN', ' ', ' ', ' ', 'NaN', ' ', ' ', ' ', 'NaN', ' ', ' ', ' ', 'NaN', 'NaN', ' ', 'NaN', ' ', ' ', ' ', ' ', ' ', ' ', ' ', 'NaN', ' ', ' ', 'NaN', 'NaN', ' ', 'NaN', ' ', ' ', ' ', ' ', 'NaN', ' ', ' ', ' ', 'NaN', ' ', ' ', 'NaN', 'NaN', 'NaN', 'NaN', 'NaN', 'NaN', 'NaN', 'NaN', 'NaN', 'NaN', ' ', 'NaN', ' ', ' ', 'NaN', 'NaN', ' ', 'NaN', ' ', ' ', ' ', ' ', 'NaN', 'NaN', ' ', ' ', ' ', ' ', ' ', ' ', 'NaN', ' ', ' ', ' ', 'NaN', ' ', ' ', ' ', ' ', ' ', 'NaN', 'NaN', ' ', ' ', ' ', ' ', ' ', ' ', 'NaN', 'NaN', ' ', ' ', ' ', 'NaN', ' ', ' ', 'NaN', 'NaN', ' ', ' ', ' ', ' ', ' ', ' ', ' ', 'NaN', ' ', 'NaN', ' ', ' ', ' ', 'NaN', ' ', 'NaN', 'NaN', ' ', ' ', 'NaN', ' ', ' ', ' ', ' ', ' ', 'NaN', 'NaN', ' ', ' ', 'NaN', 'NaN', ' ', 'NaN', ' ', ' ', ' ', ' ', ' ', 'NaN', 'NaN', ' ', 'NaN', 'NaN', ' ', 'NaN', 'NaN', ' ', ' ', 'NaN', ' ', 'NaN', ' ', ' ', ' ', ' ', ' ', ' ']\n",
      "['NaN', 'NaN', 'NaN', 'NaN', 'NaN', ' ', ' ', ' ', ' ', 'NaN', ' ', ' ', 'NaN', ' ', ' ', 'NaN', ' ', ' ', ' ', ' ', 'NaN', ' ', ' ', ' ', ' ', ' ', ' ', ' ', ' ', 'NaN', 'NaN', ' ', ' ', ' ', 'NaN', ' ', 'NaN', ' ', ' ', ' ', 'NaN', ' ', ' ', ' ', ' ', 'NaN', ' ', ' ', 'NaN', ' ', ' ', 'NaN', 'NaN', ' ', ' ', 'NaN', 'NaN', 'NaN', 'NaN', 'NaN', 'NaN', 'NaN', 'NaN', 'NaN', 'NaN', ' ', 'NaN', 'NaN', 'NaN', 'NaN', ' ', ' ', ' ', ' ', 'NaN', ' ', ' ', ' ', ' ', ' ', 'NaN', ' ', ' ', ' ', ' ', 'NaN', 'NaN', ' ', 'NaN', ' ', ' ', ' ', ' ', 'NaN', ' ', ' ', ' ', ' ', 'NaN', ' ', ' ', ' ', 'NaN', ' ', ' ', ' ', ' ', ' ', 'NaN', 'NaN', ' ', 'NaN', ' ', ' ', ' ', ' ', ' ', ' ', ' ', ' ', ' ', ' ', 'NaN', ' ', ' ', ' ', ' ', 'NaN', ' ', ' ', ' ', ' ', 'NaN', ' ', 'NaN', ' ', ' ', ' ', ' ', 'NaN', 'NaN', ' ', 'NaN', 'NaN', 'NaN', ' ', ' ', ' ', ' ', ' ', ' ', ' ', ' ', 'NaN', ' ', 'NaN', ' ', ' ', ' ', ' ', ' ', ' ', ' ', 'NaN', ' ', ' ', ' ', 'NaN', ' ', ' ', ' ', 'NaN', 'NaN', ' ', 'NaN', ' ', 'NaN', 'NaN', 'NaN', ' ', ' ', 'NaN', ' ', ' ', 'NaN', ' ', 'NaN', ' ', ' ', ' ', ' ', ' ', ' ', 'NaN', ' ', ' ', ' ', ' ', ' ', ' ', ' ', ' ', ' ', ' ', 'NaN', 'NaN', ' ', ' ', ' ', 'NaN', ' ', ' ', ' ', ' ', 'NaN', 'NaN', ' ', 'NaN', 'NaN', ' ', ' ', ' ', ' ', ' ', ' ', ' ', 'NaN', ' ', 'NaN', 'NaN', ' ', ' ', ' ', ' ', ' ', ' ', 'NaN', 'NaN', ' ', ' ', ' ', ' ', ' ', 'NaN', ' ', 'NaN', ' ', 'NaN', 'NaN', 'NaN', ' ', ' ', ' ', ' ', ' ', ' ', ' ', 'NaN', ' ', ' ', ' ', 'NaN', ' ', ' ', ' ', 'NaN', ' ', ' ', 'NaN', ' ', 'NaN', 'NaN', ' ', ' ', ' ', ' ', 'NaN', ' ', 'NaN', 'NaN', 'NaN', 'NaN', ' ', ' ', 'NaN', 'NaN', ' ', 'NaN', ' ', ' ', 'NaN', ' ', ' ', ' ', ' ', ' ', 'NaN', ' ', ' ', 'NaN', ' ', ' ', 'NaN', ' ', ' ', ' ', ' ', ' ', 'NaN', ' ', ' ', ' ', 'NaN', ' ', ' ', ' ', 'NaN', ' ', ' ', ' ', 'NaN', ' ', 'NaN', ' ', ' ', 'NaN', ' ', ' ', ' ', ' ', ' ', ' ', ' ', 'NaN', ' ', 'NaN', ' ', ' ', 'NaN', ' ', ' ', ' ', ' ', ' ', ' ', 'NaN', 'NaN', ' ', ' ', ' ', 'NaN', ' ', ' ', 'NaN', ' ', ' ', ' ', 'NaN', ' ', ' ', ' ', 'NaN', ' ', ' ', ' ', 'NaN', 'NaN', ' ', 'NaN', ' ', ' ', ' ', ' ', ' ', ' ', ' ', 'NaN', ' ', ' ', 'NaN', 'NaN', ' ', 'NaN', ' ', ' ', ' ', ' ', 'NaN', ' ', ' ', ' ', 'NaN', ' ', ' ', 'NaN', 'NaN', 'NaN', 'NaN', 'NaN', 'NaN', 'NaN', 'NaN', 'NaN', 'NaN', ' ', 'NaN', ' ', ' ', 'NaN', 'NaN', ' ', 'NaN', ' ', ' ', ' ', ' ', 'NaN', 'NaN', ' ', ' ', ' ', ' ', ' ', ' ', 'NaN', ' ', ' ', ' ', 'NaN', ' ', ' ', ' ', ' ', ' ', 'NaN', 'NaN', ' ', ' ', ' ', ' ', ' ', ' ', 'NaN', 'NaN', ' ', ' ', ' ', 'NaN', ' ', ' ', 'NaN', 'NaN', ' ', ' ', ' ', ' ', ' ', ' ', ' ', 'NaN', ' ', 'NaN', ' ', ' ', ' ', 'NaN', ' ', 'NaN', 'NaN', ' ', ' ', 'NaN', ' ', ' ', ' ', ' ', ' ', 'NaN', 'NaN', ' ', ' ', 'NaN', 'NaN', ' ', 'NaN', ' ', ' ', ' ', ' ', ' ', 'NaN', 'NaN', ' ', 'NaN', 'NaN', ' ', 'NaN', 'NaN', ' ', ' ', 'NaN', ' ', 'NaN', ' ', ' ', ' ', ' ', ' ', ' ']\n",
      "['NaN', 'NaN', 'NaN', 'NaN', 'NaN', ' ', ' ', ' ', ' ', 'NaN', ' ', ' ', 'NaN', ' ', ' ', 'NaN', ' ', ' ', ' ', ' ', 'NaN', ' ', ' ', ' ', ' ', ' ', ' ', ' ', ' ', 'NaN', 'NaN', ' ', ' ', ' ', 'NaN', ' ', 'NaN', ' ', ' ', ' ', 'NaN', ' ', ' ', ' ', ' ', 'NaN', ' ', ' ', 'NaN', ' ', ' ', 'NaN', 'NaN', ' ', ' ', 'NaN', 'NaN', 'NaN', 'NaN', 'NaN', 'NaN', 'NaN', 'NaN', 'NaN', 'NaN', ' ', 'NaN', 'NaN', 'NaN', 'NaN', ' ', ' ', ' ', ' ', 'NaN', ' ', ' ', ' ', ' ', ' ', 'NaN', ' ', ' ', ' ', ' ', 'NaN', 'NaN', ' ', 'NaN', ' ', ' ', ' ', ' ', 'NaN', ' ', ' ', ' ', ' ', 'NaN', ' ', ' ', ' ', 'NaN', ' ', ' ', ' ', ' ', ' ', 'NaN', 'NaN', ' ', 'NaN', ' ', ' ', ' ', ' ', ' ', ' ', ' ', ' ', ' ', ' ', 'NaN', ' ', ' ', ' ', ' ', 'NaN', ' ', ' ', ' ', ' ', 'NaN', ' ', 'NaN', ' ', ' ', ' ', ' ', 'NaN', 'NaN', ' ', 'NaN', 'NaN', 'NaN', ' ', ' ', ' ', ' ', ' ', ' ', ' ', ' ', 'NaN', ' ', 'NaN', ' ', ' ', ' ', ' ', ' ', ' ', ' ', 'NaN', ' ', ' ', ' ', 'NaN', ' ', ' ', ' ', 'NaN', 'NaN', ' ', 'NaN', ' ', 'NaN', 'NaN', 'NaN', ' ', ' ', 'NaN', ' ', ' ', 'NaN', ' ', 'NaN', ' ', ' ', ' ', ' ', ' ', ' ', 'NaN', ' ', ' ', ' ', ' ', ' ', ' ', ' ', ' ', ' ', ' ', 'NaN', 'NaN', ' ', ' ', ' ', 'NaN', ' ', ' ', ' ', ' ', 'NaN', 'NaN', ' ', 'NaN', 'NaN', ' ', ' ', ' ', ' ', ' ', ' ', ' ', 'NaN', ' ', 'NaN', 'NaN', ' ', ' ', ' ', ' ', ' ', ' ', 'NaN', 'NaN', ' ', ' ', ' ', ' ', ' ', 'NaN', ' ', 'NaN', ' ', 'NaN', 'NaN', 'NaN', ' ', ' ', ' ', ' ', ' ', ' ', ' ', 'NaN', ' ', ' ', ' ', 'NaN', ' ', ' ', ' ', 'NaN', ' ', ' ', 'NaN', ' ', 'NaN', 'NaN', ' ', ' ', ' ', ' ', 'NaN', ' ', 'NaN', 'NaN', 'NaN', 'NaN', ' ', ' ', 'NaN', 'NaN', ' ', 'NaN', ' ', ' ', 'NaN', ' ', ' ', ' ', ' ', ' ', 'NaN', ' ', ' ', 'NaN', ' ', ' ', 'NaN', ' ', ' ', ' ', ' ', ' ', 'NaN', ' ', ' ', ' ', 'NaN', ' ', ' ', ' ', 'NaN', ' ', ' ', ' ', 'NaN', ' ', 'NaN', ' ', ' ', 'NaN', ' ', ' ', ' ', ' ', ' ', ' ', ' ', 'NaN', ' ', 'NaN', ' ', ' ', 'NaN', ' ', ' ', ' ', ' ', ' ', ' ', 'NaN', 'NaN', ' ', ' ', ' ', 'NaN', ' ', ' ', 'NaN', ' ', ' ', ' ', 'NaN', ' ', ' ', ' ', 'NaN', ' ', ' ', ' ', 'NaN', 'NaN', ' ', 'NaN', ' ', ' ', ' ', ' ', ' ', ' ', ' ', 'NaN', ' ', ' ', 'NaN', 'NaN', ' ', 'NaN', ' ', ' ', ' ', ' ', 'NaN', ' ', ' ', ' ', 'NaN', ' ', ' ', 'NaN', 'NaN', 'NaN', 'NaN', 'NaN', 'NaN', 'NaN', 'NaN', 'NaN', 'NaN', ' ', 'NaN', ' ', ' ', 'NaN', 'NaN', ' ', 'NaN', ' ', ' ', ' ', ' ', 'NaN', 'NaN', ' ', ' ', ' ', ' ', ' ', ' ', 'NaN', ' ', ' ', ' ', 'NaN', ' ', ' ', ' ', ' ', ' ', 'NaN', 'NaN', ' ', ' ', ' ', ' ', ' ', ' ', 'NaN', 'NaN', ' ', ' ', ' ', 'NaN', ' ', ' ', 'NaN', 'NaN', ' ', ' ', ' ', ' ', ' ', ' ', ' ', 'NaN', ' ', 'NaN', ' ', ' ', ' ', 'NaN', ' ', 'NaN', 'NaN', ' ', ' ', 'NaN', ' ', ' ', ' ', ' ', ' ', 'NaN', 'NaN', ' ', ' ', 'NaN', 'NaN', ' ', 'NaN', ' ', ' ', ' ', ' ', ' ', 'NaN', 'NaN', ' ', 'NaN', 'NaN', ' ', 'NaN', 'NaN', ' ', ' ', 'NaN', ' ', 'NaN', ' ', ' ', ' ', ' ', ' ', ' ']\n"
     ]
    }
   ],
   "source": [
    "Entry=[' ']*len(p)\n",
    "Entry_Name=[' ']*len(p)\n",
    "Protein=[' ']*len(p)\n",
    "Gene=[' ']*len(p)\n",
    "Organism=[' ']*len(p)\n",
    "Status=[' ']*len(p)\n",
    "GO_BP=[' ']*len(p)\n",
    "\n",
    "for i in range(len(B)):\n",
    "    if str(B[i]) == \"NaN\":\n",
    "        Entry[i]=\"NaN\"\n",
    "        Entry_Name[i]=\"NaN\"\n",
    "        Protein[i]=\"NaN\"\n",
    "        Gene[i]=\"NaN\"\n",
    "        Organism[i]=\"NaN\"\n",
    "        Status[i]=\"NaN\"\n",
    "        GO_BP[i]=\"NaN\"\n",
    "        \n",
    "print(Entry)\n",
    "print(Entry_Name)\n",
    "print(Protein)\n",
    "print(Gene)\n",
    "print(Organism)\n",
    "print(Status)\n",
    "print(GO_BP)"
   ]
  },
  {
   "cell_type": "markdown",
   "metadata": {},
   "source": [
    "### Extrayendo indices diferentes a NaN :\n",
    "Ahora extraemos los indices de los datos encontrados, es decir, datos diferentes a NaN. Lo almacenamos en una lista de nombre A."
   ]
  },
  {
   "cell_type": "code",
   "execution_count": 9,
   "metadata": {},
   "outputs": [
    {
     "name": "stdout",
     "output_type": "stream",
     "text": [
      "[5, 6, 7, 8, 10, 11, 13, 14, 16, 17, 18, 19, 21, 22, 23, 24, 25, 26, 27, 28, 31, 32, 33, 35, 37, 38, 39, 41, 42, 43, 44, 46, 47, 49, 50, 53, 54, 65, 70, 71, 72, 73, 75, 76, 77, 78, 79, 81, 82, 83, 84, 87, 89, 90, 91, 92, 94, 95, 96, 97, 99, 100, 101, 103, 104, 105, 106, 107, 110, 112, 113, 114, 115, 116, 117, 118, 119, 120, 121, 123, 124, 125, 126, 128, 129, 130, 131, 133, 135, 136, 137, 138, 141, 145, 146, 147, 148, 149, 150, 151, 152, 154, 156, 157, 158, 159, 160, 161, 162, 164, 165, 166, 168, 169, 170, 173, 175, 179, 180, 182, 183, 185, 187, 188, 189, 190, 191, 192, 194, 195, 196, 197, 198, 199, 200, 201, 202, 203, 206, 207, 208, 210, 211, 212, 213, 216, 219, 220, 221, 222, 223, 224, 225, 227, 230, 231, 232, 233, 234, 235, 238, 239, 240, 241, 242, 244, 246, 250, 251, 252, 253, 254, 255, 256, 258, 259, 260, 262, 263, 264, 266, 267, 269, 272, 273, 274, 275, 277, 282, 283, 286, 288, 289, 291, 292, 293, 294, 295, 297, 298, 300, 301, 303, 304, 305, 306, 307, 309, 310, 311, 313, 314, 315, 317, 318, 319, 321, 323, 324, 326, 327, 328, 329, 330, 331, 332, 334, 336, 337, 339, 340, 341, 342, 343, 344, 347, 348, 349, 351, 352, 354, 355, 356, 358, 359, 360, 362, 363, 364, 367, 369, 370, 371, 372, 373, 374, 375, 377, 378, 381, 383, 384, 385, 386, 388, 389, 390, 392, 393, 404, 406, 407, 410, 412, 413, 414, 415, 418, 419, 420, 421, 422, 423, 425, 426, 427, 429, 430, 431, 432, 433, 436, 437, 438, 439, 440, 441, 444, 445, 446, 448, 449, 452, 453, 454, 455, 456, 457, 458, 460, 462, 463, 464, 466, 469, 470, 472, 473, 474, 475, 476, 479, 480, 483, 485, 486, 487, 488, 489, 492, 495, 498, 499, 501, 503, 504, 505, 506, 507, 508]\n"
     ]
    }
   ],
   "source": [
    "A=[]\n",
    "for i in range(len(p)):\n",
    "    if Entry[i]!=\"NaN\":\n",
    "        A.append(i)\n",
    "print(A)"
   ]
  },
  {
   "cell_type": "markdown",
   "metadata": {},
   "source": [
    "### Ingresando los datos a la lista  :\n",
    "Mediante cada elementeo de la lista A y la lista **urls**, haremos uso de la función **Request**, el cual mediante una solicitud de agente de usuario permite a los servidores de la red identificar la aplicación. Lo cual nos servirá para establecer conexión con la pagina y posterirormente extraer los datos.  \n",
    "El **urlopen** nos permité extraer el codigo HTML de la pagina web solicitada.\n",
    "Mediante la función **find**, del paquete de BeautifulSoup, buscaremos el codigo html de nuestro interés, en este caso sería extraer los encabezados de la columna **Entry** y la almacenamos en la lista con el mismo nombre, con su respectivo indice."
   ]
  },
  {
   "cell_type": "code",
   "execution_count": 10,
   "metadata": {},
   "outputs": [
    {
     "name": "stdout",
     "output_type": "stream",
     "text": [
      "['NaN', 'NaN', 'NaN', 'NaN', 'NaN', 'A0A452FI87', 'A0A452EJ84', 'B8YMT5', 'A0A452DP04', 'NaN', 'A0A452EH80', 'A0A452EMC5', 'NaN', 'A0A452G5A1', 'A0A452FPS5', 'NaN', 'A0A452F389', 'A0A452EGT9', 'A0A452G516', 'A0A452F0J2', 'NaN', 'A0A452E679', 'A0A452G381', 'A0A452FHL6', 'A0A452EXQ2', 'A0A452FA09', 'A0A452EHY5', 'A0A452EC95', 'A0A452GAH5', 'NaN', 'NaN', 'A0A452G531', 'A0A452G662', 'A0A452ELN4', 'NaN', 'A0A452ERX4', 'NaN', 'A0A452E148', 'A0A452DRN3', 'A0A452EXA8', 'NaN', 'A0A452EFP7', 'A0A452FZT0', 'A0A452FY48', 'A0A452G2Y3', 'NaN', 'A0A452EG76', 'A0A452F1S1', 'NaN', 'A0A452F6C0', 'A0A452E2U2', 'NaN', 'NaN', 'A0A452EN92', 'A0A452G1K4', 'NaN', 'NaN', 'NaN', 'NaN', 'NaN', 'NaN', 'NaN', 'NaN', 'NaN', 'NaN', 'A0A452DMI4', 'NaN', 'NaN', 'NaN', 'NaN', 'A0A452G205', 'A0A452FX99', 'A0A452F3A1', 'A0A452FEJ6', 'NaN', 'A0A452G7C4', 'A0A452FKF2', 'A0A452GB91', 'A0A452G8J5', 'A0A452FND3', 'NaN', 'A0A452EBZ0', 'A0A452DTW1', 'A0A452FL45', 'A0A452FI39', 'NaN', 'NaN', 'A0A452FAS8', 'NaN', 'A0A452FUF0', 'A0A452ED38', 'A0A452E798', 'A0A452G830', 'NaN', 'A0A452FSQ1', 'A0A452E9I6', 'A0A452DUU6', 'A0A452DT82', 'NaN', 'A0A452G8Y3', 'A0A452F827', 'A0A452FWT4', 'NaN', 'A0A452F082', 'A0A452GB80', 'A0A452F4T6', 'A0A452E239', 'A0A452G138', 'NaN', 'NaN', 'A0A452G3X5', 'NaN', 'A0A452F3B7', 'A0A452EHY3', 'A0A452FDI3', 'A0A452EGC7', 'A0A452E1C1', 'A0A452FFW8', 'A7Y3X8', 'A0A452EVM1', 'A0A452DNN8', 'A0A452DYC8', 'NaN', 'A0A0A7MB97', 'A0A452G1G3', 'A0A452G643', 'A0A452E1S1', 'NaN', 'A0A452G5S3', 'A0A452DSG0', 'A0A452EG86', 'A0A1S5UZS7', 'NaN', 'A0A452ESK7', 'NaN', 'A0A452DTC4', 'A0A452G1W3', 'A0A452DUA8', 'A0A2S1UF42', 'NaN', 'NaN', 'A0A452EX36', 'NaN', 'NaN', 'NaN', 'A0A452DW05', 'A0A452DY04', 'A0A452EV11', 'A0A452E257', 'A0A452FCN1', 'A0A452E134', 'A0A452DWT3', 'A0A452E1S6', 'NaN', 'A0A452FR11', 'NaN', 'A0A452ESG0', 'C6KJ77', 'A0A452FDR6', 'A0A452EN89', 'A0A452DN25', 'A0A452FIP9', 'A0A452EVB4', 'NaN', 'A0A452DVV1', 'A0A452G5F7', 'A0A452F381', 'NaN', 'A0A452F4I8', 'A0A452EBY0', 'A0A452FBL5', 'NaN', 'NaN', 'A0A452FPH6', 'NaN', 'A0A452EE67', 'NaN', 'NaN', 'NaN', 'A0A452EZE1', 'P03308', 'NaN', 'A9LLG1', 'A0A452DX03', 'NaN', 'A0A452EIB3', 'NaN', 'A0A452G6S7', 'A0A452EI10', 'A0A452EVH6', 'A0A452G1D6', 'A0A452FPN7', 'A0A452EXF2', 'NaN', 'A0A452E1W3', 'A0A452FUI0', 'A0A452ESB3', 'A0A452GAS8', 'A0A452FLZ7', 'A0A452DVI0', 'A0A452G3Z5', 'A0A452FRS4', 'A0A452FNF2', 'A0A452FQR5', 'NaN', 'NaN', 'A0A452EIE6', 'A0A452FZ88', 'A0A452EQK6', 'NaN', 'A0A452DQZ4', 'A0A452EQ77', 'A0A452G5L6', 'A0A452DQ32', 'NaN', 'NaN', 'A0A452FYH6', 'NaN', 'NaN', 'A0A452F002', 'A0A452F189', 'A0A452FEB2', 'A0A452DQ72', 'A0A452EC56', 'A0A452DUP7', 'A0A452G209', 'NaN', 'A0A452DMS6', 'NaN', 'NaN', 'A0A452F2L9', 'A0A452FIA8', 'A0A452E4Z2', 'A0A452DV95', 'A0A452EPC2', 'A0A452E525', 'NaN', 'NaN', 'A0A452EP63', 'A0A452F041', 'A0A452E7Y7', 'A0A452FFP3', 'A0A452FAH8', 'NaN', 'A0A452FT02', 'NaN', 'O02828', 'NaN', 'NaN', 'NaN', 'A0A452FSX2', 'A0A452E3M4', 'A0A452DUN6', 'A0A452G2A1', 'A0A452G628', 'A0A452FMF2', 'A0A452EC48', 'NaN', 'A0A452FXT8', 'A0A452EZT2', 'A0A452EQL3', 'NaN', 'A0A452E734', 'A0A452DS17', 'A0A452EY56', 'NaN', 'A0A452ECF8', 'A0A452F2U9', 'NaN', 'A0A452DTI7', 'NaN', 'NaN', 'A0A452G7Z7', 'A0A452E277', 'A0A452F8C9', 'A0A452F2T9', 'NaN', 'A0A452FLI5', 'NaN', 'NaN', 'NaN', 'NaN', 'A0A452G5Y6', 'A0A452E7T6', 'NaN', 'NaN', 'A0A452FCR6', 'NaN', 'A0A452EAT1', 'A0A452F315', 'NaN', 'A0A452FTC6', 'A0A452EHR8', 'A0A452EGR2', 'A0A452FCD8', 'A0A452FG49', 'NaN', 'A0A452FSW5', 'A0A452ECN1', 'NaN', 'A0A452F3X9', 'A0A452FUG3', 'NaN', 'A0A452FP39', 'A0A452ES56', 'A0A452G1L3', 'A0A452G5C5', 'A0A452FR46', 'NaN', 'A0A452EAS5', 'A0A452FMH1', 'A0A452FFG2', 'NaN', 'A0A452ENZ9', 'A0A452FEN9', 'A0A452DUB6', 'NaN', 'A0A452FVU8', 'A0A452E2Y5', 'A0A452FKU2', 'NaN', 'A0A452E1Y6', 'NaN', 'A0A452EL39', 'A0A452FRR6', 'NaN', 'A0A452FQA3', 'A0A452F7S1', 'A0A452F7V1', 'A0A452EMQ4', 'A0A452GB91', 'A0A452FSR2', 'A0A452G8P6', 'NaN', 'A0A452DQP9', 'NaN', 'A0A452ETB8', 'A0A452FCR7', 'NaN', 'A0A452DVM3', 'A0A452E9N3', 'A0A452FXP0', 'A0A452FHK7', 'A0A452FAB1', 'A0A452ER68', 'NaN', 'NaN', 'A0A452FJ17', 'A0A452DYF7', 'A0A452FLA6', 'NaN', 'A0A452EAD6', 'A0A452FJH8', 'NaN', 'A0A452EUW5', 'A0A452FXZ8', 'A0A452FXZ8', 'NaN', 'A0A452FSJ2', 'A0A452FTP2', 'A0A452EQF5', 'NaN', 'A0A452EGJ7', 'A0A452EPW2', 'A0A452FNV0', 'NaN', 'NaN', 'A0A452EXP6', 'NaN', 'P80601', 'A0A452EGR8', 'A0A452ERT2', 'A0A452DQX9', 'A0A452DQQ4', 'A0A452E5J4', 'Q8MIP2', 'NaN', 'A0A452FM56', 'A0A452DT65', 'NaN', 'NaN', 'A0A452EG16', 'NaN', 'A0A452DW60', 'A0A452EEG0', 'A0A452F6A7', 'A0A452EK84', 'NaN', 'A0A452FD24', 'A0A452ELX5', 'A0A452E3F5', 'NaN', 'A0A097C2Z1', 'A0A452DTV1', 'NaN', 'NaN', 'NaN', 'NaN', 'NaN', 'NaN', 'NaN', 'NaN', 'NaN', 'NaN', 'A0A452E1J0', 'NaN', 'A0A452E4R4', 'A0A452FYX0', 'NaN', 'NaN', 'A0A452DUA1', 'NaN', 'A0A452E2W8', 'A0A452DXE7', 'A0A452E2U7', 'A0A452DM69', 'NaN', 'NaN', 'A0A452DUK3', 'A0A452DZK1', 'A0A452DN84', 'A0A452DUY8', 'A0A452EPU8', 'A0A452F1V1', 'NaN', 'A0A452FX09', 'A0A452ENL5', 'A0A452F6P8', 'NaN', 'A0A452DN11', 'P56444', 'A0A452F4E9', 'A0A452EKC2', 'A0A452DVC1', 'NaN', 'NaN', 'A0A452EYB1', 'A0A452G4M0', 'A0A452FYP7', 'A0A452FKC6', 'A0A452DRR9', 'A0A452DWE9', 'NaN', 'NaN', 'A0A452DNV8', 'A0A452F920', 'A0A452DVJ8', 'NaN', 'A0A452F9F0', 'A0A452E2W3', 'NaN', 'NaN', 'A0A452FBE6', 'A0A452EVX5', 'A0A452EVY9', 'A0A452EHG8', 'A0A452FCY6', 'A0A452DYP0', 'A0A452F3K2', 'NaN', 'A0A452DXE4', 'NaN', 'A0A452FJF2', 'A0A452FYT3', 'A0A452FTK9', 'NaN', 'A0A452FBG8', 'NaN', 'NaN', 'A0A452FN29', 'A0A452E5W0', 'NaN', 'A0A452DXE1', 'A0A452FC11', 'A0A452DSJ0', 'A0A452ETD0', 'A0A452E4H9', 'NaN', 'NaN', 'A0A452DPS5', 'A0A452EEB6', 'NaN', 'NaN', 'A0A452FH60', 'NaN', 'A0A452G0H8', 'A0A452E6S7', 'A0A452E1H6', 'A0A452EW26', 'A0A0M3ULS7', 'NaN', 'NaN', 'A0A452EMX9', 'NaN', 'NaN', 'A0A452EB64', 'NaN', 'NaN', 'A0A452EQV9', 'A0A452DN10', 'NaN', 'A0A452G1C2', 'NaN', 'A0A452G158', 'A0A452F9B4', 'A0A452FKT2', 'A0A452ELW2', 'A0A452G5T9', 'A0A452DZC9']\n"
     ]
    }
   ],
   "source": [
    "for i in A:\n",
    "    requ = Request(urls[i], headers={'User-Agent': 'Mozilla/5.0'})\n",
    "    subpage = urlopen(requ).read()\n",
    "    pagesoup=soup(subpage, \"html.parser\")\n",
    "    resl = pagesoup.find(\"td\",{\"class\":\"entryID\"}).a.text[0:15]\n",
    "    Entry[i]=resl\n",
    "print(Entry)"
   ]
  },
  {
   "cell_type": "markdown",
   "metadata": {},
   "source": [
    "### Parte II\n",
    "Ingresano al link de el encabezado **Entry**. Seguidamente extraeremos los link cuyo patron seria :  \n",
    "<center>\n",
    "https://www.uniprot.org/uniprot/(Nombre del Entry del gen)\n",
    "</center>    \n",
    "\n",
    "Almacenamos todos los links de la pagina, siguiendo el patron, ingresamos cada entry mediante un bucle y lo almacenamos en una lista llamada **urls_1**."
   ]
  },
  {
   "cell_type": "code",
   "execution_count": 11,
   "metadata": {},
   "outputs": [
    {
     "name": "stdout",
     "output_type": "stream",
     "text": [
      "['https://www.uniprot.org/uniprot/A0A452FI87', 'https://www.uniprot.org/uniprot/A0A452EJ84', 'https://www.uniprot.org/uniprot/B8YMT5', 'https://www.uniprot.org/uniprot/A0A452DP04', 'https://www.uniprot.org/uniprot/A0A452EH80', 'https://www.uniprot.org/uniprot/A0A452EMC5', 'https://www.uniprot.org/uniprot/A0A452G5A1', 'https://www.uniprot.org/uniprot/A0A452FPS5', 'https://www.uniprot.org/uniprot/A0A452F389', 'https://www.uniprot.org/uniprot/A0A452EGT9', 'https://www.uniprot.org/uniprot/A0A452G516', 'https://www.uniprot.org/uniprot/A0A452F0J2', 'https://www.uniprot.org/uniprot/A0A452E679', 'https://www.uniprot.org/uniprot/A0A452G381', 'https://www.uniprot.org/uniprot/A0A452FHL6', 'https://www.uniprot.org/uniprot/A0A452EXQ2', 'https://www.uniprot.org/uniprot/A0A452FA09', 'https://www.uniprot.org/uniprot/A0A452EHY5', 'https://www.uniprot.org/uniprot/A0A452EC95', 'https://www.uniprot.org/uniprot/A0A452GAH5', 'https://www.uniprot.org/uniprot/A0A452G531', 'https://www.uniprot.org/uniprot/A0A452G662', 'https://www.uniprot.org/uniprot/A0A452ELN4', 'https://www.uniprot.org/uniprot/A0A452ERX4', 'https://www.uniprot.org/uniprot/A0A452E148', 'https://www.uniprot.org/uniprot/A0A452DRN3', 'https://www.uniprot.org/uniprot/A0A452EXA8', 'https://www.uniprot.org/uniprot/A0A452EFP7', 'https://www.uniprot.org/uniprot/A0A452FZT0', 'https://www.uniprot.org/uniprot/A0A452FY48', 'https://www.uniprot.org/uniprot/A0A452G2Y3', 'https://www.uniprot.org/uniprot/A0A452EG76', 'https://www.uniprot.org/uniprot/A0A452F1S1', 'https://www.uniprot.org/uniprot/A0A452F6C0', 'https://www.uniprot.org/uniprot/A0A452E2U2', 'https://www.uniprot.org/uniprot/A0A452EN92', 'https://www.uniprot.org/uniprot/A0A452G1K4', 'https://www.uniprot.org/uniprot/A0A452DMI4', 'https://www.uniprot.org/uniprot/A0A452G205', 'https://www.uniprot.org/uniprot/A0A452FX99', 'https://www.uniprot.org/uniprot/A0A452F3A1', 'https://www.uniprot.org/uniprot/A0A452FEJ6', 'https://www.uniprot.org/uniprot/A0A452G7C4', 'https://www.uniprot.org/uniprot/A0A452FKF2', 'https://www.uniprot.org/uniprot/A0A452GB91', 'https://www.uniprot.org/uniprot/A0A452G8J5', 'https://www.uniprot.org/uniprot/A0A452FND3', 'https://www.uniprot.org/uniprot/A0A452EBZ0', 'https://www.uniprot.org/uniprot/A0A452DTW1', 'https://www.uniprot.org/uniprot/A0A452FL45', 'https://www.uniprot.org/uniprot/A0A452FI39', 'https://www.uniprot.org/uniprot/A0A452FAS8', 'https://www.uniprot.org/uniprot/A0A452FUF0', 'https://www.uniprot.org/uniprot/A0A452ED38', 'https://www.uniprot.org/uniprot/A0A452E798', 'https://www.uniprot.org/uniprot/A0A452G830', 'https://www.uniprot.org/uniprot/A0A452FSQ1', 'https://www.uniprot.org/uniprot/A0A452E9I6', 'https://www.uniprot.org/uniprot/A0A452DUU6', 'https://www.uniprot.org/uniprot/A0A452DT82', 'https://www.uniprot.org/uniprot/A0A452G8Y3', 'https://www.uniprot.org/uniprot/A0A452F827', 'https://www.uniprot.org/uniprot/A0A452FWT4', 'https://www.uniprot.org/uniprot/A0A452F082', 'https://www.uniprot.org/uniprot/A0A452GB80', 'https://www.uniprot.org/uniprot/A0A452F4T6', 'https://www.uniprot.org/uniprot/A0A452E239', 'https://www.uniprot.org/uniprot/A0A452G138', 'https://www.uniprot.org/uniprot/A0A452G3X5', 'https://www.uniprot.org/uniprot/A0A452F3B7', 'https://www.uniprot.org/uniprot/A0A452EHY3', 'https://www.uniprot.org/uniprot/A0A452FDI3', 'https://www.uniprot.org/uniprot/A0A452EGC7', 'https://www.uniprot.org/uniprot/A0A452E1C1', 'https://www.uniprot.org/uniprot/A0A452FFW8', 'https://www.uniprot.org/uniprot/A7Y3X8', 'https://www.uniprot.org/uniprot/A0A452EVM1', 'https://www.uniprot.org/uniprot/A0A452DNN8', 'https://www.uniprot.org/uniprot/A0A452DYC8', 'https://www.uniprot.org/uniprot/A0A0A7MB97', 'https://www.uniprot.org/uniprot/A0A452G1G3', 'https://www.uniprot.org/uniprot/A0A452G643', 'https://www.uniprot.org/uniprot/A0A452E1S1', 'https://www.uniprot.org/uniprot/A0A452G5S3', 'https://www.uniprot.org/uniprot/A0A452DSG0', 'https://www.uniprot.org/uniprot/A0A452EG86', 'https://www.uniprot.org/uniprot/A0A1S5UZS7', 'https://www.uniprot.org/uniprot/A0A452ESK7', 'https://www.uniprot.org/uniprot/A0A452DTC4', 'https://www.uniprot.org/uniprot/A0A452G1W3', 'https://www.uniprot.org/uniprot/A0A452DUA8', 'https://www.uniprot.org/uniprot/A0A2S1UF42', 'https://www.uniprot.org/uniprot/A0A452EX36', 'https://www.uniprot.org/uniprot/A0A452DW05', 'https://www.uniprot.org/uniprot/A0A452DY04', 'https://www.uniprot.org/uniprot/A0A452EV11', 'https://www.uniprot.org/uniprot/A0A452E257', 'https://www.uniprot.org/uniprot/A0A452FCN1', 'https://www.uniprot.org/uniprot/A0A452E134', 'https://www.uniprot.org/uniprot/A0A452DWT3', 'https://www.uniprot.org/uniprot/A0A452E1S6', 'https://www.uniprot.org/uniprot/A0A452FR11', 'https://www.uniprot.org/uniprot/A0A452ESG0', 'https://www.uniprot.org/uniprot/C6KJ77', 'https://www.uniprot.org/uniprot/A0A452FDR6', 'https://www.uniprot.org/uniprot/A0A452EN89', 'https://www.uniprot.org/uniprot/A0A452DN25', 'https://www.uniprot.org/uniprot/A0A452FIP9', 'https://www.uniprot.org/uniprot/A0A452EVB4', 'https://www.uniprot.org/uniprot/A0A452DVV1', 'https://www.uniprot.org/uniprot/A0A452G5F7', 'https://www.uniprot.org/uniprot/A0A452F381', 'https://www.uniprot.org/uniprot/A0A452F4I8', 'https://www.uniprot.org/uniprot/A0A452EBY0', 'https://www.uniprot.org/uniprot/A0A452FBL5', 'https://www.uniprot.org/uniprot/A0A452FPH6', 'https://www.uniprot.org/uniprot/A0A452EE67', 'https://www.uniprot.org/uniprot/A0A452EZE1', 'https://www.uniprot.org/uniprot/P03308', 'https://www.uniprot.org/uniprot/A9LLG1', 'https://www.uniprot.org/uniprot/A0A452DX03', 'https://www.uniprot.org/uniprot/A0A452EIB3', 'https://www.uniprot.org/uniprot/A0A452G6S7', 'https://www.uniprot.org/uniprot/A0A452EI10', 'https://www.uniprot.org/uniprot/A0A452EVH6', 'https://www.uniprot.org/uniprot/A0A452G1D6', 'https://www.uniprot.org/uniprot/A0A452FPN7', 'https://www.uniprot.org/uniprot/A0A452EXF2', 'https://www.uniprot.org/uniprot/A0A452E1W3', 'https://www.uniprot.org/uniprot/A0A452FUI0', 'https://www.uniprot.org/uniprot/A0A452ESB3', 'https://www.uniprot.org/uniprot/A0A452GAS8', 'https://www.uniprot.org/uniprot/A0A452FLZ7', 'https://www.uniprot.org/uniprot/A0A452DVI0', 'https://www.uniprot.org/uniprot/A0A452G3Z5', 'https://www.uniprot.org/uniprot/A0A452FRS4', 'https://www.uniprot.org/uniprot/A0A452FNF2', 'https://www.uniprot.org/uniprot/A0A452FQR5', 'https://www.uniprot.org/uniprot/A0A452EIE6', 'https://www.uniprot.org/uniprot/A0A452FZ88', 'https://www.uniprot.org/uniprot/A0A452EQK6', 'https://www.uniprot.org/uniprot/A0A452DQZ4', 'https://www.uniprot.org/uniprot/A0A452EQ77', 'https://www.uniprot.org/uniprot/A0A452G5L6', 'https://www.uniprot.org/uniprot/A0A452DQ32', 'https://www.uniprot.org/uniprot/A0A452FYH6', 'https://www.uniprot.org/uniprot/A0A452F002', 'https://www.uniprot.org/uniprot/A0A452F189', 'https://www.uniprot.org/uniprot/A0A452FEB2', 'https://www.uniprot.org/uniprot/A0A452DQ72', 'https://www.uniprot.org/uniprot/A0A452EC56', 'https://www.uniprot.org/uniprot/A0A452DUP7', 'https://www.uniprot.org/uniprot/A0A452G209', 'https://www.uniprot.org/uniprot/A0A452DMS6', 'https://www.uniprot.org/uniprot/A0A452F2L9', 'https://www.uniprot.org/uniprot/A0A452FIA8', 'https://www.uniprot.org/uniprot/A0A452E4Z2', 'https://www.uniprot.org/uniprot/A0A452DV95', 'https://www.uniprot.org/uniprot/A0A452EPC2', 'https://www.uniprot.org/uniprot/A0A452E525', 'https://www.uniprot.org/uniprot/A0A452EP63', 'https://www.uniprot.org/uniprot/A0A452F041', 'https://www.uniprot.org/uniprot/A0A452E7Y7', 'https://www.uniprot.org/uniprot/A0A452FFP3', 'https://www.uniprot.org/uniprot/A0A452FAH8', 'https://www.uniprot.org/uniprot/A0A452FT02', 'https://www.uniprot.org/uniprot/O02828', 'https://www.uniprot.org/uniprot/A0A452FSX2', 'https://www.uniprot.org/uniprot/A0A452E3M4', 'https://www.uniprot.org/uniprot/A0A452DUN6', 'https://www.uniprot.org/uniprot/A0A452G2A1', 'https://www.uniprot.org/uniprot/A0A452G628', 'https://www.uniprot.org/uniprot/A0A452FMF2', 'https://www.uniprot.org/uniprot/A0A452EC48', 'https://www.uniprot.org/uniprot/A0A452FXT8', 'https://www.uniprot.org/uniprot/A0A452EZT2', 'https://www.uniprot.org/uniprot/A0A452EQL3', 'https://www.uniprot.org/uniprot/A0A452E734', 'https://www.uniprot.org/uniprot/A0A452DS17', 'https://www.uniprot.org/uniprot/A0A452EY56', 'https://www.uniprot.org/uniprot/A0A452ECF8', 'https://www.uniprot.org/uniprot/A0A452F2U9', 'https://www.uniprot.org/uniprot/A0A452DTI7', 'https://www.uniprot.org/uniprot/A0A452G7Z7', 'https://www.uniprot.org/uniprot/A0A452E277', 'https://www.uniprot.org/uniprot/A0A452F8C9', 'https://www.uniprot.org/uniprot/A0A452F2T9', 'https://www.uniprot.org/uniprot/A0A452FLI5', 'https://www.uniprot.org/uniprot/A0A452G5Y6', 'https://www.uniprot.org/uniprot/A0A452E7T6', 'https://www.uniprot.org/uniprot/A0A452FCR6', 'https://www.uniprot.org/uniprot/A0A452EAT1', 'https://www.uniprot.org/uniprot/A0A452F315', 'https://www.uniprot.org/uniprot/A0A452FTC6', 'https://www.uniprot.org/uniprot/A0A452EHR8', 'https://www.uniprot.org/uniprot/A0A452EGR2', 'https://www.uniprot.org/uniprot/A0A452FCD8', 'https://www.uniprot.org/uniprot/A0A452FG49', 'https://www.uniprot.org/uniprot/A0A452FSW5', 'https://www.uniprot.org/uniprot/A0A452ECN1', 'https://www.uniprot.org/uniprot/A0A452F3X9', 'https://www.uniprot.org/uniprot/A0A452FUG3', 'https://www.uniprot.org/uniprot/A0A452FP39', 'https://www.uniprot.org/uniprot/A0A452ES56', 'https://www.uniprot.org/uniprot/A0A452G1L3', 'https://www.uniprot.org/uniprot/A0A452G5C5', 'https://www.uniprot.org/uniprot/A0A452FR46', 'https://www.uniprot.org/uniprot/A0A452EAS5', 'https://www.uniprot.org/uniprot/A0A452FMH1', 'https://www.uniprot.org/uniprot/A0A452FFG2', 'https://www.uniprot.org/uniprot/A0A452ENZ9', 'https://www.uniprot.org/uniprot/A0A452FEN9', 'https://www.uniprot.org/uniprot/A0A452DUB6', 'https://www.uniprot.org/uniprot/A0A452FVU8', 'https://www.uniprot.org/uniprot/A0A452E2Y5', 'https://www.uniprot.org/uniprot/A0A452FKU2', 'https://www.uniprot.org/uniprot/A0A452E1Y6', 'https://www.uniprot.org/uniprot/A0A452EL39', 'https://www.uniprot.org/uniprot/A0A452FRR6', 'https://www.uniprot.org/uniprot/A0A452FQA3', 'https://www.uniprot.org/uniprot/A0A452F7S1', 'https://www.uniprot.org/uniprot/A0A452F7V1', 'https://www.uniprot.org/uniprot/A0A452EMQ4', 'https://www.uniprot.org/uniprot/A0A452GB91', 'https://www.uniprot.org/uniprot/A0A452FSR2', 'https://www.uniprot.org/uniprot/A0A452G8P6', 'https://www.uniprot.org/uniprot/A0A452DQP9', 'https://www.uniprot.org/uniprot/A0A452ETB8', 'https://www.uniprot.org/uniprot/A0A452FCR7', 'https://www.uniprot.org/uniprot/A0A452DVM3', 'https://www.uniprot.org/uniprot/A0A452E9N3', 'https://www.uniprot.org/uniprot/A0A452FXP0', 'https://www.uniprot.org/uniprot/A0A452FHK7', 'https://www.uniprot.org/uniprot/A0A452FAB1', 'https://www.uniprot.org/uniprot/A0A452ER68', 'https://www.uniprot.org/uniprot/A0A452FJ17', 'https://www.uniprot.org/uniprot/A0A452DYF7', 'https://www.uniprot.org/uniprot/A0A452FLA6', 'https://www.uniprot.org/uniprot/A0A452EAD6', 'https://www.uniprot.org/uniprot/A0A452FJH8', 'https://www.uniprot.org/uniprot/A0A452EUW5', 'https://www.uniprot.org/uniprot/A0A452FXZ8', 'https://www.uniprot.org/uniprot/A0A452FXZ8', 'https://www.uniprot.org/uniprot/A0A452FSJ2', 'https://www.uniprot.org/uniprot/A0A452FTP2', 'https://www.uniprot.org/uniprot/A0A452EQF5', 'https://www.uniprot.org/uniprot/A0A452EGJ7', 'https://www.uniprot.org/uniprot/A0A452EPW2', 'https://www.uniprot.org/uniprot/A0A452FNV0', 'https://www.uniprot.org/uniprot/A0A452EXP6', 'https://www.uniprot.org/uniprot/P80601', 'https://www.uniprot.org/uniprot/A0A452EGR8', 'https://www.uniprot.org/uniprot/A0A452ERT2', 'https://www.uniprot.org/uniprot/A0A452DQX9', 'https://www.uniprot.org/uniprot/A0A452DQQ4', 'https://www.uniprot.org/uniprot/A0A452E5J4', 'https://www.uniprot.org/uniprot/Q8MIP2', 'https://www.uniprot.org/uniprot/A0A452FM56', 'https://www.uniprot.org/uniprot/A0A452DT65', 'https://www.uniprot.org/uniprot/A0A452EG16', 'https://www.uniprot.org/uniprot/A0A452DW60', 'https://www.uniprot.org/uniprot/A0A452EEG0', 'https://www.uniprot.org/uniprot/A0A452F6A7', 'https://www.uniprot.org/uniprot/A0A452EK84', 'https://www.uniprot.org/uniprot/A0A452FD24', 'https://www.uniprot.org/uniprot/A0A452ELX5', 'https://www.uniprot.org/uniprot/A0A452E3F5', 'https://www.uniprot.org/uniprot/A0A097C2Z1', 'https://www.uniprot.org/uniprot/A0A452DTV1', 'https://www.uniprot.org/uniprot/A0A452E1J0', 'https://www.uniprot.org/uniprot/A0A452E4R4', 'https://www.uniprot.org/uniprot/A0A452FYX0', 'https://www.uniprot.org/uniprot/A0A452DUA1', 'https://www.uniprot.org/uniprot/A0A452E2W8', 'https://www.uniprot.org/uniprot/A0A452DXE7', 'https://www.uniprot.org/uniprot/A0A452E2U7', 'https://www.uniprot.org/uniprot/A0A452DM69', 'https://www.uniprot.org/uniprot/A0A452DUK3', 'https://www.uniprot.org/uniprot/A0A452DZK1', 'https://www.uniprot.org/uniprot/A0A452DN84', 'https://www.uniprot.org/uniprot/A0A452DUY8', 'https://www.uniprot.org/uniprot/A0A452EPU8', 'https://www.uniprot.org/uniprot/A0A452F1V1', 'https://www.uniprot.org/uniprot/A0A452FX09', 'https://www.uniprot.org/uniprot/A0A452ENL5', 'https://www.uniprot.org/uniprot/A0A452F6P8', 'https://www.uniprot.org/uniprot/A0A452DN11', 'https://www.uniprot.org/uniprot/P56444', 'https://www.uniprot.org/uniprot/A0A452F4E9', 'https://www.uniprot.org/uniprot/A0A452EKC2', 'https://www.uniprot.org/uniprot/A0A452DVC1', 'https://www.uniprot.org/uniprot/A0A452EYB1', 'https://www.uniprot.org/uniprot/A0A452G4M0', 'https://www.uniprot.org/uniprot/A0A452FYP7', 'https://www.uniprot.org/uniprot/A0A452FKC6', 'https://www.uniprot.org/uniprot/A0A452DRR9', 'https://www.uniprot.org/uniprot/A0A452DWE9', 'https://www.uniprot.org/uniprot/A0A452DNV8', 'https://www.uniprot.org/uniprot/A0A452F920', 'https://www.uniprot.org/uniprot/A0A452DVJ8', 'https://www.uniprot.org/uniprot/A0A452F9F0', 'https://www.uniprot.org/uniprot/A0A452E2W3', 'https://www.uniprot.org/uniprot/A0A452FBE6', 'https://www.uniprot.org/uniprot/A0A452EVX5', 'https://www.uniprot.org/uniprot/A0A452EVY9', 'https://www.uniprot.org/uniprot/A0A452EHG8', 'https://www.uniprot.org/uniprot/A0A452FCY6', 'https://www.uniprot.org/uniprot/A0A452DYP0', 'https://www.uniprot.org/uniprot/A0A452F3K2', 'https://www.uniprot.org/uniprot/A0A452DXE4', 'https://www.uniprot.org/uniprot/A0A452FJF2', 'https://www.uniprot.org/uniprot/A0A452FYT3', 'https://www.uniprot.org/uniprot/A0A452FTK9', 'https://www.uniprot.org/uniprot/A0A452FBG8', 'https://www.uniprot.org/uniprot/A0A452FN29', 'https://www.uniprot.org/uniprot/A0A452E5W0', 'https://www.uniprot.org/uniprot/A0A452DXE1', 'https://www.uniprot.org/uniprot/A0A452FC11', 'https://www.uniprot.org/uniprot/A0A452DSJ0', 'https://www.uniprot.org/uniprot/A0A452ETD0', 'https://www.uniprot.org/uniprot/A0A452E4H9', 'https://www.uniprot.org/uniprot/A0A452DPS5', 'https://www.uniprot.org/uniprot/A0A452EEB6', 'https://www.uniprot.org/uniprot/A0A452FH60', 'https://www.uniprot.org/uniprot/A0A452G0H8', 'https://www.uniprot.org/uniprot/A0A452E6S7', 'https://www.uniprot.org/uniprot/A0A452E1H6', 'https://www.uniprot.org/uniprot/A0A452EW26', 'https://www.uniprot.org/uniprot/A0A0M3ULS7', 'https://www.uniprot.org/uniprot/A0A452EMX9', 'https://www.uniprot.org/uniprot/A0A452EB64', 'https://www.uniprot.org/uniprot/A0A452EQV9', 'https://www.uniprot.org/uniprot/A0A452DN10', 'https://www.uniprot.org/uniprot/A0A452G1C2', 'https://www.uniprot.org/uniprot/A0A452G158', 'https://www.uniprot.org/uniprot/A0A452F9B4', 'https://www.uniprot.org/uniprot/A0A452FKT2', 'https://www.uniprot.org/uniprot/A0A452ELW2', 'https://www.uniprot.org/uniprot/A0A452G5T9', 'https://www.uniprot.org/uniprot/A0A452DZC9']\n"
     ]
    }
   ],
   "source": [
    "urls_1=[]\n",
    "for i in A:\n",
    "       urls_1.append(\"https://www.uniprot.org/uniprot/\"+Entry[i])\n",
    "print(urls_1)"
   ]
  },
  {
   "cell_type": "markdown",
   "metadata": {},
   "source": [
    "De la misma manera, que hicimos anteriormente, estableceremos conexión con la pagina y extraremos el codigo HTML, buscando el encabezado de nuestra preferencia, el cual seria el **Entry_Name**."
   ]
  },
  {
   "cell_type": "code",
   "execution_count": 12,
   "metadata": {},
   "outputs": [
    {
     "name": "stdout",
     "output_type": "stream",
     "text": [
      "['(A0A452FI87_CAPHI)', '(A0A452EJ84_CAPHI)', '(B8YMT5_CAPHI)', '(A0A452DP04_CAPHI)', '(A0A452EH80_CAPHI)', '(A0A452EMC5_CAPHI)', '(A0A452G5A1_CAPHI)', '(A0A452FPS5_CAPHI)', '(A0A452F389_CAPHI)', '(A0A452EGT9_CAPHI)', '(A0A452G516_CAPHI)', '(A0A452F0J2_CAPHI)', '(A0A452E679_CAPHI)', '(A0A452G381_CAPHI)', '(A0A452FHL6_CAPHI)', '(A0A452EXQ2_CAPHI)', '(A0A452FA09_CAPHI)', '(A0A452EHY5_CAPHI)', '(A0A452EC95_CAPHI)', '(A0A452GAH5_CAPHI)', '(A0A452G531_CAPHI)', '(A0A452G662_CAPHI)', '(A0A452ELN4_CAPHI)', '(A0A452ERX4_CAPHI)', '(A0A452E148_CAPHI)', '(A0A452DRN3_CAPHI)', '(A0A452EXA8_CAPHI)', '(A0A452EFP7_CAPHI)', '(A0A452FZT0_CAPHI)', '(A0A452FY48_CAPHI)', '(A0A452G2Y3_CAPHI)', '(A0A452EG76_CAPHI)', '(A0A452F1S1_CAPHI)', '(A0A452F6C0_CAPHI)', '(A0A452E2U2_CAPHI)', '(A0A452EN92_CAPHI)', '(A0A452G1K4_CAPHI)', '(A0A452DMI4_CAPHI)', '(A0A452G205_CAPHI)', '(A0A452FX99_CAPHI)', '(A0A452F3A1_CAPHI)', '(A0A452FEJ6_CAPHI)', '(A0A452G7C4_CAPHI)', '(A0A452FKF2_CAPHI)', '(A0A452GB91_CAPHI)', '(A0A452G8J5_CAPHI)', '(A0A452FND3_CAPHI)', '(A0A452EBZ0_CAPHI)', '(A0A452DTW1_CAPHI)', '(A0A452FL45_CAPHI)', '(A0A452FI39_CAPHI)', '(A0A452FAS8_CAPHI)', '(A0A452FUF0_CAPHI)', '(A0A452ED38_CAPHI)', '(A0A452E798_CAPHI)', '(A0A452G830_CAPHI)', '(A0A452FSQ1_CAPHI)', '(A0A452E9I6_CAPHI)', '(A0A452DUU6_CAPHI)', '(A0A452DT82_CAPHI)', '(A0A452G8Y3_CAPHI)', '(A0A452F827_CAPHI)', '(A0A452FWT4_CAPHI)', '(A0A452F082_CAPHI)', '(A0A452GB80_CAPHI)', '(A0A452F4T6_CAPHI)', '(A0A452E239_CAPHI)', '(A0A452G138_CAPHI)', '(A0A452G3X5_CAPHI)', '(A0A452F3B7_CAPHI)', '(A0A452EHY3_CAPHI)', '(A0A452FDI3_CAPHI)', '(A0A452EGC7_CAPHI)', '(A0A452E1C1_CAPHI)', '(A0A452FFW8_CAPHI)', '(A7Y3X8_CAPHI)', '(A0A452EVM1_CAPHI)', '(A0A452DNN8_CAPHI)', '(A0A452DYC8_CAPHI)', '(A0A0A7MB97_CAPHI)', '(A0A452G1G3_CAPHI)', '(A0A452G643_CAPHI)', '(A0A452E1S1_CAPHI)', '(A0A452G5S3_CAPHI)', '(A0A452DSG0_CAPHI)', '(A0A452EG86_CAPHI)', '(A0A1S5UZS7_CAPHI)', '(A0A452ESK7_CAPHI)', '(A0A452DTC4_CAPHI)', '(A0A452G1W3_CAPHI)', '(A0A452DUA8_CAPHI)', '(A0A2S1UF42_CAPHI)', '(A0A452EX36_CAPHI)', '(A0A452DW05_CAPHI)', '(A0A452DY04_CAPHI)', '(A0A452EV11_CAPHI)', '(A0A452E257_CAPHI)', '(A0A452FCN1_CAPHI)', '(A0A452E134_CAPHI)', '(A0A452DWT3_CAPHI)', '(A0A452E1S6_CAPHI)', '(A0A452FR11_CAPHI)', '(A0A452ESG0_CAPHI)', '(C6KJ77_CAPHI)', '(A0A452FDR6_CAPHI)', '(A0A452EN89_CAPHI)', '(A0A452DN25_CAPHI)', '(A0A452FIP9_CAPHI)', '(A0A452EVB4_CAPHI)', '(A0A452DVV1_CAPHI)', '(A0A452G5F7_CAPHI)', '(A0A452F381_CAPHI)', '(A0A452F4I8_CAPHI)', '(A0A452EBY0_CAPHI)', '(A0A452FBL5_CAPHI)', '(A0A452FPH6_CAPHI)', '(A0A452EE67_CAPHI)', '(A0A452EZE1_CAPHI)', '(POLG_FMDVA)', '(A9LLG1_CAPHI)', '(A0A452DX03_CAPHI)', '(A0A452EIB3_CAPHI)', '(A0A452G6S7_CAPHI)', '(A0A452EI10_CAPHI)', '(A0A452EVH6_CAPHI)', '(A0A452G1D6_CAPHI)', '(A0A452FPN7_CAPHI)', '(A0A452EXF2_CAPHI)', '(A0A452E1W3_CAPHI)', '(A0A452FUI0_CAPHI)', '(A0A452ESB3_CAPHI)', '(A0A452GAS8_CAPHI)', '(A0A452FLZ7_CAPHI)', '(A0A452DVI0_CAPHI)', '(A0A452G3Z5_CAPHI)', '(A0A452FRS4_CAPHI)', '(A0A452FNF2_CAPHI)', '(A0A452FQR5_CAPHI)', '(A0A452EIE6_CAPHI)', '(A0A452FZ88_CAPHI)', '(A0A452EQK6_CAPHI)', '(A0A452DQZ4_CAPHI)', '(A0A452EQ77_CAPHI)', '(A0A452G5L6_CAPHI)', '(A0A452DQ32_CAPHI)', '(A0A452FYH6_CAPHI)', '(A0A452F002_CAPHI)', '(A0A452F189_CAPHI)', '(A0A452FEB2_CAPHI)', '(A0A452DQ72_CAPHI)', '(A0A452EC56_CAPHI)', '(A0A452DUP7_CAPHI)', '(A0A452G209_CAPHI)', '(A0A452DMS6_CAPHI)', '(A0A452F2L9_CAPHI)', '(A0A452FIA8_CAPHI)', '(A0A452E4Z2_CAPHI)', '(A0A452DV95_CAPHI)', '(A0A452EPC2_CAPHI)', '(A0A452E525_CAPHI)', '(A0A452EP63_CAPHI)', '(A0A452F041_CAPHI)', '(A0A452E7Y7_CAPHI)', '(A0A452FFP3_CAPHI)', '(A0A452FAH8_CAPHI)', '(A0A452FT02_CAPHI)', '(TAU_CAPHI)', '(A0A452FSX2_CAPHI)', '(A0A452E3M4_CAPHI)', '(A0A452DUN6_CAPHI)', '(A0A452G2A1_CAPHI)', '(A0A452G628_CAPHI)', '(A0A452FMF2_CAPHI)', '(A0A452EC48_CAPHI)', '(A0A452FXT8_CAPHI)', '(A0A452EZT2_CAPHI)', '(A0A452EQL3_CAPHI)', '(A0A452E734_CAPHI)', '(A0A452DS17_CAPHI)', '(A0A452EY56_CAPHI)', '(A0A452ECF8_CAPHI)', '(A0A452F2U9_CAPHI)', '(A0A452DTI7_CAPHI)', '(A0A452G7Z7_CAPHI)', '(A0A452E277_CAPHI)', '(A0A452F8C9_CAPHI)', '(A0A452F2T9_CAPHI)', '(A0A452FLI5_CAPHI)', '(A0A452G5Y6_CAPHI)', '(A0A452E7T6_CAPHI)', '(A0A452FCR6_CAPHI)', '(A0A452EAT1_CAPHI)', '(A0A452F315_CAPHI)', '(A0A452FTC6_CAPHI)', '(A0A452EHR8_CAPHI)', '(A0A452EGR2_CAPHI)', '(A0A452FCD8_CAPHI)', '(A0A452FG49_CAPHI)', '(A0A452FSW5_CAPHI)', '(A0A452ECN1_CAPHI)', '(A0A452F3X9_CAPHI)', '(A0A452FUG3_CAPHI)', '(A0A452FP39_CAPHI)', '(A0A452ES56_CAPHI)', '(A0A452G1L3_CAPHI)', '(A0A452G5C5_CAPHI)', '(A0A452FR46_CAPHI)', '(A0A452EAS5_CAPHI)', '(A0A452FMH1_CAPHI)', '(A0A452FFG2_CAPHI)', '(A0A452ENZ9_CAPHI)', '(A0A452FEN9_CAPHI)', '(A0A452DUB6_CAPHI)', '(A0A452FVU8_CAPHI)', '(A0A452E2Y5_CAPHI)', '(A0A452FKU2_CAPHI)', '(A0A452E1Y6_CAPHI)', '(A0A452EL39_CAPHI)', '(A0A452FRR6_CAPHI)', '(A0A452FQA3_CAPHI)', '(A0A452F7S1_CAPHI)', '(A0A452F7V1_CAPHI)', '(A0A452EMQ4_CAPHI)', '(A0A452GB91_CAPHI)', '(A0A452FSR2_CAPHI)', '(A0A452G8P6_CAPHI)', '(A0A452DQP9_CAPHI)', '(A0A452ETB8_CAPHI)', '(A0A452FCR7_CAPHI)', '(A0A452DVM3_CAPHI)', '(A0A452E9N3_CAPHI)', '(A0A452FXP0_CAPHI)', '(A0A452FHK7_CAPHI)', '(A0A452FAB1_CAPHI)', '(A0A452ER68_CAPHI)', '(A0A452FJ17_CAPHI)', '(A0A452DYF7_CAPHI)', '(A0A452FLA6_CAPHI)', '(A0A452EAD6_CAPHI)', '(A0A452FJH8_CAPHI)', '(A0A452EUW5_CAPHI)', '(A0A452FXZ8_CAPHI)', '(A0A452FXZ8_CAPHI)', '(A0A452FSJ2_CAPHI)', '(A0A452FTP2_CAPHI)', '(A0A452EQF5_CAPHI)', '(A0A452EGJ7_CAPHI)', '(A0A452EPW2_CAPHI)', '(A0A452FNV0_CAPHI)', '(A0A452EXP6_CAPHI)', '(RIDA_CAPHI)', '(A0A452EGR8_CAPHI)', '(A0A452ERT2_CAPHI)', '(A0A452DQX9_CAPHI)', '(A0A452DQQ4_CAPHI)', '(A0A452E5J4_CAPHI)', '(FOXL2_CAPHI)', '(A0A452FM56_CAPHI)', '(A0A452DT65_CAPHI)', '(A0A452EG16_CAPHI)', '(A0A452DW60_CAPHI)', '(A0A452EEG0_CAPHI)', '(A0A452F6A7_CAPHI)', '(A0A452EK84_CAPHI)', '(A0A452FD24_CAPHI)', '(A0A452ELX5_CAPHI)', '(A0A452E3F5_CAPHI)', '(A0A097C2Z1_CAPHI)', '(A0A452DTV1_CAPHI)', '(A0A452E1J0_CAPHI)', '(A0A452E4R4_CAPHI)', '(A0A452FYX0_CAPHI)', '(A0A452DUA1_CAPHI)', '(A0A452E2W8_CAPHI)', '(A0A452DXE7_CAPHI)', '(A0A452E2U7_CAPHI)', '(A0A452DM69_CAPHI)', '(A0A452DUK3_CAPHI)', '(A0A452DZK1_CAPHI)', '(A0A452DN84_CAPHI)', '(A0A452DUY8_CAPHI)', '(A0A452EPU8_CAPHI)', '(A0A452F1V1_CAPHI)', '(A0A452FX09_CAPHI)', '(A0A452ENL5_CAPHI)', '(A0A452F6P8_CAPHI)', '(A0A452DN11_CAPHI)', '(MSHR_CAPHI)', '(A0A452F4E9_CAPHI)', '(A0A452EKC2_CAPHI)', '(A0A452DVC1_CAPHI)', '(A0A452EYB1_CAPHI)', '(A0A452G4M0_CAPHI)', '(A0A452FYP7_CAPHI)', '(A0A452FKC6_CAPHI)', '(A0A452DRR9_CAPHI)', '(A0A452DWE9_CAPHI)', '(A0A452DNV8_CAPHI)', '(A0A452F920_CAPHI)', '(A0A452DVJ8_CAPHI)', '(A0A452F9F0_CAPHI)', '(A0A452E2W3_CAPHI)', '(A0A452FBE6_CAPHI)', '(A0A452EVX5_CAPHI)', '(A0A452EVY9_CAPHI)', '(A0A452EHG8_CAPHI)', '(A0A452FCY6_CAPHI)', '(A0A452DYP0_CAPHI)', '(A0A452F3K2_CAPHI)', '(A0A452DXE4_CAPHI)', '(A0A452FJF2_CAPHI)', '(A0A452FYT3_CAPHI)', '(A0A452FTK9_CAPHI)', '(A0A452FBG8_CAPHI)', '(A0A452FN29_CAPHI)', '(A0A452E5W0_CAPHI)', '(A0A452DXE1_CAPHI)', '(A0A452FC11_CAPHI)', '(A0A452DSJ0_CAPHI)', '(A0A452ETD0_CAPHI)', '(A0A452E4H9_CAPHI)', '(A0A452DPS5_CAPHI)', '(A0A452EEB6_CAPHI)', '(A0A452FH60_CAPHI)', '(A0A452G0H8_CAPHI)', '(A0A452E6S7_CAPHI)', '(A0A452E1H6_CAPHI)', '(A0A452EW26_CAPHI)', '(A0A0M3ULS7_CAPHI)', '(A0A452EMX9_CAPHI)', '(A0A452EB64_CAPHI)', '(A0A452EQV9_CAPHI)', '(A0A452DN10_CAPHI)', '(A0A452G1C2_CAPHI)', '(A0A452G158_CAPHI)', '(A0A452F9B4_CAPHI)', '(A0A452FKT2_CAPHI)', '(A0A452ELW2_CAPHI)', '(A0A452G5T9_CAPHI)', '(A0A452DZC9_CAPHI)']\n"
     ]
    }
   ],
   "source": [
    "Alt = []\n",
    "for i in range(len(urls_1)):\n",
    "    requ = Request(urls_1[i], headers={'User-Agent': 'Mozilla/5.0'})\n",
    "    subpage = urlopen(requ).read()\n",
    "    pagesoup=soup(subpage, \"html.parser\")\n",
    "    resl = pagesoup.find(\"h2\",{\"class\":\"page-title\"}).span.text[0:25]\n",
    "    Alt.append(resl)\n",
    "\n",
    "print(Alt)"
   ]
  },
  {
   "cell_type": "markdown",
   "metadata": {},
   "source": [
    "### Almacenando los elementos en la lista que corresponde : \n",
    "Almacenamos los nombres en una lista con el nombre de la columna **Entry_Name** con el indice indicado."
   ]
  },
  {
   "cell_type": "code",
   "execution_count": 13,
   "metadata": {},
   "outputs": [
    {
     "name": "stdout",
     "output_type": "stream",
     "text": [
      "['NaN', 'NaN', 'NaN', 'NaN', 'NaN', '(A0A452FI87_CAPHI)', '(A0A452EJ84_CAPHI)', '(B8YMT5_CAPHI)', '(A0A452DP04_CAPHI)', 'NaN', '(A0A452EH80_CAPHI)', '(A0A452EMC5_CAPHI)', 'NaN', '(A0A452G5A1_CAPHI)', '(A0A452FPS5_CAPHI)', 'NaN', '(A0A452F389_CAPHI)', '(A0A452EGT9_CAPHI)', '(A0A452G516_CAPHI)', '(A0A452F0J2_CAPHI)', 'NaN', '(A0A452E679_CAPHI)', '(A0A452G381_CAPHI)', '(A0A452FHL6_CAPHI)', '(A0A452EXQ2_CAPHI)', '(A0A452FA09_CAPHI)', '(A0A452EHY5_CAPHI)', '(A0A452EC95_CAPHI)', '(A0A452GAH5_CAPHI)', 'NaN', 'NaN', '(A0A452G531_CAPHI)', '(A0A452G662_CAPHI)', '(A0A452ELN4_CAPHI)', 'NaN', '(A0A452ERX4_CAPHI)', 'NaN', '(A0A452E148_CAPHI)', '(A0A452DRN3_CAPHI)', '(A0A452EXA8_CAPHI)', 'NaN', '(A0A452EFP7_CAPHI)', '(A0A452FZT0_CAPHI)', '(A0A452FY48_CAPHI)', '(A0A452G2Y3_CAPHI)', 'NaN', '(A0A452EG76_CAPHI)', '(A0A452F1S1_CAPHI)', 'NaN', '(A0A452F6C0_CAPHI)', '(A0A452E2U2_CAPHI)', 'NaN', 'NaN', '(A0A452EN92_CAPHI)', '(A0A452G1K4_CAPHI)', 'NaN', 'NaN', 'NaN', 'NaN', 'NaN', 'NaN', 'NaN', 'NaN', 'NaN', 'NaN', '(A0A452DMI4_CAPHI)', 'NaN', 'NaN', 'NaN', 'NaN', '(A0A452G205_CAPHI)', '(A0A452FX99_CAPHI)', '(A0A452F3A1_CAPHI)', '(A0A452FEJ6_CAPHI)', 'NaN', '(A0A452G7C4_CAPHI)', '(A0A452FKF2_CAPHI)', '(A0A452GB91_CAPHI)', '(A0A452G8J5_CAPHI)', '(A0A452FND3_CAPHI)', 'NaN', '(A0A452EBZ0_CAPHI)', '(A0A452DTW1_CAPHI)', '(A0A452FL45_CAPHI)', '(A0A452FI39_CAPHI)', 'NaN', 'NaN', '(A0A452FAS8_CAPHI)', 'NaN', '(A0A452FUF0_CAPHI)', '(A0A452ED38_CAPHI)', '(A0A452E798_CAPHI)', '(A0A452G830_CAPHI)', 'NaN', '(A0A452FSQ1_CAPHI)', '(A0A452E9I6_CAPHI)', '(A0A452DUU6_CAPHI)', '(A0A452DT82_CAPHI)', 'NaN', '(A0A452G8Y3_CAPHI)', '(A0A452F827_CAPHI)', '(A0A452FWT4_CAPHI)', 'NaN', '(A0A452F082_CAPHI)', '(A0A452GB80_CAPHI)', '(A0A452F4T6_CAPHI)', '(A0A452E239_CAPHI)', '(A0A452G138_CAPHI)', 'NaN', 'NaN', '(A0A452G3X5_CAPHI)', 'NaN', '(A0A452F3B7_CAPHI)', '(A0A452EHY3_CAPHI)', '(A0A452FDI3_CAPHI)', '(A0A452EGC7_CAPHI)', '(A0A452E1C1_CAPHI)', '(A0A452FFW8_CAPHI)', '(A7Y3X8_CAPHI)', '(A0A452EVM1_CAPHI)', '(A0A452DNN8_CAPHI)', '(A0A452DYC8_CAPHI)', 'NaN', '(A0A0A7MB97_CAPHI)', '(A0A452G1G3_CAPHI)', '(A0A452G643_CAPHI)', '(A0A452E1S1_CAPHI)', 'NaN', '(A0A452G5S3_CAPHI)', '(A0A452DSG0_CAPHI)', '(A0A452EG86_CAPHI)', '(A0A1S5UZS7_CAPHI)', 'NaN', '(A0A452ESK7_CAPHI)', 'NaN', '(A0A452DTC4_CAPHI)', '(A0A452G1W3_CAPHI)', '(A0A452DUA8_CAPHI)', '(A0A2S1UF42_CAPHI)', 'NaN', 'NaN', '(A0A452EX36_CAPHI)', 'NaN', 'NaN', 'NaN', '(A0A452DW05_CAPHI)', '(A0A452DY04_CAPHI)', '(A0A452EV11_CAPHI)', '(A0A452E257_CAPHI)', '(A0A452FCN1_CAPHI)', '(A0A452E134_CAPHI)', '(A0A452DWT3_CAPHI)', '(A0A452E1S6_CAPHI)', 'NaN', '(A0A452FR11_CAPHI)', 'NaN', '(A0A452ESG0_CAPHI)', '(C6KJ77_CAPHI)', '(A0A452FDR6_CAPHI)', '(A0A452EN89_CAPHI)', '(A0A452DN25_CAPHI)', '(A0A452FIP9_CAPHI)', '(A0A452EVB4_CAPHI)', 'NaN', '(A0A452DVV1_CAPHI)', '(A0A452G5F7_CAPHI)', '(A0A452F381_CAPHI)', 'NaN', '(A0A452F4I8_CAPHI)', '(A0A452EBY0_CAPHI)', '(A0A452FBL5_CAPHI)', 'NaN', 'NaN', '(A0A452FPH6_CAPHI)', 'NaN', '(A0A452EE67_CAPHI)', 'NaN', 'NaN', 'NaN', '(A0A452EZE1_CAPHI)', '(POLG_FMDVA)', 'NaN', '(A9LLG1_CAPHI)', '(A0A452DX03_CAPHI)', 'NaN', '(A0A452EIB3_CAPHI)', 'NaN', '(A0A452G6S7_CAPHI)', '(A0A452EI10_CAPHI)', '(A0A452EVH6_CAPHI)', '(A0A452G1D6_CAPHI)', '(A0A452FPN7_CAPHI)', '(A0A452EXF2_CAPHI)', 'NaN', '(A0A452E1W3_CAPHI)', '(A0A452FUI0_CAPHI)', '(A0A452ESB3_CAPHI)', '(A0A452GAS8_CAPHI)', '(A0A452FLZ7_CAPHI)', '(A0A452DVI0_CAPHI)', '(A0A452G3Z5_CAPHI)', '(A0A452FRS4_CAPHI)', '(A0A452FNF2_CAPHI)', '(A0A452FQR5_CAPHI)', 'NaN', 'NaN', '(A0A452EIE6_CAPHI)', '(A0A452FZ88_CAPHI)', '(A0A452EQK6_CAPHI)', 'NaN', '(A0A452DQZ4_CAPHI)', '(A0A452EQ77_CAPHI)', '(A0A452G5L6_CAPHI)', '(A0A452DQ32_CAPHI)', 'NaN', 'NaN', '(A0A452FYH6_CAPHI)', 'NaN', 'NaN', '(A0A452F002_CAPHI)', '(A0A452F189_CAPHI)', '(A0A452FEB2_CAPHI)', '(A0A452DQ72_CAPHI)', '(A0A452EC56_CAPHI)', '(A0A452DUP7_CAPHI)', '(A0A452G209_CAPHI)', 'NaN', '(A0A452DMS6_CAPHI)', 'NaN', 'NaN', '(A0A452F2L9_CAPHI)', '(A0A452FIA8_CAPHI)', '(A0A452E4Z2_CAPHI)', '(A0A452DV95_CAPHI)', '(A0A452EPC2_CAPHI)', '(A0A452E525_CAPHI)', 'NaN', 'NaN', '(A0A452EP63_CAPHI)', '(A0A452F041_CAPHI)', '(A0A452E7Y7_CAPHI)', '(A0A452FFP3_CAPHI)', '(A0A452FAH8_CAPHI)', 'NaN', '(A0A452FT02_CAPHI)', 'NaN', '(TAU_CAPHI)', 'NaN', 'NaN', 'NaN', '(A0A452FSX2_CAPHI)', '(A0A452E3M4_CAPHI)', '(A0A452DUN6_CAPHI)', '(A0A452G2A1_CAPHI)', '(A0A452G628_CAPHI)', '(A0A452FMF2_CAPHI)', '(A0A452EC48_CAPHI)', 'NaN', '(A0A452FXT8_CAPHI)', '(A0A452EZT2_CAPHI)', '(A0A452EQL3_CAPHI)', 'NaN', '(A0A452E734_CAPHI)', '(A0A452DS17_CAPHI)', '(A0A452EY56_CAPHI)', 'NaN', '(A0A452ECF8_CAPHI)', '(A0A452F2U9_CAPHI)', 'NaN', '(A0A452DTI7_CAPHI)', 'NaN', 'NaN', '(A0A452G7Z7_CAPHI)', '(A0A452E277_CAPHI)', '(A0A452F8C9_CAPHI)', '(A0A452F2T9_CAPHI)', 'NaN', '(A0A452FLI5_CAPHI)', 'NaN', 'NaN', 'NaN', 'NaN', '(A0A452G5Y6_CAPHI)', '(A0A452E7T6_CAPHI)', 'NaN', 'NaN', '(A0A452FCR6_CAPHI)', 'NaN', '(A0A452EAT1_CAPHI)', '(A0A452F315_CAPHI)', 'NaN', '(A0A452FTC6_CAPHI)', '(A0A452EHR8_CAPHI)', '(A0A452EGR2_CAPHI)', '(A0A452FCD8_CAPHI)', '(A0A452FG49_CAPHI)', 'NaN', '(A0A452FSW5_CAPHI)', '(A0A452ECN1_CAPHI)', 'NaN', '(A0A452F3X9_CAPHI)', '(A0A452FUG3_CAPHI)', 'NaN', '(A0A452FP39_CAPHI)', '(A0A452ES56_CAPHI)', '(A0A452G1L3_CAPHI)', '(A0A452G5C5_CAPHI)', '(A0A452FR46_CAPHI)', 'NaN', '(A0A452EAS5_CAPHI)', '(A0A452FMH1_CAPHI)', '(A0A452FFG2_CAPHI)', 'NaN', '(A0A452ENZ9_CAPHI)', '(A0A452FEN9_CAPHI)', '(A0A452DUB6_CAPHI)', 'NaN', '(A0A452FVU8_CAPHI)', '(A0A452E2Y5_CAPHI)', '(A0A452FKU2_CAPHI)', 'NaN', '(A0A452E1Y6_CAPHI)', 'NaN', '(A0A452EL39_CAPHI)', '(A0A452FRR6_CAPHI)', 'NaN', '(A0A452FQA3_CAPHI)', '(A0A452F7S1_CAPHI)', '(A0A452F7V1_CAPHI)', '(A0A452EMQ4_CAPHI)', '(A0A452GB91_CAPHI)', '(A0A452FSR2_CAPHI)', '(A0A452G8P6_CAPHI)', 'NaN', '(A0A452DQP9_CAPHI)', 'NaN', '(A0A452ETB8_CAPHI)', '(A0A452FCR7_CAPHI)', 'NaN', '(A0A452DVM3_CAPHI)', '(A0A452E9N3_CAPHI)', '(A0A452FXP0_CAPHI)', '(A0A452FHK7_CAPHI)', '(A0A452FAB1_CAPHI)', '(A0A452ER68_CAPHI)', 'NaN', 'NaN', '(A0A452FJ17_CAPHI)', '(A0A452DYF7_CAPHI)', '(A0A452FLA6_CAPHI)', 'NaN', '(A0A452EAD6_CAPHI)', '(A0A452FJH8_CAPHI)', 'NaN', '(A0A452EUW5_CAPHI)', '(A0A452FXZ8_CAPHI)', '(A0A452FXZ8_CAPHI)', 'NaN', '(A0A452FSJ2_CAPHI)', '(A0A452FTP2_CAPHI)', '(A0A452EQF5_CAPHI)', 'NaN', '(A0A452EGJ7_CAPHI)', '(A0A452EPW2_CAPHI)', '(A0A452FNV0_CAPHI)', 'NaN', 'NaN', '(A0A452EXP6_CAPHI)', 'NaN', '(RIDA_CAPHI)', '(A0A452EGR8_CAPHI)', '(A0A452ERT2_CAPHI)', '(A0A452DQX9_CAPHI)', '(A0A452DQQ4_CAPHI)', '(A0A452E5J4_CAPHI)', '(FOXL2_CAPHI)', 'NaN', '(A0A452FM56_CAPHI)', '(A0A452DT65_CAPHI)', 'NaN', 'NaN', '(A0A452EG16_CAPHI)', 'NaN', '(A0A452DW60_CAPHI)', '(A0A452EEG0_CAPHI)', '(A0A452F6A7_CAPHI)', '(A0A452EK84_CAPHI)', 'NaN', '(A0A452FD24_CAPHI)', '(A0A452ELX5_CAPHI)', '(A0A452E3F5_CAPHI)', 'NaN', '(A0A097C2Z1_CAPHI)', '(A0A452DTV1_CAPHI)', 'NaN', 'NaN', 'NaN', 'NaN', 'NaN', 'NaN', 'NaN', 'NaN', 'NaN', 'NaN', '(A0A452E1J0_CAPHI)', 'NaN', '(A0A452E4R4_CAPHI)', '(A0A452FYX0_CAPHI)', 'NaN', 'NaN', '(A0A452DUA1_CAPHI)', 'NaN', '(A0A452E2W8_CAPHI)', '(A0A452DXE7_CAPHI)', '(A0A452E2U7_CAPHI)', '(A0A452DM69_CAPHI)', 'NaN', 'NaN', '(A0A452DUK3_CAPHI)', '(A0A452DZK1_CAPHI)', '(A0A452DN84_CAPHI)', '(A0A452DUY8_CAPHI)', '(A0A452EPU8_CAPHI)', '(A0A452F1V1_CAPHI)', 'NaN', '(A0A452FX09_CAPHI)', '(A0A452ENL5_CAPHI)', '(A0A452F6P8_CAPHI)', 'NaN', '(A0A452DN11_CAPHI)', '(MSHR_CAPHI)', '(A0A452F4E9_CAPHI)', '(A0A452EKC2_CAPHI)', '(A0A452DVC1_CAPHI)', 'NaN', 'NaN', '(A0A452EYB1_CAPHI)', '(A0A452G4M0_CAPHI)', '(A0A452FYP7_CAPHI)', '(A0A452FKC6_CAPHI)', '(A0A452DRR9_CAPHI)', '(A0A452DWE9_CAPHI)', 'NaN', 'NaN', '(A0A452DNV8_CAPHI)', '(A0A452F920_CAPHI)', '(A0A452DVJ8_CAPHI)', 'NaN', '(A0A452F9F0_CAPHI)', '(A0A452E2W3_CAPHI)', 'NaN', 'NaN', '(A0A452FBE6_CAPHI)', '(A0A452EVX5_CAPHI)', '(A0A452EVY9_CAPHI)', '(A0A452EHG8_CAPHI)', '(A0A452FCY6_CAPHI)', '(A0A452DYP0_CAPHI)', '(A0A452F3K2_CAPHI)', 'NaN', '(A0A452DXE4_CAPHI)', 'NaN', '(A0A452FJF2_CAPHI)', '(A0A452FYT3_CAPHI)', '(A0A452FTK9_CAPHI)', 'NaN', '(A0A452FBG8_CAPHI)', 'NaN', 'NaN', '(A0A452FN29_CAPHI)', '(A0A452E5W0_CAPHI)', 'NaN', '(A0A452DXE1_CAPHI)', '(A0A452FC11_CAPHI)', '(A0A452DSJ0_CAPHI)', '(A0A452ETD0_CAPHI)', '(A0A452E4H9_CAPHI)', 'NaN', 'NaN', '(A0A452DPS5_CAPHI)', '(A0A452EEB6_CAPHI)', 'NaN', 'NaN', '(A0A452FH60_CAPHI)', 'NaN', '(A0A452G0H8_CAPHI)', '(A0A452E6S7_CAPHI)', '(A0A452E1H6_CAPHI)', '(A0A452EW26_CAPHI)', '(A0A0M3ULS7_CAPHI)', 'NaN', 'NaN', '(A0A452EMX9_CAPHI)', 'NaN', 'NaN', '(A0A452EB64_CAPHI)', 'NaN', 'NaN', '(A0A452EQV9_CAPHI)', '(A0A452DN10_CAPHI)', 'NaN', '(A0A452G1C2_CAPHI)', 'NaN', '(A0A452G158_CAPHI)', '(A0A452F9B4_CAPHI)', '(A0A452FKT2_CAPHI)', '(A0A452ELW2_CAPHI)', '(A0A452G5T9_CAPHI)', '(A0A452DZC9_CAPHI)']\n"
     ]
    }
   ],
   "source": [
    "x = 0\n",
    "for i in range(len(Entry_Name)):\n",
    "    if Entry_Name[i]!=\"NaN\":\n",
    "            Entry_Name[i]=Alt[x]\n",
    "            x = x + 1\n",
    "    else:\n",
    "        Entry_Name[i]='NaN'\n",
    "print(Entry_Name)  "
   ]
  },
  {
   "cell_type": "markdown",
   "metadata": {},
   "source": [
    "### Extrayendo los ( ) de la lista  :\n",
    "Extrayendo  los parentesis de cada elemento de la lista."
   ]
  },
  {
   "cell_type": "code",
   "execution_count": 141,
   "metadata": {},
   "outputs": [
    {
     "name": "stdout",
     "output_type": "stream",
     "text": [
      "['NaN', 'NaN', 'NaN', 'NaN', 'NaN', 'A0A452FI87_CAPHI', 'A0A452EJ84_CAPHI', 'B8YMT5_CAPHI', 'A0A452DP04_CAPHI', 'NaN', 'A0A452EH80_CAPHI', 'A0A452EMC5_CAPHI', 'NaN', 'A0A452G5A1_CAPHI', 'A0A452FPS5_CAPHI', 'NaN', 'A0A452F389_CAPHI', 'A0A452EGT9_CAPHI', 'A0A452G516_CAPHI', 'A0A452F0J2_CAPHI', 'NaN', 'A0A452E679_CAPHI', 'A0A452G381_CAPHI', 'A0A452FHL6_CAPHI', 'A0A452EXQ2_CAPHI', 'A0A452FA09_CAPHI', 'A0A452EHY5_CAPHI', 'A0A452EC95_CAPHI', 'A0A452GAH5_CAPHI', 'NaN', 'NaN', 'A0A452G531_CAPHI', 'A0A452G662_CAPHI', 'A0A452ELN4_CAPHI', 'NaN', 'A0A452ERX4_CAPHI', 'NaN', 'A0A452E148_CAPHI', 'A0A452DRN3_CAPHI', 'A0A452EXA8_CAPHI', 'NaN', 'A0A452EFP7_CAPHI', 'A0A452FZT0_CAPHI', 'A0A452FY48_CAPHI', 'A0A452G2Y3_CAPHI', 'NaN', 'A0A452EG76_CAPHI', 'A0A452F1S1_CAPHI', 'NaN', 'A0A452F6C0_CAPHI', 'A0A452E2U2_CAPHI', 'NaN', 'NaN', 'A0A452EN92_CAPHI', 'A0A452G1K4_CAPHI', 'NaN', 'NaN', 'NaN', 'NaN', 'NaN', 'NaN', 'NaN', 'NaN', 'NaN', 'NaN', 'A0A452DMI4_CAPHI', 'NaN', 'NaN', 'NaN', 'NaN', 'A0A452G205_CAPHI', 'A0A452FX99_CAPHI', 'A0A452F3A1_CAPHI', 'A0A452FEJ6_CAPHI', 'NaN', 'A0A452G7C4_CAPHI', 'A0A452FKF2_CAPHI', 'A0A452GB91_CAPHI', 'A0A452G8J5_CAPHI', 'A0A452FND3_CAPHI', 'NaN', 'A0A452EBZ0_CAPHI', 'A0A452DTW1_CAPHI', 'A0A452FL45_CAPHI', 'A0A452FI39_CAPHI', 'NaN', 'NaN', 'A0A452FAS8_CAPHI', 'NaN', 'A0A452FUF0_CAPHI', 'A0A452ED38_CAPHI', 'A0A452E798_CAPHI', 'A0A452G830_CAPHI', 'NaN', 'A0A452FSQ1_CAPHI', 'A0A452E9I6_CAPHI', 'A0A452DUU6_CAPHI', 'A0A452DT82_CAPHI', 'NaN', 'A0A452G8Y3_CAPHI', 'A0A452F827_CAPHI', 'A0A452FWT4_CAPHI', 'NaN', 'A0A452F082_CAPHI', 'A0A452GB80_CAPHI', 'A0A452F4T6_CAPHI', 'A0A452E239_CAPHI', 'A0A452G138_CAPHI', 'NaN', 'NaN', 'A0A452G3X5_CAPHI', 'NaN', 'A0A452F3B7_CAPHI', 'A0A452EHY3_CAPHI', 'A0A452FDI3_CAPHI', 'A0A452EGC7_CAPHI', 'A0A452E1C1_CAPHI', 'A0A452FFW8_CAPHI', 'A7Y3X8_CAPHI', 'A0A452EVM1_CAPHI', 'A0A452DNN8_CAPHI', 'A0A452DYC8_CAPHI', 'NaN', 'A0A0A7MB97_CAPHI', 'A0A452G1G3_CAPHI', 'A0A452G643_CAPHI', 'A0A452E1S1_CAPHI', 'NaN', 'A0A452G5S3_CAPHI', 'A0A452DSG0_CAPHI', 'A0A452EG86_CAPHI', 'A0A1S5UZS7_CAPHI', 'NaN', 'A0A452ESK7_CAPHI', 'NaN', 'A0A452DTC4_CAPHI', 'A0A452G1W3_CAPHI', 'A0A452DUA8_CAPHI', 'A0A2S1UF42_CAPHI', 'NaN', 'NaN', 'A0A452EX36_CAPHI', 'NaN', 'NaN', 'NaN', 'A0A452DW05_CAPHI', 'A0A452DY04_CAPHI', 'A0A452EV11_CAPHI', 'A0A452E257_CAPHI', 'A0A452FCN1_CAPHI', 'A0A452E134_CAPHI', 'A0A452DWT3_CAPHI', 'A0A452E1S6_CAPHI', 'NaN', 'A0A452FR11_CAPHI', 'NaN', 'A0A452ESG0_CAPHI', 'C6KJ77_CAPHI', 'A0A452FDR6_CAPHI', 'A0A452EN89_CAPHI', 'A0A452DN25_CAPHI', 'A0A452FIP9_CAPHI', 'A0A452EVB4_CAPHI', 'NaN', 'A0A452DVV1_CAPHI', 'A0A452G5F7_CAPHI', 'A0A452F381_CAPHI', 'NaN', 'A0A452F4I8_CAPHI', 'A0A452EBY0_CAPHI', 'A0A452FBL5_CAPHI', 'NaN', 'NaN', 'A0A452FPH6_CAPHI', 'NaN', 'A0A452EE67_CAPHI', 'NaN', 'NaN', 'NaN', 'A0A452EZE1_CAPHI', 'POLG_FMDVA', 'NaN', 'A9LLG1_CAPHI', 'A0A452DX03_CAPHI', 'NaN', 'A0A452EIB3_CAPHI', 'NaN', 'A0A452G6S7_CAPHI', 'A0A452EI10_CAPHI', 'A0A452EVH6_CAPHI', 'A0A452G1D6_CAPHI', 'A0A452FPN7_CAPHI', 'A0A452EXF2_CAPHI', 'NaN', 'A0A452E1W3_CAPHI', 'A0A452FUI0_CAPHI', 'A0A452ESB3_CAPHI', 'A0A452GAS8_CAPHI', 'A0A452FLZ7_CAPHI', 'A0A452DVI0_CAPHI', 'A0A452G3Z5_CAPHI', 'A0A452FRS4_CAPHI', 'A0A452FNF2_CAPHI', 'A0A452FQR5_CAPHI', 'NaN', 'NaN', 'A0A452EIE6_CAPHI', 'A0A452FZ88_CAPHI', 'A0A452EQK6_CAPHI', 'NaN', 'A0A452DQZ4_CAPHI', 'A0A452EQ77_CAPHI', 'A0A452G5L6_CAPHI', 'A0A452DQ32_CAPHI', 'NaN', 'NaN', 'A0A452FYH6_CAPHI', 'NaN', 'NaN', 'A0A452F002_CAPHI', 'A0A452F189_CAPHI', 'A0A452FEB2_CAPHI', 'A0A452DQ72_CAPHI', 'A0A452EC56_CAPHI', 'A0A452DUP7_CAPHI', 'A0A452G209_CAPHI', 'NaN', 'A0A452DMS6_CAPHI', 'NaN', 'NaN', 'A0A452F2L9_CAPHI', 'A0A452FIA8_CAPHI', 'A0A452E4Z2_CAPHI', 'A0A452DV95_CAPHI', 'A0A452EPC2_CAPHI', 'A0A452E525_CAPHI', 'NaN', 'NaN', 'A0A452EP63_CAPHI', 'A0A452F041_CAPHI', 'A0A452E7Y7_CAPHI', 'A0A452FFP3_CAPHI', 'A0A452FAH8_CAPHI', 'NaN', 'A0A452FT02_CAPHI', 'NaN', 'TAU_CAPHI', 'NaN', 'NaN', 'NaN', 'A0A452FSX2_CAPHI', 'A0A452E3M4_CAPHI', 'A0A452DUN6_CAPHI', 'A0A452G2A1_CAPHI', 'A0A452G628_CAPHI', 'A0A452FMF2_CAPHI', 'A0A452EC48_CAPHI', 'NaN', 'A0A452FXT8_CAPHI', 'A0A452EZT2_CAPHI', 'A0A452EQL3_CAPHI', 'NaN', 'A0A452E734_CAPHI', 'A0A452DS17_CAPHI', 'A0A452EY56_CAPHI', 'NaN', 'A0A452ECF8_CAPHI', 'A0A452F2U9_CAPHI', 'NaN', 'A0A452DTI7_CAPHI', 'NaN', 'NaN', 'A0A452G7Z7_CAPHI', 'A0A452E277_CAPHI', 'A0A452F8C9_CAPHI', 'A0A452F2T9_CAPHI', 'NaN', 'A0A452FLI5_CAPHI', 'NaN', 'NaN', 'NaN', 'NaN', 'A0A452G5Y6_CAPHI', 'A0A452E7T6_CAPHI', 'NaN', 'NaN', 'A0A452FCR6_CAPHI', 'NaN', 'A0A452EAT1_CAPHI', 'A0A452F315_CAPHI', 'NaN', 'A0A452FTC6_CAPHI', 'A0A452EHR8_CAPHI', 'A0A452EGR2_CAPHI', 'A0A452FCD8_CAPHI', 'A0A452FG49_CAPHI', 'NaN', 'A0A452FSW5_CAPHI', 'A0A452ECN1_CAPHI', 'NaN', 'A0A452F3X9_CAPHI', 'A0A452FUG3_CAPHI', 'NaN', 'A0A452FP39_CAPHI', 'A0A452ES56_CAPHI', 'A0A452G1L3_CAPHI', 'A0A452G5C5_CAPHI', 'A0A452FR46_CAPHI', 'NaN', 'A0A452EAS5_CAPHI', 'A0A452FMH1_CAPHI', 'A0A452FFG2_CAPHI', 'NaN', 'A0A452ENZ9_CAPHI', 'A0A452FEN9_CAPHI', 'A0A452DUB6_CAPHI', 'NaN', 'A0A452FVU8_CAPHI', 'A0A452E2Y5_CAPHI', 'A0A452FKU2_CAPHI', 'NaN', 'A0A452E1Y6_CAPHI', 'NaN', 'A0A452EL39_CAPHI', 'A0A452FRR6_CAPHI', 'NaN', 'A0A452FQA3_CAPHI', 'A0A452F7S1_CAPHI', 'A0A452F7V1_CAPHI', 'A0A452EMQ4_CAPHI', 'A0A452GB91_CAPHI', 'A0A452FSR2_CAPHI', 'A0A452G8P6_CAPHI', 'NaN', 'A0A452DQP9_CAPHI', 'NaN', 'A0A452ETB8_CAPHI', 'A0A452FCR7_CAPHI', 'NaN', 'A0A452DVM3_CAPHI', 'A0A452E9N3_CAPHI', 'A0A452FXP0_CAPHI', 'A0A452FHK7_CAPHI', 'A0A452FAB1_CAPHI', 'A0A452ER68_CAPHI', 'NaN', 'NaN', 'A0A452FJ17_CAPHI', 'A0A452DYF7_CAPHI', 'A0A452FLA6_CAPHI', 'NaN', 'A0A452EAD6_CAPHI', 'A0A452FJH8_CAPHI', 'NaN', 'A0A452EUW5_CAPHI', 'A0A452FXZ8_CAPHI', 'A0A452FXZ8_CAPHI', 'NaN', 'A0A452FSJ2_CAPHI', 'A0A452FTP2_CAPHI', 'A0A452EQF5_CAPHI', 'NaN', 'A0A452EGJ7_CAPHI', 'A0A452EPW2_CAPHI', 'A0A452FNV0_CAPHI', 'NaN', 'NaN', 'A0A452EXP6_CAPHI', 'NaN', 'RIDA_CAPHI', 'A0A452EGR8_CAPHI', 'A0A452ERT2_CAPHI', 'A0A452DQX9_CAPHI', 'A0A452DQQ4_CAPHI', 'A0A452E5J4_CAPHI', 'FOXL2_CAPHI', 'NaN', 'A0A452FM56_CAPHI', 'A0A452DT65_CAPHI', 'NaN', 'NaN', 'A0A452EG16_CAPHI', 'NaN', 'A0A452DW60_CAPHI', 'A0A452EEG0_CAPHI', 'A0A452F6A7_CAPHI', 'A0A452EK84_CAPHI', 'NaN', 'A0A452FD24_CAPHI', 'A0A452ELX5_CAPHI', 'A0A452E3F5_CAPHI', 'NaN', 'A0A097C2Z1_CAPHI', 'A0A452DTV1_CAPHI', 'NaN', 'NaN', 'NaN', 'NaN', 'NaN', 'NaN', 'NaN', 'NaN', 'NaN', 'NaN', 'A0A452E1J0_CAPHI', 'NaN', 'A0A452E4R4_CAPHI', 'A0A452FYX0_CAPHI', 'NaN', 'NaN', 'A0A452DUA1_CAPHI', 'NaN', 'A0A452E2W8_CAPHI', 'A0A452DXE7_CAPHI', 'A0A452E2U7_CAPHI', 'A0A452DM69_CAPHI', 'NaN', 'NaN', 'A0A452DUK3_CAPHI', 'A0A452DZK1_CAPHI', 'A0A452DN84_CAPHI', 'A0A452DUY8_CAPHI', 'A0A452EPU8_CAPHI', 'A0A452F1V1_CAPHI', 'NaN', 'A0A452FX09_CAPHI', 'A0A452ENL5_CAPHI', 'A0A452F6P8_CAPHI', 'NaN', 'A0A452DN11_CAPHI', 'MSHR_CAPHI', 'A0A452F4E9_CAPHI', 'A0A452EKC2_CAPHI', 'A0A452DVC1_CAPHI', 'NaN', 'NaN', 'A0A452EYB1_CAPHI', 'A0A452G4M0_CAPHI', 'A0A452FYP7_CAPHI', 'A0A452FKC6_CAPHI', 'A0A452DRR9_CAPHI', 'A0A452DWE9_CAPHI', 'NaN', 'NaN', 'A0A452DNV8_CAPHI', 'A0A452F920_CAPHI', 'A0A452DVJ8_CAPHI', 'NaN', 'A0A452F9F0_CAPHI', 'A0A452E2W3_CAPHI', 'NaN', 'NaN', 'A0A452FBE6_CAPHI', 'A0A452EVX5_CAPHI', 'A0A452EVY9_CAPHI', 'A0A452EHG8_CAPHI', 'A0A452FCY6_CAPHI', 'A0A452DYP0_CAPHI', 'A0A452F3K2_CAPHI', 'NaN', 'A0A452DXE4_CAPHI', 'NaN', 'A0A452FJF2_CAPHI', 'A0A452FYT3_CAPHI', 'A0A452FTK9_CAPHI', 'NaN', 'A0A452FBG8_CAPHI', 'NaN', 'NaN', 'A0A452FN29_CAPHI', 'A0A452E5W0_CAPHI', 'NaN', 'A0A452DXE1_CAPHI', 'A0A452FC11_CAPHI', 'A0A452DSJ0_CAPHI', 'A0A452ETD0_CAPHI', 'A0A452E4H9_CAPHI', 'NaN', 'NaN', 'A0A452DPS5_CAPHI', 'A0A452EEB6_CAPHI', 'NaN', 'NaN', 'A0A452FH60_CAPHI', 'NaN', 'A0A452G0H8_CAPHI', 'A0A452E6S7_CAPHI', 'A0A452E1H6_CAPHI', 'A0A452EW26_CAPHI', 'A0A0M3ULS7_CAPHI', 'NaN', 'NaN', 'A0A452EMX9_CAPHI', 'NaN', 'NaN', 'A0A452EB64_CAPHI', 'NaN', 'NaN', 'A0A452EQV9_CAPHI', 'A0A452DN10_CAPHI', 'NaN', 'A0A452G1C2_CAPHI', 'NaN', 'A0A452G158_CAPHI', 'A0A452F9B4_CAPHI', 'A0A452FKT2_CAPHI', 'A0A452ELW2_CAPHI', 'A0A452G5T9_CAPHI', 'A0A452DZC9_CAPHI']\n"
     ]
    },
    {
     "data": {
      "text/plain": [
       "509"
      ]
     },
     "execution_count": 141,
     "metadata": {},
     "output_type": "execute_result"
    }
   ],
   "source": [
    "import re\n",
    "Entry_Names=[]\n",
    "for i in range(len(Entry_Name)):\n",
    "    Entry_Names.append(re.sub('[()]', '', Entry_Name[i]))\n",
    "print(Entry_Names)\n",
    "len(Entry_Names)"
   ]
  },
  {
   "cell_type": "markdown",
   "metadata": {},
   "source": [
    "### Extrayendo los datos de la columna **Protein**"
   ]
  },
  {
   "cell_type": "code",
   "execution_count": 48,
   "metadata": {},
   "outputs": [
    {
     "name": "stdout",
     "output_type": "stream",
     "text": [
      "['Vestigial like family member 3', 'Charged multivesicular body protein 2B', 'POU domain protein', '5-hydroxytryptamine receptor 1F', 'CGG triplet repeat binding protein 1', 'Zinc finger protein 654', 'Sulfide:quinone oxidoreductase, mitochondrial pseu', 'Solute carrier family 12 member 8', 'Zinc finger protein 148', 'Sorting nexin 4', 'Oxysterol-binding protein', 'Leishmanolysin-like peptidase', 'Dynein regulatory complex protein 9', 'Leucine rich repeats and calponin homology domain ', 'Forty-two-three domain-containing protein 1', 'Rubicon autophagy regulator', 'Mucin 20, cell surface associated', 'Mucin 4, cell surface associated', 'Non-specific protein-tyrosine kinase', 'Transferrin receptor protein 1', 'Chloride channel protein', 'Heat shock protein family B (small) member 7', 'Family with sequence similarity 131 member C', 'Receptor protein-tyrosine kinase', 'Rho guanine nucleotide exchange factor 19', 'Ciliogenesis and planar polarity effector 2', 'F-box protein 42', 'SUZ domain-containing protein 1', 'Spermatogenesis associated 21', 'NECAP endocytosis associated 2', 'Ciliary rootlet coiled-coil, rootletin', 'Succinate dehydrogenase [ubiquinone] iron-sulfur s', 'Protein-arginine deiminase', 'Protein-arginine deiminase', 'Protein-arginine deiminase', 'Protein-arginine deiminase', 'Regulator of chromosome condensation 2', 'Small proline-rich protein 2E-like', 'Inhibitor of growth protein', 'dTMP kinase', 'Cysteine protease', 'THAP domain containing 4', 'BCL2 family apoptosis regulator BOK', 'Serine/threonine kinase 25', 'FERM, ARH/RhoGEF and pleckstrin domain protein 2', 'Septin', 'High density lipoprotein binding protein', 'Protein phosphatase 1 regulatory subunit 7', 'PAS domain containing serine/threonine kinase', 'Mitochondrial transcription termination factor 4', 'Sushi, nidogen and EGF like domains 1', 'Ring finger protein 32', 'Hedgehog protein', 'RNA binding motif protein 33', 'Canopy FGF signaling regulator 1', '15-oxoprostaglandin 13-reductase', 'Insulin-induced gene protein', '5-hydroxytryptamine receptor 5A', 'E3 ubiquitin-protein ligase RNF8', 'Dipeptidyl peptidase like 6', 'Polypeptide N-acetylgalactosaminyltransferase', 'Polypeptide N-acetylgalactosaminyltransferase like', 'Protein kinase AMP-activated non-catalytic subunit', 'Ras homolog, mTORC1 binding', 'Crystallin gamma N', 'WD repeat domain 86', 'Negative regulator of ubiquitin like proteins 1', 'SWI/SNF related, matrix associated, actin dependen', 'ATP binding cassette subfamily F member 2', 'IQ motif containing with AAA domain 1 like', 'Ankyrin repeat and SOCS box containing 10', 'Gastrulation brain homeobox 1', 'ArfGAP with GTPase domain, ankyrin repeat and PH d', 'NCK associated protein 1 like', 'Gametocyte specific factor 1 like', 'Multifunctional fusion protein', 'Zinc finger protein 385A', 'G protein-coupled receptor 84', 'Coatomer subunit zeta', 'Nuclear factor erythroid 2-related factor 2', 'Helix-destabilizing protein', 'Chromobox 5', 'Single-strand-selective monofunctional uracil-DNA ', 'Homeobox C4', 'Homeobox C5', 'Homeobox C6', 'HOXC8', 'Homeobox protein', 'Homeobox C10', 'Homeobox C11', 'Homeobox C12', 'Homeobox C13', 'Calcium binding and coiled-coil domain 1', 'GPRIN family member 3', 'Tigger transposable element derived 2', 'Family with sequence similarity 13 member A', 'HECT and RLD domain containing E3 ubiquitin protei', 'Nucleosome assembly protein 1 like 5', 'PIGY upstream reading frame', 'Phosphatidylinositol glycan anchor biosynthesis cl', 'HECT and RLD domain containing E3 ubiquitin protei', 'HECT and RLD domain containing E3 ubiquitin protei', 'Protein phosphatase, Mg2+/Mn2+ dependent 1K', 'ATP-binding cassette sub-family G member 2', 'Polycystin 2, transient receptor potential cation ', 'Secreted phosphoprotein 1', 'Matrix extracellular phosphoglycoprotein', 'Bone sialoprotein 2', 'Triosephosphate isomerase', 'Cysteinylglycine-S-conjugate dipeptidase', 'Mediator complex subunit 28', 'Family with sequence similarity 184 member B', 'DDB1 and CUL4 associated factor 16', 'Non-SMC condensin I complex subunit G', 'Ligand dependent nuclear receptor corepressor like', 'F-box and leucine rich repeat protein 17', 'Ephrin A5', 'Glycine receptor alpha 1', 'Genome polyprotein', 'Osteonectin', 'FAT atypical cadherin 2', 'Solute carrier family 36 member 2', 'GM2 ganglioside activator', 'Coiled-coil domain containing 69', 'Annexin', 'TNFAIP3 interacting protein 1', 'Glutathione peroxidase 3', 'Zinc finger protein 300', 'Small integral membrane protein 3', 'Dynactin subunit 4', 'Pre-mRNA-splicing factor RBM22', 'Myozenin 3', 'Synaptopodin 2', 'Sentrin-specific protease 8', 'Solute carrier family 24 member 2', 'Alkaline ceramidase', 'Ribosomal protein S6 kinase', 'DENN domain containing 4C', 'Perilipin', 'HAUS augmin like complex subunit 6', 'Dihydrofolate reductase', 'Ras-related GTP-binding protein', 'Stabilizer of axonemal microtubules 1', 'ADAMTS like 1', 'Gap junction protein', 'Programmed cell death 1 ligand 2', 'CD274 molecule', 'Plasminogen receptor with a C-terminal lysine', 'Insulin like 6', 'Tyrosine-protein kinase', 'RNA terminal phosphate cyclase like 1', 'Adenylate kinase 4, mitochondrial', 'Cell division cycle 37 like 1', 'Phospholipid phosphatase 6', 'Osteoclastogenesis associated transmembrane protei', 'SEC63 homolog, protein translocation regulator', 'Scm polycomb group protein like 4', 'Sine oculis binding protein homolog', 'Decaprenyl diphosphate synthase subunit 2', 'BEN domain containing 3', 'CD24 molecule', 'Glutamyl-tRNA(Gln) amidotransferase subunit A, mit', 'Reticulon 4 interacting protein 1', 'Crystallin beta-gamma domain containing 1', 'Autophagy protein 5', 'PR domain zinc finger protein 1', 'Microtubule-associated protein tau', 'Aldehyde dehydrogenase 8 family member A1', 'HBS1-like protein', 'Histone-lysine N-methyltransferase EZH2', 'Abelson helper integration site 1', 'Phosphodiesterase', 'Eukaryotic translation initiation factor 3 subunit', 'CTD small phosphatase like 2', 'Golgi membrane protein 2', 'Ribosomal protein S6 kinase', 'Tetratricopeptide repeat domain 7B', 'Calmodulin 1', 'NRDE-2, necessary for RNA interference, domain con', 'Proteasome 26S subunit, ATPase 1', 'Tyrosyl-DNA phosphodiesterase 1', 'EF-hand calcium binding domain 11', 'Forkhead box N3', 'AarF domain containing kinase 1', 'SNW domain-containing protein 1', 'SRA stem-loop interacting RNA binding protein', 'AlkB homolog 1, histone H2A dioxygenase', 'Serine palmitoyltransferase long chain base subuni', 'Activator of HSP90 ATPase activity 1', 'Spermatogenesis-defective protein 39 homolog', 'Bcl-2-like protein 11', 'BUB1 mitotic checkpoint serine/threonine kinase', 'Two pore calcium channel protein 2', 'Nephrocystin 1', 'Mal, T cell differentiation protein like', 'L-lactate dehydrogenase', 'Myelin and lymphocyte protein', 'Mitochondrial ribosomal protein S5', 'Zinc finger protein 514', 'Zinc finger protein 2', 'Prominin 2', 'Potassium voltage-gated channel interacting protei', 'Glycerol-3-phosphate acyltransferase 2, mitochondr', 'Alpha-2B adrenergic receptor', 'Metalloendopeptidase', 'Dual specificity protein phosphatase', 'StAR related lipid transfer domain containing 7', 'Transmembrane protein 127', 'Probable cytosolic iron-sulfur protein assembly pr', 'Small nuclear ribonucleoprotein U5 subunit 200', 'Dolichyl-phosphate-mannose--protein mannosyltransf', 'Gamma-glutamylaminecyclotransferase', 'Propanoyl-CoA:carbon dioxide ligase subunit alpha', 'Zic family member 2', 'Zic family member 5', 'Citrate lyase beta like', 'Transmembrane 9 superfamily member', 'G-protein coupled receptor 183-like', 'UBA domain containing 2', 'G-protein coupled receptor 18', 'Dedicator of cytokinesis 9', 'Solute carrier family 15 member 1', 'Serine/threonine kinase 24', 'FERM, ARH/RhoGEF and pleckstrin domain protein 2', 'Sodium/potassium-transporting ATPase subunit alpha', 'Ring finger protein 17', 'Centromere protein J', 'Poly [ADP-ribose] polymerase', 'M-phase phosphoprotein 8', 'Serine palmitoyltransferase long chain base subuni', 'Isthmin 1', 'Taspase 1', 'ESF1 nucleolar pre-rRNA processing protein homolog', 'NADH:ubiquinone oxidoreductase complex assembly fa', 'SEL1L2 adaptor subunit of ERAD E3 ligase', 'Kinesin family member 16B', 'Small nuclear ribonucleoprotein polypeptide B2', 'Otoraplin', 'N-acetylneuraminic acid phosphatase', 'Ninein like', 'DNA helicase', 'Interleukin', 'Interleukin', 'Splicing factor 45', '6-phosphofructo-2-kinase', 'Protein kinase C delta type', 'Scm like with four mbt domains 2', 'BMP and activin membrane-bound inhibitor homolog', 'WW domain containing adaptor with coiled-coil', '60S ribosomal protein L30', '2-iminobutanoate/2-iminopropanoate deaminase', 'Ribonuclease P protein subunit p20', 'NIPA like domain containing 2', 'Thyroid transcription factor 1-associated protein ', 'Potassium voltage-gated channel modifier subfamily', 'Non-specific serine/threonine protein kinase', 'Forkhead box protein L2', 'Uncharacterized protein', 'GTP-binding nuclear protein Ran', 'Regulator of G protein signaling 22', 'F-box protein 43', 'RNA polymerase II subunit K', 'Sperm associated antigen 1', 'RBR-type E3 ubiquitin transferase', 'Ankyrin repeat domain 46', 'Sorting nexin 31', 'Protein argonaute-2', 'Tyrosine 3-monooxygenase/tryptophan 5-monooxygenas', 'Zinc finger protein 706', 'Olfactory receptor', 'Olfactory receptor', 'Olfactory receptor', 'Olfactory receptor', 'Olfactory receptor', 'Olfactory receptor', 'Olfactory receptor', 'Olfactory receptor', 'Olfactory receptor', 'Olfactory receptor', 'Olfactory receptor', 'Olfactory receptor', 'Protein-tyrosine-phosphatase', 'Phospholipase D family member 5', 'Microtubule associated protein 1 light chain 3 gam', 'DNA helicase', 'WD repeat domain 64', 'Rab proteins geranylgeranyltransferase component A', 'Melanocyte-stimulating hormone receptor', 'Kynurenine 3-monooxygenase', 'Forkhead box P3', 'Regulator of G protein signaling 7 binding protein', 'Lymphotactin', 'Lymphotactin', 'Selectin P', 'L-selectin', 'Selectin E', 'Methyltransferase like 18', 'SCY1 like pseudokinase 3', 'Kinesin associated protein 3', 'Methyltransferase like 11B', 'N-terminal kinase-like-binding protein 1', 'Paired related homeobox 1', 'Uncharacterized protein', 'Splicing factor YJU2', 'Eukaryotic translation initiation factor 4E nuclea', 'Developmentally regulated GTP binding protein 1', 'POZ/BTB and AT hook containing zinc finger 1', 'Phosphoinositide-3-kinase interacting protein 1', 'LIM domain kinase 2', 'Erythropoietin receptor', 'Ring finger protein 185', 'Phospholipase A2 group III', 'Inositol-polyphosphate 5-phosphatase', 'Smoothelin', 'MORC family CW-type zinc finger 2', 'Oxysterol-binding protein', 'Protein-tyrosine-phosphatase', 'Solute carrier family 35 member E4', 'Transcobalamin 2', 'Pescadillo homolog', 'Galactose-3-O-sulfotransferase 1', 'SEC14 like lipid binding 3', 'Mitochondrial 18 kDa protein', 'DNA helicase', 'RB transcriptional corepressor like 2', 'AKT interacting protein', 'Vesicle transport through interaction with t-SNARE', 'RPGRIP1 like', 'Alpha-ketoglutarate-dependent dioxygenase FTO', 'Iroquois homeobox 3', 'Iroquois homeobox 5', 'Cadherin-5', 'Brain expressed associated with NEDD4 1', 'Thymidine kinase 2', 'CKLF like MARVEL transmembrane domain containing 2', 'CKLF like MARVEL transmembrane domain containing 3', 'CKLF like MARVEL transmembrane domain containing 4', 'Dynein light intermediate chain', 'Telomere repeat binding bouquet formation protein ', 'NEDD8-activating enzyme E1 regulatory subunit']\n"
     ]
    }
   ],
   "source": [
    "Prot = []\n",
    "for i in range(len(urls_1)):\n",
    "    requ = Request(urls_1[i], headers={'User-Agent': 'Mozilla/5.0'})\n",
    "    subpage = urlopen(requ).read()\n",
    "    pagesoup=soup(subpage, \"html.parser\")\n",
    "    resl = pagesoup.find(\"div\",{\"id\":\"content-protein\"}).h1.text[0:50]\n",
    "    Prot.append(resl)\n",
    "\n",
    "print(Prot)"
   ]
  },
  {
   "cell_type": "code",
   "execution_count": 49,
   "metadata": {},
   "outputs": [
    {
     "name": "stdout",
     "output_type": "stream",
     "text": [
      "['NaN', 'NaN', 'NaN', 'NaN', 'NaN', 'Vestigial like family member 3', 'Charged multivesicular body protein 2B', 'POU domain protein', '5-hydroxytryptamine receptor 1F', 'NaN', 'CGG triplet repeat binding protein 1', 'Zinc finger protein 654', 'NaN', 'Sulfide:quinone oxidoreductase, mitochondrial pseu', 'Solute carrier family 12 member 8', 'NaN', 'Zinc finger protein 148', 'Sorting nexin 4', 'Oxysterol-binding protein', 'Leishmanolysin-like peptidase', 'NaN', 'Dynein regulatory complex protein 9', 'Leucine rich repeats and calponin homology domain ', 'Forty-two-three domain-containing protein 1', 'Rubicon autophagy regulator', 'Mucin 20, cell surface associated', 'Mucin 4, cell surface associated', 'Non-specific protein-tyrosine kinase', 'Transferrin receptor protein 1', 'NaN', 'NaN', 'Chloride channel protein', 'Heat shock protein family B (small) member 7', 'Family with sequence similarity 131 member C', 'NaN', 'Receptor protein-tyrosine kinase', 'NaN', 'Rho guanine nucleotide exchange factor 19', 'Ciliogenesis and planar polarity effector 2', 'F-box protein 42', 'NaN', 'SUZ domain-containing protein 1', 'Spermatogenesis associated 21', 'NECAP endocytosis associated 2', 'Ciliary rootlet coiled-coil, rootletin', 'NaN', 'Succinate dehydrogenase [ubiquinone] iron-sulfur s', 'Protein-arginine deiminase', 'NaN', 'Protein-arginine deiminase', 'Protein-arginine deiminase', 'NaN', 'NaN', 'Protein-arginine deiminase', 'Regulator of chromosome condensation 2', 'NaN', 'NaN', 'NaN', 'NaN', 'NaN', 'NaN', 'NaN', 'NaN', 'NaN', 'NaN', 'Small proline-rich protein 2E-like', 'NaN', 'NaN', 'NaN', 'NaN', 'Inhibitor of growth protein', 'dTMP kinase', 'Cysteine protease', 'THAP domain containing 4', 'NaN', 'BCL2 family apoptosis regulator BOK', 'Serine/threonine kinase 25', 'FERM, ARH/RhoGEF and pleckstrin domain protein 2', 'Septin', 'High density lipoprotein binding protein', 'NaN', 'Protein phosphatase 1 regulatory subunit 7', 'PAS domain containing serine/threonine kinase', 'Mitochondrial transcription termination factor 4', 'Sushi, nidogen and EGF like domains 1', 'NaN', 'NaN', 'Ring finger protein 32', 'NaN', 'Hedgehog protein', 'RNA binding motif protein 33', 'Canopy FGF signaling regulator 1', '15-oxoprostaglandin 13-reductase', 'NaN', 'Insulin-induced gene protein', '5-hydroxytryptamine receptor 5A', 'E3 ubiquitin-protein ligase RNF8', 'Dipeptidyl peptidase like 6', 'NaN', 'Polypeptide N-acetylgalactosaminyltransferase', 'Polypeptide N-acetylgalactosaminyltransferase like', 'Protein kinase AMP-activated non-catalytic subunit', 'NaN', 'Ras homolog, mTORC1 binding', 'Crystallin gamma N', 'WD repeat domain 86', 'Negative regulator of ubiquitin like proteins 1', 'SWI/SNF related, matrix associated, actin dependen', 'NaN', 'NaN', 'ATP binding cassette subfamily F member 2', 'NaN', 'IQ motif containing with AAA domain 1 like', 'Ankyrin repeat and SOCS box containing 10', 'Gastrulation brain homeobox 1', 'ArfGAP with GTPase domain, ankyrin repeat and PH d', 'NCK associated protein 1 like', 'Gametocyte specific factor 1 like', 'Multifunctional fusion protein', 'Zinc finger protein 385A', 'G protein-coupled receptor 84', 'Coatomer subunit zeta', 'NaN', 'Nuclear factor erythroid 2-related factor 2', 'Helix-destabilizing protein', 'Chromobox 5', 'Single-strand-selective monofunctional uracil-DNA ', 'NaN', 'Homeobox C4', 'Homeobox C5', 'Homeobox C6', 'HOXC8', 'NaN', 'Homeobox protein', 'NaN', 'Homeobox C10', 'Homeobox C11', 'Homeobox C12', 'Homeobox C13', 'NaN', 'NaN', 'Calcium binding and coiled-coil domain 1', 'NaN', 'NaN', 'NaN', 'GPRIN family member 3', 'Tigger transposable element derived 2', 'Family with sequence similarity 13 member A', 'HECT and RLD domain containing E3 ubiquitin protei', 'Nucleosome assembly protein 1 like 5', 'PIGY upstream reading frame', 'Phosphatidylinositol glycan anchor biosynthesis cl', 'HECT and RLD domain containing E3 ubiquitin protei', 'NaN', 'HECT and RLD domain containing E3 ubiquitin protei', 'NaN', 'Protein phosphatase, Mg2+/Mn2+ dependent 1K', 'ATP-binding cassette sub-family G member 2', 'Polycystin 2, transient receptor potential cation ', 'Secreted phosphoprotein 1', 'Matrix extracellular phosphoglycoprotein', 'Bone sialoprotein 2', 'Triosephosphate isomerase', 'NaN', 'Cysteinylglycine-S-conjugate dipeptidase', 'Mediator complex subunit 28', 'Family with sequence similarity 184 member B', 'NaN', 'DDB1 and CUL4 associated factor 16', 'Non-SMC condensin I complex subunit G', 'Ligand dependent nuclear receptor corepressor like', 'NaN', 'NaN', 'F-box and leucine rich repeat protein 17', 'NaN', 'Ephrin A5', 'NaN', 'NaN', 'NaN', 'Glycine receptor alpha 1', 'Genome polyprotein', 'NaN', 'Osteonectin', 'FAT atypical cadherin 2', 'NaN', 'Solute carrier family 36 member 2', 'NaN', 'GM2 ganglioside activator', 'Coiled-coil domain containing 69', 'Annexin', 'TNFAIP3 interacting protein 1', 'Glutathione peroxidase 3', 'Zinc finger protein 300', 'NaN', 'Small integral membrane protein 3', 'Dynactin subunit 4', 'Pre-mRNA-splicing factor RBM22', 'Myozenin 3', 'Synaptopodin 2', 'Sentrin-specific protease 8', 'Solute carrier family 24 member 2', 'Alkaline ceramidase', 'Ribosomal protein S6 kinase', 'DENN domain containing 4C', 'NaN', 'NaN', 'Perilipin', 'HAUS augmin like complex subunit 6', 'Dihydrofolate reductase', 'NaN', 'Ras-related GTP-binding protein', 'Stabilizer of axonemal microtubules 1', 'ADAMTS like 1', 'Gap junction protein', 'NaN', 'NaN', 'Programmed cell death 1 ligand 2', 'NaN', 'NaN', 'CD274 molecule', 'Plasminogen receptor with a C-terminal lysine', 'Insulin like 6', 'Tyrosine-protein kinase', 'RNA terminal phosphate cyclase like 1', 'Adenylate kinase 4, mitochondrial', 'Cell division cycle 37 like 1', 'NaN', 'Phospholipid phosphatase 6', 'NaN', 'NaN', 'Osteoclastogenesis associated transmembrane protei', 'SEC63 homolog, protein translocation regulator', 'Scm polycomb group protein like 4', 'Sine oculis binding protein homolog', 'Decaprenyl diphosphate synthase subunit 2', 'BEN domain containing 3', 'NaN', 'NaN', 'CD24 molecule', 'Glutamyl-tRNA(Gln) amidotransferase subunit A, mit', 'Reticulon 4 interacting protein 1', 'Crystallin beta-gamma domain containing 1', 'Autophagy protein 5', 'NaN', 'PR domain zinc finger protein 1', 'NaN', 'Microtubule-associated protein tau', 'NaN', 'NaN', 'NaN', 'Aldehyde dehydrogenase 8 family member A1', 'HBS1-like protein', 'Histone-lysine N-methyltransferase EZH2', 'Abelson helper integration site 1', 'Phosphodiesterase', 'Eukaryotic translation initiation factor 3 subunit', 'CTD small phosphatase like 2', 'NaN', 'Golgi membrane protein 2', 'Ribosomal protein S6 kinase', 'Tetratricopeptide repeat domain 7B', 'NaN', 'Calmodulin 1', 'NRDE-2, necessary for RNA interference, domain con', 'Proteasome 26S subunit, ATPase 1', 'NaN', 'Tyrosyl-DNA phosphodiesterase 1', 'EF-hand calcium binding domain 11', 'NaN', 'Forkhead box N3', 'NaN', 'NaN', 'AarF domain containing kinase 1', 'SNW domain-containing protein 1', 'SRA stem-loop interacting RNA binding protein', 'AlkB homolog 1, histone H2A dioxygenase', 'NaN', 'Serine palmitoyltransferase long chain base subuni', 'NaN', 'NaN', 'NaN', 'NaN', 'Activator of HSP90 ATPase activity 1', 'Spermatogenesis-defective protein 39 homolog', 'NaN', 'NaN', 'Bcl-2-like protein 11', 'NaN', 'BUB1 mitotic checkpoint serine/threonine kinase', 'Two pore calcium channel protein 2', 'NaN', 'Nephrocystin 1', 'Mal, T cell differentiation protein like', 'L-lactate dehydrogenase', 'Myelin and lymphocyte protein', 'Mitochondrial ribosomal protein S5', 'NaN', 'Zinc finger protein 514', 'Zinc finger protein 2', 'NaN', 'Prominin 2', 'Potassium voltage-gated channel interacting protei', 'NaN', 'Glycerol-3-phosphate acyltransferase 2, mitochondr', 'Alpha-2B adrenergic receptor', 'Metalloendopeptidase', 'Dual specificity protein phosphatase', 'StAR related lipid transfer domain containing 7', 'NaN', 'Transmembrane protein 127', 'Probable cytosolic iron-sulfur protein assembly pr', 'Small nuclear ribonucleoprotein U5 subunit 200', 'NaN', 'Dolichyl-phosphate-mannose--protein mannosyltransf', 'Gamma-glutamylaminecyclotransferase', 'Propanoyl-CoA:carbon dioxide ligase subunit alpha', 'NaN', 'Zic family member 2', 'Zic family member 5', 'Citrate lyase beta like', 'NaN', 'Transmembrane 9 superfamily member', 'NaN', 'G-protein coupled receptor 183-like', 'UBA domain containing 2', 'NaN', 'G-protein coupled receptor 18', 'Dedicator of cytokinesis 9', 'Solute carrier family 15 member 1', 'Serine/threonine kinase 24', 'FERM, ARH/RhoGEF and pleckstrin domain protein 2', 'Sodium/potassium-transporting ATPase subunit alpha', 'Ring finger protein 17', 'NaN', 'Centromere protein J', 'NaN', 'Poly [ADP-ribose] polymerase', 'M-phase phosphoprotein 8', 'NaN', 'Serine palmitoyltransferase long chain base subuni', 'Isthmin 1', 'Taspase 1', 'ESF1 nucleolar pre-rRNA processing protein homolog', 'NADH:ubiquinone oxidoreductase complex assembly fa', 'SEL1L2 adaptor subunit of ERAD E3 ligase', 'NaN', 'NaN', 'Kinesin family member 16B', 'Small nuclear ribonucleoprotein polypeptide B2', 'Otoraplin', 'NaN', 'N-acetylneuraminic acid phosphatase', 'Ninein like', 'NaN', 'DNA helicase', 'Interleukin', 'Interleukin', 'NaN', 'Splicing factor 45', '6-phosphofructo-2-kinase', 'Protein kinase C delta type', 'NaN', 'Scm like with four mbt domains 2', 'BMP and activin membrane-bound inhibitor homolog', 'WW domain containing adaptor with coiled-coil', 'NaN', 'NaN', '60S ribosomal protein L30', 'NaN', '2-iminobutanoate/2-iminopropanoate deaminase', 'Ribonuclease P protein subunit p20', 'NIPA like domain containing 2', 'Thyroid transcription factor 1-associated protein ', 'Potassium voltage-gated channel modifier subfamily', 'Non-specific serine/threonine protein kinase', 'Forkhead box protein L2', 'NaN', 'Uncharacterized protein', 'GTP-binding nuclear protein Ran', 'NaN', 'NaN', 'Regulator of G protein signaling 22', 'NaN', 'F-box protein 43', 'RNA polymerase II subunit K', 'Sperm associated antigen 1', 'RBR-type E3 ubiquitin transferase', 'NaN', 'Ankyrin repeat domain 46', 'Sorting nexin 31', 'Protein argonaute-2', 'NaN', 'Tyrosine 3-monooxygenase/tryptophan 5-monooxygenas', 'Zinc finger protein 706', 'NaN', 'NaN', 'NaN', 'NaN', 'NaN', 'NaN', 'NaN', 'NaN', 'NaN', 'NaN', 'Olfactory receptor', 'NaN', 'Olfactory receptor', 'Olfactory receptor', 'NaN', 'NaN', 'Olfactory receptor', 'NaN', 'Olfactory receptor', 'Olfactory receptor', 'Olfactory receptor', 'Olfactory receptor', 'NaN', 'NaN', 'Olfactory receptor', 'Olfactory receptor', 'Olfactory receptor', 'Olfactory receptor', 'Protein-tyrosine-phosphatase', 'Phospholipase D family member 5', 'NaN', 'Microtubule associated protein 1 light chain 3 gam', 'DNA helicase', 'WD repeat domain 64', 'NaN', 'Rab proteins geranylgeranyltransferase component A', 'Melanocyte-stimulating hormone receptor', 'Kynurenine 3-monooxygenase', 'Forkhead box P3', 'Regulator of G protein signaling 7 binding protein', 'NaN', 'NaN', 'Lymphotactin', 'Lymphotactin', 'Selectin P', 'L-selectin', 'Selectin E', 'Methyltransferase like 18', 'NaN', 'NaN', 'SCY1 like pseudokinase 3', 'Kinesin associated protein 3', 'Methyltransferase like 11B', 'NaN', 'N-terminal kinase-like-binding protein 1', 'Paired related homeobox 1', 'NaN', 'NaN', 'Uncharacterized protein', 'Splicing factor YJU2', 'Eukaryotic translation initiation factor 4E nuclea', 'Developmentally regulated GTP binding protein 1', 'POZ/BTB and AT hook containing zinc finger 1', 'Phosphoinositide-3-kinase interacting protein 1', 'LIM domain kinase 2', 'NaN', 'Erythropoietin receptor', 'NaN', 'Ring finger protein 185', 'Phospholipase A2 group III', 'Inositol-polyphosphate 5-phosphatase', 'NaN', 'Smoothelin', 'NaN', 'NaN', 'MORC family CW-type zinc finger 2', 'Oxysterol-binding protein', 'NaN', 'Protein-tyrosine-phosphatase', 'Solute carrier family 35 member E4', 'Transcobalamin 2', 'Pescadillo homolog', 'Galactose-3-O-sulfotransferase 1', 'NaN', 'NaN', 'SEC14 like lipid binding 3', 'Mitochondrial 18 kDa protein', 'NaN', 'NaN', 'DNA helicase', 'NaN', 'RB transcriptional corepressor like 2', 'AKT interacting protein', 'Vesicle transport through interaction with t-SNARE', 'RPGRIP1 like', 'Alpha-ketoglutarate-dependent dioxygenase FTO', 'NaN', 'NaN', 'Iroquois homeobox 3', 'NaN', 'NaN', 'Iroquois homeobox 5', 'NaN', 'NaN', 'Cadherin-5', 'Brain expressed associated with NEDD4 1', 'NaN', 'Thymidine kinase 2', 'NaN', 'CKLF like MARVEL transmembrane domain containing 2', 'CKLF like MARVEL transmembrane domain containing 3', 'CKLF like MARVEL transmembrane domain containing 4', 'Dynein light intermediate chain', 'Telomere repeat binding bouquet formation protein ', 'NEDD8-activating enzyme E1 regulatory subunit']\n"
     ]
    }
   ],
   "source": [
    "x = 0\n",
    "for i in range(len(Protein)):\n",
    "    if Protein[i]!=\"NaN\":\n",
    "            Protein[i]=Prot[x]\n",
    "            x = x + 1\n",
    "    else:\n",
    "        Protein[i]='NaN'\n",
    "print(Protein) "
   ]
  },
  {
   "cell_type": "markdown",
   "metadata": {},
   "source": [
    "### Extrayendo los datos para la columna Gene \n",
    "A diferencia de los demás datos algunos de los datos extraidos en el encabezado de la pagina **( Nombre del dato: Gene )** veremos que presenta algunos datos vacios **( Datos : NA )** por lo que de manera más automatizada, crearemos dentro del bucle un condicional, que recorra dato por datos dentro de la columna urls_1, de modo, que si encontrará un dato perdido, lo guardará dentro de la lista G, como un dato de contenido **NA.**. De esa manera, es mas limpia la extracción de datos."
   ]
  },
  {
   "cell_type": "code",
   "execution_count": 110,
   "metadata": {},
   "outputs": [
    {
     "name": "stdout",
     "output_type": "stream",
     "text": [
      "VGLL3 0\n",
      "CHMP2B 1\n",
      "POU1F1 2\n",
      "HTR1F 3\n",
      "CGGBP1 4\n",
      "ZNF654 5\n",
      "LOC102190548 6\n",
      "SLC12A8 7\n",
      "ZNF148 8\n",
      "SNX4 9\n",
      "OSBPL11 10\n",
      "LMLN 11\n",
      "IQCG 12\n",
      "LRCH3 13\n",
      "FYTTD1 14\n",
      "RUBCN 15\n",
      "MUC20 16\n",
      "MUC4 17\n",
      "TNK2 18\n",
      "TFRC 19\n",
      "CLCNKA 20\n",
      "HSPB7 21\n",
      "FAM131C 22\n",
      "EPHA2 23\n",
      "ARHGEF19 24\n",
      "CPLANE2 25\n",
      "FBXO42 26\n",
      "SZRD1 27\n",
      "SPATA21 28\n",
      "NECAP2 29\n",
      "CROCC 30\n",
      "SDHB 31\n",
      "PADI2 32\n",
      "PADI1 33\n",
      "PADI3 34\n",
      "PADI6 35\n",
      "RCC2 36\n",
      "LOC108633800 37\n",
      "ING4 38\n",
      "DTYMK 39\n",
      "ATG4B 40\n",
      "THAP4 41\n",
      "BOK 42\n",
      "STK25 43\n",
      "FARP2 44\n",
      "SEPTIN2 45\n",
      "HDLBP 46\n",
      "PPP1R7 47\n",
      "PASK 48\n",
      "MTERF4 49\n",
      "SNED1 50\n",
      "RNF32 51\n",
      "SHH 52\n",
      "RBM33 53\n",
      "CNPY1 54\n",
      "PTGR1 55\n",
      "INSIG1 56\n",
      "HTR5A 57\n",
      "RNF8 58\n",
      "DPP6 59\n",
      "GALNT11 60\n",
      "GALNTL5 61\n",
      "PRKAG2 62\n",
      "RHEB 63\n",
      "CRYGN 64\n",
      "WDR86 65\n",
      "NUB1 66\n",
      "SMARCD3 67\n",
      "ABCF2 68\n",
      "IQCA1L 69\n",
      "ASB10 70\n",
      "GBX1 71\n",
      "AGAP3 72\n",
      "NCKAP1L 73\n",
      "GTSF1L 74\n",
      "IL1B 75\n",
      "ZNF385A 76\n",
      "GPR84 77\n",
      "COPZ1 78\n",
      "NFE2L2 79\n",
      "HNRNPA1 80\n",
      "CBX5 81\n",
      "SMUG1 82\n",
      "HOXC4 83\n",
      "HOXC5 84\n",
      "HOXC6 85\n",
      "HOXC8 86\n",
      "HOXC9 87\n",
      "HOXC10 88\n",
      "HOXC11 89\n",
      "HOXC12 90\n",
      "HOXC13 91\n",
      "CALCOCO1 92\n",
      "GPRIN3 93\n",
      "TIGD2 94\n",
      "FAM13A 95\n",
      "HERC3 96\n",
      "NAP1L5 97\n",
      "PYURF 98\n",
      "PIGY 99\n",
      "HERC5 100\n",
      "HERC6 101\n",
      "PPM1K 102\n",
      "ABCG2 103\n",
      "PKD2 104\n",
      "SPP1 105\n",
      "MEPE 106\n",
      "IBSP 107\n",
      "LOC102176111 108\n",
      "LAP3 109\n",
      "MED28 110\n",
      "FAM184B 111\n",
      "DCAF16 112\n",
      "NCAPG 113\n",
      "LCORL 114\n",
      "FBXL17 115\n",
      "EFNA5 116\n",
      "GLRA1 117\n",
      "N/A 118\n",
      "SPARC 119\n",
      "FAT2 120\n",
      "SLC36A2 121\n",
      "GM2A 122\n",
      "CCDC69 123\n",
      "ANXA6 124\n",
      "TNIP1 125\n",
      "GPX3 126\n",
      "ZNF300 127\n",
      "SMIM3 128\n",
      "DCTN4 129\n",
      "RBM22 130\n",
      "MYOZ3 131\n",
      "SYNPO2 132\n",
      "LOC102182592 133\n",
      "SLC24A2 134\n",
      "ACER2 135\n",
      "RPS6KA3 136\n",
      "DENND4C 137\n",
      "PLIN2 138\n",
      "HAUS6 139\n",
      "LOC102169668 140\n",
      "RRAGA 141\n",
      "SAXO1 142\n",
      "ADAMTSL1 143\n",
      "GJA1 144\n",
      "PDCD1LG2 145\n",
      "CD274 146\n",
      "PLGRKT 147\n",
      "INSL6 148\n",
      "JAK2 149\n",
      "RCL1 150\n",
      "AK4 151\n",
      "CDC37L1 152\n",
      "PLPP6 153\n",
      "OSTM1 154\n",
      "SEC63 155\n",
      "SCML4 156\n",
      "SOBP 157\n",
      "PDSS2 158\n",
      "BEND3 159\n",
      "CD24 160\n",
      "QRSL1 161\n",
      "RTN4IP1 162\n",
      "CRYBG1 163\n",
      "ATG5 164\n",
      "PRDM1 165\n",
      "MAPT 166\n",
      "ALDH8A1 167\n",
      "HBS1L 168\n",
      "EZH2 169\n",
      "AHI1 170\n",
      "PDE7B 171\n",
      "EIF3J 172\n",
      "CTDSPL2 173\n",
      "GOLM2 174\n",
      "RPS6KA5 175\n",
      "TTC7B 176\n",
      "CALM2 177\n",
      "NRDE2 178\n",
      "PSMC1 179\n",
      "TDP1 180\n",
      "EFCAB11 181\n",
      "FOXN3 182\n",
      "ADCK1 183\n",
      "SNW1 184\n",
      "SLIRP 185\n",
      "ALKBH1 186\n",
      "SPTLC2 187\n",
      "AHSA1 188\n",
      "VIPAS39 189\n",
      "BCL2L11 190\n",
      "BUB1 191\n",
      "LOC102171434 192\n",
      "NPHP1 193\n",
      "MALL 194\n",
      "LDHC 195\n",
      "LOC102172271 196\n",
      "MRPS5 197\n",
      "ZNF514 198\n",
      "ZNF2 199\n",
      "PROM2 200\n",
      "KCNIP3 201\n",
      "GPAT2 202\n",
      "ADRA2B 203\n",
      "ASTL 204\n",
      "DUSP2 205\n",
      "STARD7 206\n",
      "TMEM127 207\n",
      "CIAO1 208\n",
      "SNRNP200 209\n",
      "TMTC4 210\n",
      "GGACT 211\n",
      "PCCA 212\n",
      "ZIC2 213\n",
      "ZIC5 214\n",
      "CLYBL 215\n",
      "TM9SF2 216\n",
      "LOC102178740 217\n",
      "UBAC2 218\n",
      "GPR18 219\n",
      "DOCK9 220\n",
      "SLC15A1 221\n",
      "STK24 222\n",
      "FARP2 223\n",
      "ATP12A 224\n",
      "RNF17 225\n",
      "CENPJ 226\n",
      "PARP4 227\n",
      "MPHOSPH8 228\n",
      "SPTLC3 229\n",
      "ISM1 230\n",
      "TASP1 231\n",
      "ESF1 232\n",
      "NDUFAF5 233\n",
      "SEL1L2 234\n",
      "KIF16B 235\n",
      "SNRPB2 236\n",
      "OTOR 237\n",
      "NANP 238\n",
      "NINL 239\n",
      "FBH1 240\n",
      "IL15 241\n",
      "IL15 242\n",
      "RBM17 243\n",
      "PFKFB3 244\n",
      "PRKCD 245\n",
      "SFMBT2 246\n",
      "BAMBI 247\n",
      "WAC 248\n",
      "RPL30 249\n",
      "RIDA 250\n",
      "POP7 251\n",
      "NIPAL2 252\n",
      "LOC102179113 253\n",
      "KCNS2 254\n",
      "STK3 255\n",
      "FOXL2 256\n",
      "N/A 257\n",
      "LOC108637516 258\n",
      "RGS22 259\n",
      "FBXO43 260\n",
      "POLR2K 261\n",
      "SPAG1 262\n",
      "RNF19A 263\n",
      "ANKRD46 264\n",
      "SNX31 265\n",
      "AGO2 266\n",
      "YWHAZ 267\n",
      "ZNF706 268\n",
      "LOC102177548 269\n",
      "LOC102177262 270\n",
      "LOC102191355 271\n",
      "LOC102191066 272\n",
      "LOC102190805 273\n",
      "LOC102176149 274\n",
      "LOC102190535 275\n",
      "LOC102175879 276\n",
      "LOC102175603 277\n",
      "LOC102175320 278\n",
      "LOC102175048 279\n",
      "LOC102189696 280\n",
      "PTPRM 281\n",
      "PLD5 282\n",
      "MAP1LC3C 283\n",
      "WRN 284\n",
      "WDR64 285\n",
      "CHML 286\n",
      "MC1R 287\n",
      "KMO 288\n",
      "FOXP3 289\n",
      "RGS7BP 290\n",
      "LOC102190717 291\n",
      "LOC102190981 292\n",
      "SELP 293\n",
      "SELL 294\n",
      "SELE 295\n",
      "METTL18 296\n",
      "SCYL3 297\n",
      "KIFAP3 298\n",
      "METTL11B 299\n",
      "GORAB 300\n",
      "PRRX1 301\n",
      "N/A 302\n",
      "LOC102173595 303\n",
      "EIF4ENIF1 304\n",
      "DRG1 305\n",
      "PATZ1 306\n",
      "PIK3IP1 307\n",
      "LIMK2 308\n",
      "EPOR 309\n",
      "RNF185 310\n",
      "PLA2G3 311\n",
      "INPP5J 312\n",
      "SMTN 313\n",
      "MORC2 314\n",
      "OSBP2 315\n",
      "DUSP18 316\n",
      "SLC35E4 317\n",
      "TCN2 318\n",
      "PES1 319\n",
      "GAL3ST1 320\n",
      "SEC14L3 321\n",
      "MTFP1 322\n",
      "CHD9 323\n",
      "RBL2 324\n",
      "AKTIP 325\n",
      "LOC102182337 326\n",
      "RPGRIP1L 327\n",
      "FTO 328\n",
      "IRX3 329\n",
      "IRX5 330\n",
      "CDH5 331\n",
      "BEAN1 332\n",
      "TK2 333\n",
      "CMTM2 334\n",
      "CMTM3 335\n",
      "CMTM4 336\n",
      "DYNC1LI2 337\n",
      "TERB1 338\n",
      "NAE1 339\n"
     ]
    }
   ],
   "source": [
    "G=[]\n",
    "\n",
    "for i in range(len(urls_1)):\n",
    "    requ = Request(urls_1[i], headers={'User-Agent': 'Mozilla/5.0'})\n",
    "    subpage = urlopen(requ).read()\n",
    "    pagesoup=soup(subpage, \"html.parser\")\n",
    "    resl = pagesoup.find(\"div\",{\"id\":\"content-gene\"}).text[0:50]\n",
    "    if resl!=\"NaN\":\n",
    "        G.append(str(resl))\n",
    "    else:\n",
    "        G.append(\"NaN\")\n",
    "    print(resl,i)"
   ]
  },
  {
   "cell_type": "code",
   "execution_count": 111,
   "metadata": {},
   "outputs": [
    {
     "name": "stdout",
     "output_type": "stream",
     "text": [
      "['NaN', 'NaN', 'NaN', 'NaN', 'NaN', 'VGLL3', 'CHMP2B', 'POU1F1', 'HTR1F', 'NaN', 'CGGBP1', 'ZNF654', 'NaN', 'LOC102190548', 'SLC12A8', 'NaN', 'ZNF148', 'SNX4', 'OSBPL11', 'LMLN', 'NaN', 'IQCG', 'LRCH3', 'FYTTD1', 'RUBCN', 'MUC20', 'MUC4', 'TNK2', 'TFRC', 'NaN', 'NaN', 'CLCNKA', 'HSPB7', 'FAM131C', 'NaN', 'EPHA2', 'NaN', 'ARHGEF19', 'CPLANE2', 'FBXO42', 'NaN', 'SZRD1', 'SPATA21', 'NECAP2', 'CROCC', 'NaN', 'SDHB', 'PADI2', 'NaN', 'PADI1', 'PADI3', 'NaN', 'NaN', 'PADI6', 'RCC2', 'NaN', 'NaN', 'NaN', 'NaN', 'NaN', 'NaN', 'NaN', 'NaN', 'NaN', 'NaN', 'LOC108633800', 'NaN', 'NaN', 'NaN', 'NaN', 'ING4', 'DTYMK', 'ATG4B', 'THAP4', 'NaN', 'BOK', 'STK25', 'FARP2', 'SEPTIN2', 'HDLBP', 'NaN', 'PPP1R7', 'PASK', 'MTERF4', 'SNED1', 'NaN', 'NaN', 'RNF32', 'NaN', 'SHH', 'RBM33', 'CNPY1', 'PTGR1', 'NaN', 'INSIG1', 'HTR5A', 'RNF8', 'DPP6', 'NaN', 'GALNT11', 'GALNTL5', 'PRKAG2', 'NaN', 'RHEB', 'CRYGN', 'WDR86', 'NUB1', 'SMARCD3', 'NaN', 'NaN', 'ABCF2', 'NaN', 'IQCA1L', 'ASB10', 'GBX1', 'AGAP3', 'NCKAP1L', 'GTSF1L', 'IL1B', 'ZNF385A', 'GPR84', 'COPZ1', 'NaN', 'NFE2L2', 'HNRNPA1', 'CBX5', 'SMUG1', 'NaN', 'HOXC4', 'HOXC5', 'HOXC6', 'HOXC8', 'NaN', 'HOXC9', 'NaN', 'HOXC10', 'HOXC11', 'HOXC12', 'HOXC13', 'NaN', 'NaN', 'CALCOCO1', 'NaN', 'NaN', 'NaN', 'GPRIN3', 'TIGD2', 'FAM13A', 'HERC3', 'NAP1L5', 'PYURF', 'PIGY', 'HERC5', 'NaN', 'HERC6', 'NaN', 'PPM1K', 'ABCG2', 'PKD2', 'SPP1', 'MEPE', 'IBSP', 'LOC102176111', 'NaN', 'LAP3', 'MED28', 'FAM184B', 'NaN', 'DCAF16', 'NCAPG', 'LCORL', 'NaN', 'NaN', 'FBXL17', 'NaN', 'EFNA5', 'NaN', 'NaN', 'NaN', 'GLRA1', 'N/A', 'NaN', 'SPARC', 'FAT2', 'NaN', 'SLC36A2', 'NaN', 'GM2A', 'CCDC69', 'ANXA6', 'TNIP1', 'GPX3', 'ZNF300', 'NaN', 'SMIM3', 'DCTN4', 'RBM22', 'MYOZ3', 'SYNPO2', 'LOC102182592', 'SLC24A2', 'ACER2', 'RPS6KA3', 'DENND4C', 'NaN', 'NaN', 'PLIN2', 'HAUS6', 'LOC102169668', 'NaN', 'RRAGA', 'SAXO1', 'ADAMTSL1', 'GJA1', 'NaN', 'NaN', 'PDCD1LG2', 'NaN', 'NaN', 'CD274', 'PLGRKT', 'INSL6', 'JAK2', 'RCL1', 'AK4', 'CDC37L1', 'NaN', 'PLPP6', 'NaN', 'NaN', 'OSTM1', 'SEC63', 'SCML4', 'SOBP', 'PDSS2', 'BEND3', 'NaN', 'NaN', 'CD24', 'QRSL1', 'RTN4IP1', 'CRYBG1', 'ATG5', 'NaN', 'PRDM1', 'NaN', 'MAPT', 'NaN', 'NaN', 'NaN', 'ALDH8A1', 'HBS1L', 'EZH2', 'AHI1', 'PDE7B', 'EIF3J', 'CTDSPL2', 'NaN', 'GOLM2', 'RPS6KA5', 'TTC7B', 'NaN', 'CALM2', 'NRDE2', 'PSMC1', 'NaN', 'TDP1', 'EFCAB11', 'NaN', 'FOXN3', 'NaN', 'NaN', 'ADCK1', 'SNW1', 'SLIRP', 'ALKBH1', 'NaN', 'SPTLC2', 'NaN', 'NaN', 'NaN', 'NaN', 'AHSA1', 'VIPAS39', 'NaN', 'NaN', 'BCL2L11', 'NaN', 'BUB1', 'LOC102171434', 'NaN', 'NPHP1', 'MALL', 'LDHC', 'LOC102172271', 'MRPS5', 'NaN', 'ZNF514', 'ZNF2', 'NaN', 'PROM2', 'KCNIP3', 'NaN', 'GPAT2', 'ADRA2B', 'ASTL', 'DUSP2', 'STARD7', 'NaN', 'TMEM127', 'CIAO1', 'SNRNP200', 'NaN', 'TMTC4', 'GGACT', 'PCCA', 'NaN', 'ZIC2', 'ZIC5', 'CLYBL', 'NaN', 'TM9SF2', 'NaN', 'LOC102178740', 'UBAC2', 'NaN', 'GPR18', 'DOCK9', 'SLC15A1', 'STK24', 'FARP2', 'ATP12A', 'RNF17', 'NaN', 'CENPJ', 'NaN', 'PARP4', 'MPHOSPH8', 'NaN', 'SPTLC3', 'ISM1', 'TASP1', 'ESF1', 'NDUFAF5', 'SEL1L2', 'NaN', 'NaN', 'KIF16B', 'SNRPB2', 'OTOR', 'NaN', 'NANP', 'NINL', 'NaN', 'FBH1', 'IL15', 'IL15', 'NaN', 'RBM17', 'PFKFB3', 'PRKCD', 'NaN', 'SFMBT2', 'BAMBI', 'WAC', 'NaN', 'NaN', 'RPL30', 'NaN', 'RIDA', 'POP7', 'NIPAL2', 'LOC102179113', 'KCNS2', 'STK3', 'FOXL2', 'NaN', 'N/A', 'LOC108637516', 'NaN', 'NaN', 'RGS22', 'NaN', 'FBXO43', 'POLR2K', 'SPAG1', 'RNF19A', 'NaN', 'ANKRD46', 'SNX31', 'AGO2', 'NaN', 'YWHAZ', 'ZNF706', 'NaN', 'NaN', 'NaN', 'NaN', 'NaN', 'NaN', 'NaN', 'NaN', 'NaN', 'NaN', 'LOC102177548', 'NaN', 'LOC102177262', 'LOC102191355', 'NaN', 'NaN', 'LOC102191066', 'NaN', 'LOC102190805', 'LOC102176149', 'LOC102190535', 'LOC102175879', 'NaN', 'NaN', 'LOC102175603', 'LOC102175320', 'LOC102175048', 'LOC102189696', 'PTPRM', 'PLD5', 'NaN', 'MAP1LC3C', 'WRN', 'WDR64', 'NaN', 'CHML', 'MC1R', 'KMO', 'FOXP3', 'RGS7BP', 'NaN', 'NaN', 'LOC102190717', 'LOC102190981', 'SELP', 'SELL', 'SELE', 'METTL18', 'NaN', 'NaN', 'SCYL3', 'KIFAP3', 'METTL11B', 'NaN', 'GORAB', 'PRRX1', 'NaN', 'NaN', 'N/A', 'LOC102173595', 'EIF4ENIF1', 'DRG1', 'PATZ1', 'PIK3IP1', 'LIMK2', 'NaN', 'EPOR', 'NaN', 'RNF185', 'PLA2G3', 'INPP5J', 'NaN', 'SMTN', 'NaN', 'NaN', 'MORC2', 'OSBP2', 'NaN', 'DUSP18', 'SLC35E4', 'TCN2', 'PES1', 'GAL3ST1', 'NaN', 'NaN', 'SEC14L3', 'MTFP1', 'NaN', 'NaN', 'CHD9', 'NaN', 'RBL2', 'AKTIP', 'LOC102182337', 'RPGRIP1L', 'FTO', 'NaN', 'NaN', 'IRX3', 'NaN', 'NaN', 'IRX5', 'NaN', 'NaN', 'CDH5', 'BEAN1', 'NaN', 'TK2', 'NaN', 'CMTM2', 'CMTM3', 'CMTM4', 'DYNC1LI2', 'TERB1', 'NAE1']\n"
     ]
    }
   ],
   "source": [
    "x = 0\n",
    "for i in range(len(Gene)):\n",
    "    if Gene[i]!=\"NaN\":\n",
    "            Gene[i]=G[x]\n",
    "            x = x + 1\n",
    "    else:\n",
    "        Gene[i]='NaN'\n",
    "print(Gene)"
   ]
  },
  {
   "cell_type": "markdown",
   "metadata": {},
   "source": [
    "### Extrayendo los nombres para la columna Organism : \n",
    "Se realiza el mismo procedimiento anteriormente "
   ]
  },
  {
   "cell_type": "code",
   "execution_count": 112,
   "metadata": {},
   "outputs": [],
   "source": [
    "Org=[]\n",
    "\n",
    "for i in range(len(urls_1)):\n",
    "    requ = Request(urls_1[i], headers={'User-Agent': 'Mozilla/5.0'})\n",
    "    subpage = urlopen(requ).read()\n",
    "    pagesoup=soup(subpage, \"html.parser\")\n",
    "    resl = pagesoup.find(\"div\",{\"id\":\"content-organism\"}).text[0:50]\n",
    "    Org.append(resl)"
   ]
  },
  {
   "cell_type": "code",
   "execution_count": 113,
   "metadata": {},
   "outputs": [
    {
     "name": "stdout",
     "output_type": "stream",
     "text": [
      "['NaN', 'NaN', 'NaN', 'NaN', 'NaN', 'Capra hircus (Goat)', 'Capra hircus (Goat)', 'Capra hircus (Goat)', 'Capra hircus (Goat)', 'NaN', 'Capra hircus (Goat)', 'Capra hircus (Goat)', 'NaN', 'Capra hircus (Goat)', 'Capra hircus (Goat)', 'NaN', 'Capra hircus (Goat)', 'Capra hircus (Goat)', 'Capra hircus (Goat)', 'Capra hircus (Goat)', 'NaN', 'Capra hircus (Goat)', 'Capra hircus (Goat)', 'Capra hircus (Goat)', 'Capra hircus (Goat)', 'Capra hircus (Goat)', 'Capra hircus (Goat)', 'Capra hircus (Goat)', 'Capra hircus (Goat)', 'NaN', 'NaN', 'Capra hircus (Goat)', 'Capra hircus (Goat)', 'Capra hircus (Goat)', 'NaN', 'Capra hircus (Goat)', 'NaN', 'Capra hircus (Goat)', 'Capra hircus (Goat)', 'Capra hircus (Goat)', 'NaN', 'Capra hircus (Goat)', 'Capra hircus (Goat)', 'Capra hircus (Goat)', 'Capra hircus (Goat)', 'NaN', 'Capra hircus (Goat)', 'Capra hircus (Goat)', 'NaN', 'Capra hircus (Goat)', 'Capra hircus (Goat)', 'NaN', 'NaN', 'Capra hircus (Goat)', 'Capra hircus (Goat)', 'NaN', 'NaN', 'NaN', 'NaN', 'NaN', 'NaN', 'NaN', 'NaN', 'NaN', 'NaN', 'Capra hircus (Goat)', 'NaN', 'NaN', 'NaN', 'NaN', 'Capra hircus (Goat)', 'Capra hircus (Goat)', 'Capra hircus (Goat)', 'Capra hircus (Goat)', 'NaN', 'Capra hircus (Goat)', 'Capra hircus (Goat)', 'Capra hircus (Goat)', 'Capra hircus (Goat)', 'Capra hircus (Goat)', 'NaN', 'Capra hircus (Goat)', 'Capra hircus (Goat)', 'Capra hircus (Goat)', 'Capra hircus (Goat)', 'NaN', 'NaN', 'Capra hircus (Goat)', 'NaN', 'Capra hircus (Goat)', 'Capra hircus (Goat)', 'Capra hircus (Goat)', 'Capra hircus (Goat)', 'NaN', 'Capra hircus (Goat)', 'Capra hircus (Goat)', 'Capra hircus (Goat)', 'Capra hircus (Goat)', 'NaN', 'Capra hircus (Goat)', 'Capra hircus (Goat)', 'Capra hircus (Goat)', 'NaN', 'Capra hircus (Goat)', 'Capra hircus (Goat)', 'Capra hircus (Goat)', 'Capra hircus (Goat)', 'Capra hircus (Goat)', 'NaN', 'NaN', 'Capra hircus (Goat)', 'NaN', 'Capra hircus (Goat)', 'Capra hircus (Goat)', 'Capra hircus (Goat)', 'Capra hircus (Goat)', 'Capra hircus (Goat)', 'Capra hircus (Goat)', 'Capra hircus (Goat)', 'Capra hircus (Goat)', 'Capra hircus (Goat)', 'Capra hircus (Goat)', 'NaN', 'Capra hircus (Goat)', 'Capra hircus (Goat)', 'Capra hircus (Goat)', 'Capra hircus (Goat)', 'NaN', 'Capra hircus (Goat)', 'Capra hircus (Goat)', 'Capra hircus (Goat)', 'Capra hircus (Goat)', 'NaN', 'Capra hircus (Goat)', 'NaN', 'Capra hircus (Goat)', 'Capra hircus (Goat)', 'Capra hircus (Goat)', 'Capra hircus (Goat)', 'NaN', 'NaN', 'Capra hircus (Goat)', 'NaN', 'NaN', 'NaN', 'Capra hircus (Goat)', 'Capra hircus (Goat)', 'Capra hircus (Goat)', 'Capra hircus (Goat)', 'Capra hircus (Goat)', 'Capra hircus (Goat)', 'Capra hircus (Goat)', 'Capra hircus (Goat)', 'NaN', 'Capra hircus (Goat)', 'NaN', 'Capra hircus (Goat)', 'Capra hircus (Goat)', 'Capra hircus (Goat)', 'Capra hircus (Goat)', 'Capra hircus (Goat)', 'Capra hircus (Goat)', 'Capra hircus (Goat)', 'NaN', 'Capra hircus (Goat)', 'Capra hircus (Goat)', 'Capra hircus (Goat)', 'NaN', 'Capra hircus (Goat)', 'Capra hircus (Goat)', 'Capra hircus (Goat)', 'NaN', 'NaN', 'Capra hircus (Goat)', 'NaN', 'Capra hircus (Goat)', 'NaN', 'NaN', 'NaN', 'Capra hircus (Goat)', 'Foot-and-mouth disease virus (isolate Bovine/Unite', 'NaN', 'Capra hircus (Goat)', 'Capra hircus (Goat)', 'NaN', 'Capra hircus (Goat)', 'NaN', 'Capra hircus (Goat)', 'Capra hircus (Goat)', 'Capra hircus (Goat)', 'Capra hircus (Goat)', 'Capra hircus (Goat)', 'Capra hircus (Goat)', 'NaN', 'Capra hircus (Goat)', 'Capra hircus (Goat)', 'Capra hircus (Goat)', 'Capra hircus (Goat)', 'Capra hircus (Goat)', 'Capra hircus (Goat)', 'Capra hircus (Goat)', 'Capra hircus (Goat)', 'Capra hircus (Goat)', 'Capra hircus (Goat)', 'NaN', 'NaN', 'Capra hircus (Goat)', 'Capra hircus (Goat)', 'Capra hircus (Goat)', 'NaN', 'Capra hircus (Goat)', 'Capra hircus (Goat)', 'Capra hircus (Goat)', 'Capra hircus (Goat)', 'NaN', 'NaN', 'Capra hircus (Goat)', 'NaN', 'NaN', 'Capra hircus (Goat)', 'Capra hircus (Goat)', 'Capra hircus (Goat)', 'Capra hircus (Goat)', 'Capra hircus (Goat)', 'Capra hircus (Goat)', 'Capra hircus (Goat)', 'NaN', 'Capra hircus (Goat)', 'NaN', 'NaN', 'Capra hircus (Goat)', 'Capra hircus (Goat)', 'Capra hircus (Goat)', 'Capra hircus (Goat)', 'Capra hircus (Goat)', 'Capra hircus (Goat)', 'NaN', 'NaN', 'Capra hircus (Goat)', 'Capra hircus (Goat)', 'Capra hircus (Goat)', 'Capra hircus (Goat)', 'Capra hircus (Goat)', 'NaN', 'Capra hircus (Goat)', 'NaN', 'Capra hircus (Goat)', 'NaN', 'NaN', 'NaN', 'Capra hircus (Goat)', 'Capra hircus (Goat)', 'Capra hircus (Goat)', 'Capra hircus (Goat)', 'Capra hircus (Goat)', 'Capra hircus (Goat)', 'Capra hircus (Goat)', 'NaN', 'Capra hircus (Goat)', 'Capra hircus (Goat)', 'Capra hircus (Goat)', 'NaN', 'Capra hircus (Goat)', 'Capra hircus (Goat)', 'Capra hircus (Goat)', 'NaN', 'Capra hircus (Goat)', 'Capra hircus (Goat)', 'NaN', 'Capra hircus (Goat)', 'NaN', 'NaN', 'Capra hircus (Goat)', 'Capra hircus (Goat)', 'Capra hircus (Goat)', 'Capra hircus (Goat)', 'NaN', 'Capra hircus (Goat)', 'NaN', 'NaN', 'NaN', 'NaN', 'Capra hircus (Goat)', 'Capra hircus (Goat)', 'NaN', 'NaN', 'Capra hircus (Goat)', 'NaN', 'Capra hircus (Goat)', 'Capra hircus (Goat)', 'NaN', 'Capra hircus (Goat)', 'Capra hircus (Goat)', 'Capra hircus (Goat)', 'Capra hircus (Goat)', 'Capra hircus (Goat)', 'NaN', 'Capra hircus (Goat)', 'Capra hircus (Goat)', 'NaN', 'Capra hircus (Goat)', 'Capra hircus (Goat)', 'NaN', 'Capra hircus (Goat)', 'Capra hircus (Goat)', 'Capra hircus (Goat)', 'Capra hircus (Goat)', 'Capra hircus (Goat)', 'NaN', 'Capra hircus (Goat)', 'Capra hircus (Goat)', 'Capra hircus (Goat)', 'NaN', 'Capra hircus (Goat)', 'Capra hircus (Goat)', 'Capra hircus (Goat)', 'NaN', 'Capra hircus (Goat)', 'Capra hircus (Goat)', 'Capra hircus (Goat)', 'NaN', 'Capra hircus (Goat)', 'NaN', 'Capra hircus (Goat)', 'Capra hircus (Goat)', 'NaN', 'Capra hircus (Goat)', 'Capra hircus (Goat)', 'Capra hircus (Goat)', 'Capra hircus (Goat)', 'Capra hircus (Goat)', 'Capra hircus (Goat)', 'Capra hircus (Goat)', 'NaN', 'Capra hircus (Goat)', 'NaN', 'Capra hircus (Goat)', 'Capra hircus (Goat)', 'NaN', 'Capra hircus (Goat)', 'Capra hircus (Goat)', 'Capra hircus (Goat)', 'Capra hircus (Goat)', 'Capra hircus (Goat)', 'Capra hircus (Goat)', 'NaN', 'NaN', 'Capra hircus (Goat)', 'Capra hircus (Goat)', 'Capra hircus (Goat)', 'NaN', 'Capra hircus (Goat)', 'Capra hircus (Goat)', 'NaN', 'Capra hircus (Goat)', 'Capra hircus (Goat)', 'Capra hircus (Goat)', 'NaN', 'Capra hircus (Goat)', 'Capra hircus (Goat)', 'Capra hircus (Goat)', 'NaN', 'Capra hircus (Goat)', 'Capra hircus (Goat)', 'Capra hircus (Goat)', 'NaN', 'NaN', 'Capra hircus (Goat)', 'NaN', 'Capra hircus (Goat)', 'Capra hircus (Goat)', 'Capra hircus (Goat)', 'Capra hircus (Goat)', 'Capra hircus (Goat)', 'Capra hircus (Goat)', 'Capra hircus (Goat)', 'NaN', 'Capra hircus (Goat)', 'Capra hircus (Goat)', 'NaN', 'NaN', 'Capra hircus (Goat)', 'NaN', 'Capra hircus (Goat)', 'Capra hircus (Goat)', 'Capra hircus (Goat)', 'Capra hircus (Goat)', 'NaN', 'Capra hircus (Goat)', 'Capra hircus (Goat)', 'Capra hircus (Goat)', 'NaN', 'Capra hircus (Goat)', 'Capra hircus (Goat)', 'NaN', 'NaN', 'NaN', 'NaN', 'NaN', 'NaN', 'NaN', 'NaN', 'NaN', 'NaN', 'Capra hircus (Goat)', 'NaN', 'Capra hircus (Goat)', 'Capra hircus (Goat)', 'NaN', 'NaN', 'Capra hircus (Goat)', 'NaN', 'Capra hircus (Goat)', 'Capra hircus (Goat)', 'Capra hircus (Goat)', 'Capra hircus (Goat)', 'NaN', 'NaN', 'Capra hircus (Goat)', 'Capra hircus (Goat)', 'Capra hircus (Goat)', 'Capra hircus (Goat)', 'Capra hircus (Goat)', 'Capra hircus (Goat)', 'NaN', 'Capra hircus (Goat)', 'Capra hircus (Goat)', 'Capra hircus (Goat)', 'NaN', 'Capra hircus (Goat)', 'Capra hircus (Goat)', 'Capra hircus (Goat)', 'Capra hircus (Goat)', 'Capra hircus (Goat)', 'NaN', 'NaN', 'Capra hircus (Goat)', 'Capra hircus (Goat)', 'Capra hircus (Goat)', 'Capra hircus (Goat)', 'Capra hircus (Goat)', 'Capra hircus (Goat)', 'NaN', 'NaN', 'Capra hircus (Goat)', 'Capra hircus (Goat)', 'Capra hircus (Goat)', 'NaN', 'Capra hircus (Goat)', 'Capra hircus (Goat)', 'NaN', 'NaN', 'Capra hircus (Goat)', 'Capra hircus (Goat)', 'Capra hircus (Goat)', 'Capra hircus (Goat)', 'Capra hircus (Goat)', 'Capra hircus (Goat)', 'Capra hircus (Goat)', 'NaN', 'Capra hircus (Goat)', 'NaN', 'Capra hircus (Goat)', 'Capra hircus (Goat)', 'Capra hircus (Goat)', 'NaN', 'Capra hircus (Goat)', 'NaN', 'NaN', 'Capra hircus (Goat)', 'Capra hircus (Goat)', 'NaN', 'Capra hircus (Goat)', 'Capra hircus (Goat)', 'Capra hircus (Goat)', 'Capra hircus (Goat)', 'Capra hircus (Goat)', 'NaN', 'NaN', 'Capra hircus (Goat)', 'Capra hircus (Goat)', 'NaN', 'NaN', 'Capra hircus (Goat)', 'NaN', 'Capra hircus (Goat)', 'Capra hircus (Goat)', 'Capra hircus (Goat)', 'Capra hircus (Goat)', 'Capra hircus (Goat)', 'NaN', 'NaN', 'Capra hircus (Goat)', 'NaN', 'NaN', 'Capra hircus (Goat)', 'NaN', 'NaN', 'Capra hircus (Goat)', 'Capra hircus (Goat)', 'NaN', 'Capra hircus (Goat)', 'NaN', 'Capra hircus (Goat)', 'Capra hircus (Goat)', 'Capra hircus (Goat)', 'Capra hircus (Goat)', 'Capra hircus (Goat)', 'Capra hircus (Goat)']\n"
     ]
    }
   ],
   "source": [
    "x = 0\n",
    "for i in range(len(Organism)):\n",
    "    if Organism[i]!=\"NaN\":\n",
    "            Organism[i]=Org[x]\n",
    "            x = x + 1\n",
    "    else:\n",
    "        Organism[i]='NaN'\n",
    "print(Organism)"
   ]
  },
  {
   "cell_type": "markdown",
   "metadata": {},
   "source": [
    "### Extrayendo los nombres para la columna Status : "
   ]
  },
  {
   "cell_type": "code",
   "execution_count": 125,
   "metadata": {},
   "outputs": [
    {
     "name": "stdout",
     "output_type": "stream",
     "text": [
      "['Unreviewed', 'Unreviewed', 'Unreviewed', 'Unreviewed', 'Unreviewed', 'Unreviewed', 'Unreviewed', 'Unreviewed', 'Unreviewed', 'Unreviewed', 'Unreviewed', 'Unreviewed', 'Unreviewed', 'Unreviewed', 'Unreviewed', 'Unreviewed', 'Unreviewed', 'Unreviewed', 'Unreviewed', 'Unreviewed', 'Unreviewed', 'Unreviewed', 'Unreviewed', 'Unreviewed', 'Unreviewed', 'Unreviewed', 'Unreviewed', 'Unreviewed', 'Unreviewed', 'Unreviewed', 'Unreviewed', 'Unreviewed', 'Unreviewed', 'Unreviewed', 'Unreviewed', 'Unreviewed', 'Unreviewed', 'Unreviewed', 'Unreviewed', 'Unreviewed', 'Unreviewed', 'Unreviewed', 'Unreviewed', 'Unreviewed', 'Unreviewed', 'Unreviewed', 'Unreviewed', 'Unreviewed', 'Unreviewed', 'Unreviewed', 'Unreviewed', 'Unreviewed', 'Unreviewed', 'Unreviewed', 'Unreviewed', 'Unreviewed', 'Unreviewed', 'Unreviewed', 'Unreviewed', 'Unreviewed', 'Unreviewed', 'Unreviewed', 'Unreviewed', 'Unreviewed', 'Unreviewed', 'Unreviewed', 'Unreviewed', 'Unreviewed', 'Unreviewed', 'Unreviewed', 'Unreviewed', 'Unreviewed', 'Unreviewed', 'Unreviewed', 'Unreviewed', 'Unreviewed', 'Unreviewed', 'Unreviewed', 'Unreviewed', 'Unreviewed', 'Unreviewed', 'Unreviewed', 'Unreviewed', 'Unreviewed', 'Unreviewed', 'Unreviewed', 'Unreviewed', 'Unreviewed', 'Unreviewed', 'Unreviewed', 'Unreviewed', 'Unreviewed', 'Unreviewed', 'Unreviewed', 'Unreviewed', 'Unreviewed', 'Unreviewed', 'Unreviewed', 'Unreviewed', 'Unreviewed', 'Unreviewed', 'Unreviewed', 'Unreviewed', 'Unreviewed', 'Unreviewed', 'Unreviewed', 'Unreviewed', 'Unreviewed', 'Unreviewed', 'Unreviewed', 'Unreviewed', 'Unreviewed', 'Unreviewed', 'Unreviewed', 'Unreviewed', 'Unreviewed', 'Unreviewed', 'Unreviewed', 'Reviewed', 'Unreviewed', 'Unreviewed', 'Unreviewed', 'Unreviewed', 'Unreviewed', 'Unreviewed', 'Unreviewed', 'Unreviewed', 'Unreviewed', 'Unreviewed', 'Unreviewed', 'Unreviewed', 'Unreviewed', 'Unreviewed', 'Unreviewed', 'Unreviewed', 'Unreviewed', 'Unreviewed', 'Unreviewed', 'Unreviewed', 'Unreviewed', 'Unreviewed', 'Unreviewed', 'Unreviewed', 'Unreviewed', 'Unreviewed', 'Unreviewed', 'Unreviewed', 'Unreviewed', 'Unreviewed', 'Unreviewed', 'Unreviewed', 'Unreviewed', 'Unreviewed', 'Unreviewed', 'Unreviewed', 'Unreviewed', 'Unreviewed', 'Unreviewed', 'Unreviewed', 'Unreviewed', 'Unreviewed', 'Unreviewed', 'Unreviewed', 'Unreviewed', 'Unreviewed', 'Unreviewed', 'Reviewed', 'Unreviewed', 'Unreviewed', 'Unreviewed', 'Unreviewed', 'Unreviewed', 'Unreviewed', 'Unreviewed', 'Unreviewed', 'Unreviewed', 'Unreviewed', 'Unreviewed', 'Unreviewed', 'Unreviewed', 'Unreviewed', 'Unreviewed', 'Unreviewed', 'Unreviewed', 'Unreviewed', 'Unreviewed', 'Unreviewed', 'Unreviewed', 'Unreviewed', 'Unreviewed', 'Unreviewed', 'Unreviewed', 'Unreviewed', 'Unreviewed', 'Unreviewed', 'Unreviewed', 'Unreviewed', 'Unreviewed', 'Unreviewed', 'Unreviewed', 'Unreviewed', 'Unreviewed', 'Unreviewed', 'Unreviewed', 'Unreviewed', 'Unreviewed', 'Unreviewed', 'Unreviewed', 'Unreviewed', 'Unreviewed', 'Unreviewed', 'Unreviewed', 'Unreviewed', 'Unreviewed', 'Unreviewed', 'Unreviewed', 'Unreviewed', 'Unreviewed', 'Unreviewed', 'Unreviewed', 'Unreviewed', 'Unreviewed', 'Unreviewed', 'Unreviewed', 'Unreviewed', 'Unreviewed', 'Unreviewed', 'Unreviewed', 'Unreviewed', 'Unreviewed', 'Unreviewed', 'Unreviewed', 'Unreviewed', 'Unreviewed', 'Unreviewed', 'Unreviewed', 'Unreviewed', 'Unreviewed', 'Unreviewed', 'Unreviewed', 'Unreviewed', 'Unreviewed', 'Unreviewed', 'Unreviewed', 'Unreviewed', 'Unreviewed', 'Unreviewed', 'Unreviewed', 'Unreviewed', 'Unreviewed', 'Reviewed', 'Unreviewed', 'Unreviewed', 'Unreviewed', 'Unreviewed', 'Unreviewed', 'Reviewed', 'Unreviewed', 'Unreviewed', 'Unreviewed', 'Unreviewed', 'Unreviewed', 'Unreviewed', 'Unreviewed', 'Unreviewed', 'Unreviewed', 'Unreviewed', 'Unreviewed', 'Unreviewed', 'Unreviewed', 'Unreviewed', 'Unreviewed', 'Unreviewed', 'Unreviewed', 'Unreviewed', 'Unreviewed', 'Unreviewed', 'Unreviewed', 'Unreviewed', 'Unreviewed', 'Unreviewed', 'Unreviewed', 'Unreviewed', 'Unreviewed', 'Unreviewed', 'Unreviewed', 'Unreviewed', 'Reviewed', 'Unreviewed', 'Unreviewed', 'Unreviewed', 'Unreviewed', 'Unreviewed', 'Unreviewed', 'Unreviewed', 'Unreviewed', 'Unreviewed', 'Unreviewed', 'Unreviewed', 'Unreviewed', 'Unreviewed', 'Unreviewed', 'Unreviewed', 'Unreviewed', 'Unreviewed', 'Unreviewed', 'Unreviewed', 'Unreviewed', 'Unreviewed', 'Unreviewed', 'Unreviewed', 'Unreviewed', 'Unreviewed', 'Unreviewed', 'Unreviewed', 'Unreviewed', 'Unreviewed', 'Unreviewed', 'Unreviewed', 'Unreviewed', 'Unreviewed', 'Unreviewed', 'Unreviewed', 'Unreviewed', 'Unreviewed', 'Unreviewed', 'Unreviewed', 'Unreviewed', 'Unreviewed', 'Unreviewed', 'Unreviewed', 'Unreviewed', 'Unreviewed', 'Unreviewed', 'Unreviewed', 'Unreviewed', 'Unreviewed', 'Unreviewed', 'Unreviewed', 'Unreviewed']\n"
     ]
    }
   ],
   "source": [
    "Stat=[]\n",
    "for i in range(len(urls_1)):\n",
    "    requ = Request(urls_1[i], headers={'User-Agent': 'Mozilla/5.0'})\n",
    "    subpage = urlopen(requ).read()\n",
    "    pagesoup=soup(subpage, \"html.parser\")\n",
    "    resl = pagesoup.find(\"div\",{\"id\":\"content-status\"}).span.text[0:50]\n",
    "    Stat.append(resl)\n",
    "print(Stat)"
   ]
  },
  {
   "cell_type": "code",
   "execution_count": 126,
   "metadata": {},
   "outputs": [
    {
     "name": "stdout",
     "output_type": "stream",
     "text": [
      "['NaN', 'NaN', 'NaN', 'NaN', 'NaN', 'Unreviewed', 'Unreviewed', 'Unreviewed', 'Unreviewed', 'NaN', 'Unreviewed', 'Unreviewed', 'NaN', 'Unreviewed', 'Unreviewed', 'NaN', 'Unreviewed', 'Unreviewed', 'Unreviewed', 'Unreviewed', 'NaN', 'Unreviewed', 'Unreviewed', 'Unreviewed', 'Unreviewed', 'Unreviewed', 'Unreviewed', 'Unreviewed', 'Unreviewed', 'NaN', 'NaN', 'Unreviewed', 'Unreviewed', 'Unreviewed', 'NaN', 'Unreviewed', 'NaN', 'Unreviewed', 'Unreviewed', 'Unreviewed', 'NaN', 'Unreviewed', 'Unreviewed', 'Unreviewed', 'Unreviewed', 'NaN', 'Unreviewed', 'Unreviewed', 'NaN', 'Unreviewed', 'Unreviewed', 'NaN', 'NaN', 'Unreviewed', 'Unreviewed', 'NaN', 'NaN', 'NaN', 'NaN', 'NaN', 'NaN', 'NaN', 'NaN', 'NaN', 'NaN', 'Unreviewed', 'NaN', 'NaN', 'NaN', 'NaN', 'Unreviewed', 'Unreviewed', 'Unreviewed', 'Unreviewed', 'NaN', 'Unreviewed', 'Unreviewed', 'Unreviewed', 'Unreviewed', 'Unreviewed', 'NaN', 'Unreviewed', 'Unreviewed', 'Unreviewed', 'Unreviewed', 'NaN', 'NaN', 'Unreviewed', 'NaN', 'Unreviewed', 'Unreviewed', 'Unreviewed', 'Unreviewed', 'NaN', 'Unreviewed', 'Unreviewed', 'Unreviewed', 'Unreviewed', 'NaN', 'Unreviewed', 'Unreviewed', 'Unreviewed', 'NaN', 'Unreviewed', 'Unreviewed', 'Unreviewed', 'Unreviewed', 'Unreviewed', 'NaN', 'NaN', 'Unreviewed', 'NaN', 'Unreviewed', 'Unreviewed', 'Unreviewed', 'Unreviewed', 'Unreviewed', 'Unreviewed', 'Unreviewed', 'Unreviewed', 'Unreviewed', 'Unreviewed', 'NaN', 'Unreviewed', 'Unreviewed', 'Unreviewed', 'Unreviewed', 'NaN', 'Unreviewed', 'Unreviewed', 'Unreviewed', 'Unreviewed', 'NaN', 'Unreviewed', 'NaN', 'Unreviewed', 'Unreviewed', 'Unreviewed', 'Unreviewed', 'NaN', 'NaN', 'Unreviewed', 'NaN', 'NaN', 'NaN', 'Unreviewed', 'Unreviewed', 'Unreviewed', 'Unreviewed', 'Unreviewed', 'Unreviewed', 'Unreviewed', 'Unreviewed', 'NaN', 'Unreviewed', 'NaN', 'Unreviewed', 'Unreviewed', 'Unreviewed', 'Unreviewed', 'Unreviewed', 'Unreviewed', 'Unreviewed', 'NaN', 'Unreviewed', 'Unreviewed', 'Unreviewed', 'NaN', 'Unreviewed', 'Unreviewed', 'Unreviewed', 'NaN', 'NaN', 'Unreviewed', 'NaN', 'Unreviewed', 'NaN', 'NaN', 'NaN', 'Unreviewed', 'Reviewed', 'NaN', 'Unreviewed', 'Unreviewed', 'NaN', 'Unreviewed', 'NaN', 'Unreviewed', 'Unreviewed', 'Unreviewed', 'Unreviewed', 'Unreviewed', 'Unreviewed', 'NaN', 'Unreviewed', 'Unreviewed', 'Unreviewed', 'Unreviewed', 'Unreviewed', 'Unreviewed', 'Unreviewed', 'Unreviewed', 'Unreviewed', 'Unreviewed', 'NaN', 'NaN', 'Unreviewed', 'Unreviewed', 'Unreviewed', 'NaN', 'Unreviewed', 'Unreviewed', 'Unreviewed', 'Unreviewed', 'NaN', 'NaN', 'Unreviewed', 'NaN', 'NaN', 'Unreviewed', 'Unreviewed', 'Unreviewed', 'Unreviewed', 'Unreviewed', 'Unreviewed', 'Unreviewed', 'NaN', 'Unreviewed', 'NaN', 'NaN', 'Unreviewed', 'Unreviewed', 'Unreviewed', 'Unreviewed', 'Unreviewed', 'Unreviewed', 'NaN', 'NaN', 'Unreviewed', 'Unreviewed', 'Unreviewed', 'Unreviewed', 'Unreviewed', 'NaN', 'Unreviewed', 'NaN', 'Reviewed', 'NaN', 'NaN', 'NaN', 'Unreviewed', 'Unreviewed', 'Unreviewed', 'Unreviewed', 'Unreviewed', 'Unreviewed', 'Unreviewed', 'NaN', 'Unreviewed', 'Unreviewed', 'Unreviewed', 'NaN', 'Unreviewed', 'Unreviewed', 'Unreviewed', 'NaN', 'Unreviewed', 'Unreviewed', 'NaN', 'Unreviewed', 'NaN', 'NaN', 'Unreviewed', 'Unreviewed', 'Unreviewed', 'Unreviewed', 'NaN', 'Unreviewed', 'NaN', 'NaN', 'NaN', 'NaN', 'Unreviewed', 'Unreviewed', 'NaN', 'NaN', 'Unreviewed', 'NaN', 'Unreviewed', 'Unreviewed', 'NaN', 'Unreviewed', 'Unreviewed', 'Unreviewed', 'Unreviewed', 'Unreviewed', 'NaN', 'Unreviewed', 'Unreviewed', 'NaN', 'Unreviewed', 'Unreviewed', 'NaN', 'Unreviewed', 'Unreviewed', 'Unreviewed', 'Unreviewed', 'Unreviewed', 'NaN', 'Unreviewed', 'Unreviewed', 'Unreviewed', 'NaN', 'Unreviewed', 'Unreviewed', 'Unreviewed', 'NaN', 'Unreviewed', 'Unreviewed', 'Unreviewed', 'NaN', 'Unreviewed', 'NaN', 'Unreviewed', 'Unreviewed', 'NaN', 'Unreviewed', 'Unreviewed', 'Unreviewed', 'Unreviewed', 'Unreviewed', 'Unreviewed', 'Unreviewed', 'NaN', 'Unreviewed', 'NaN', 'Unreviewed', 'Unreviewed', 'NaN', 'Unreviewed', 'Unreviewed', 'Unreviewed', 'Unreviewed', 'Unreviewed', 'Unreviewed', 'NaN', 'NaN', 'Unreviewed', 'Unreviewed', 'Unreviewed', 'NaN', 'Unreviewed', 'Unreviewed', 'NaN', 'Unreviewed', 'Unreviewed', 'Unreviewed', 'NaN', 'Unreviewed', 'Unreviewed', 'Unreviewed', 'NaN', 'Unreviewed', 'Unreviewed', 'Unreviewed', 'NaN', 'NaN', 'Unreviewed', 'NaN', 'Reviewed', 'Unreviewed', 'Unreviewed', 'Unreviewed', 'Unreviewed', 'Unreviewed', 'Reviewed', 'NaN', 'Unreviewed', 'Unreviewed', 'NaN', 'NaN', 'Unreviewed', 'NaN', 'Unreviewed', 'Unreviewed', 'Unreviewed', 'Unreviewed', 'NaN', 'Unreviewed', 'Unreviewed', 'Unreviewed', 'NaN', 'Unreviewed', 'Unreviewed', 'NaN', 'NaN', 'NaN', 'NaN', 'NaN', 'NaN', 'NaN', 'NaN', 'NaN', 'NaN', 'Unreviewed', 'NaN', 'Unreviewed', 'Unreviewed', 'NaN', 'NaN', 'Unreviewed', 'NaN', 'Unreviewed', 'Unreviewed', 'Unreviewed', 'Unreviewed', 'NaN', 'NaN', 'Unreviewed', 'Unreviewed', 'Unreviewed', 'Unreviewed', 'Unreviewed', 'Unreviewed', 'NaN', 'Unreviewed', 'Unreviewed', 'Unreviewed', 'NaN', 'Unreviewed', 'Reviewed', 'Unreviewed', 'Unreviewed', 'Unreviewed', 'NaN', 'NaN', 'Unreviewed', 'Unreviewed', 'Unreviewed', 'Unreviewed', 'Unreviewed', 'Unreviewed', 'NaN', 'NaN', 'Unreviewed', 'Unreviewed', 'Unreviewed', 'NaN', 'Unreviewed', 'Unreviewed', 'NaN', 'NaN', 'Unreviewed', 'Unreviewed', 'Unreviewed', 'Unreviewed', 'Unreviewed', 'Unreviewed', 'Unreviewed', 'NaN', 'Unreviewed', 'NaN', 'Unreviewed', 'Unreviewed', 'Unreviewed', 'NaN', 'Unreviewed', 'NaN', 'NaN', 'Unreviewed', 'Unreviewed', 'NaN', 'Unreviewed', 'Unreviewed', 'Unreviewed', 'Unreviewed', 'Unreviewed', 'NaN', 'NaN', 'Unreviewed', 'Unreviewed', 'NaN', 'NaN', 'Unreviewed', 'NaN', 'Unreviewed', 'Unreviewed', 'Unreviewed', 'Unreviewed', 'Unreviewed', 'NaN', 'NaN', 'Unreviewed', 'NaN', 'NaN', 'Unreviewed', 'NaN', 'NaN', 'Unreviewed', 'Unreviewed', 'NaN', 'Unreviewed', 'NaN', 'Unreviewed', 'Unreviewed', 'Unreviewed', 'Unreviewed', 'Unreviewed', 'Unreviewed']\n"
     ]
    }
   ],
   "source": [
    "x = 0\n",
    "for i in range(len(Status)):\n",
    "    if Status[i]!=\"NaN\":\n",
    "            Status[i]=Stat[x]\n",
    "            x = x + 1\n",
    "    else:\n",
    "        Status[i]='NaN'\n",
    "print(Status) "
   ]
  },
  {
   "cell_type": "markdown",
   "metadata": {},
   "source": [
    "### Extrayendo los nombres para la columna GO - Biological process : "
   ]
  },
  {
   "cell_type": "code",
   "execution_count": 130,
   "metadata": {},
   "outputs": [
    {
     "name": "stdout",
     "output_type": "stream",
     "text": [
      "['heart development', 'heart development', 'heart development', 'heart development', 'heart development', 'heart development', 'heart development', 'heart development', 'heart development', 'heart development', 'heart development', 'heart development', 'heart development', 'heart development', 'heart development', 'heart development', 'heart development', 'heart development', 'heart development', 'heart development', 'heart development', 'heart development', 'heart development', 'heart development', 'heart development', 'heart development', 'heart development', 'heart development', 'heart development', 'heart development', 'heart development', 'heart development', 'heart development', 'heart development', 'heart development', 'heart development', 'heart development', 'heart development', 'heart development', 'heart development', 'heart development', 'heart development', 'heart development', 'heart development', 'heart development', 'heart development', 'heart development', 'heart development', 'heart development', 'heart development', 'heart development', 'heart development', 'heart development', 'heart development', 'heart development', 'heart development', 'heart development', 'heart development', 'heart development', 'heart development', 'heart development', 'heart development', 'heart development', 'heart development', 'heart development', 'heart development', 'heart development', 'heart development', 'heart development', 'heart development', 'heart development', 'heart development', 'heart development', 'heart development', 'heart development', 'heart development', 'heart development', 'heart development', 'heart development', 'heart development', 'heart development', 'heart development', 'heart development', 'heart development', 'heart development', 'heart development', 'heart development', 'heart development', 'heart development', 'heart development', 'heart development', 'heart development', 'heart development', 'heart development', 'heart development', 'heart development', 'heart development', 'heart development', 'heart development', 'heart development', 'heart development', 'heart development', 'heart development', 'heart development', 'heart development', 'heart development', 'heart development', 'heart development', 'heart development', 'heart development', 'heart development', 'heart development', 'heart development', 'heart development', 'heart development', 'heart development', 'heart development', 'heart development', 'heart development', 'heart development', 'heart development', 'heart development', 'heart development', 'heart development', 'heart development', 'heart development', 'heart development', 'heart development', 'heart development', 'heart development', 'heart development', 'heart development', 'heart development', 'heart development', 'heart development', 'heart development', 'heart development', 'heart development', 'heart development', 'heart development', 'heart development', 'heart development', 'heart development', 'heart development', 'heart development', 'heart development', 'heart development', 'heart development', 'heart development', 'heart development', 'heart development', 'heart development', 'heart development', 'heart development', 'heart development', 'heart development', 'heart development', 'heart development', 'heart development', 'heart development', 'heart development', 'heart development', 'heart development', 'heart development', 'heart development', 'heart development', 'heart development', 'heart development', 'heart development', 'heart development', 'heart development', 'heart development', 'heart development', 'heart development', 'heart development', 'heart development', 'heart development', 'heart development', 'heart development', 'heart development', 'heart development', 'heart development', 'heart development', 'heart development', 'heart development', 'heart development', 'heart development', 'heart development', 'heart development', 'heart development', 'heart development', 'heart development', 'heart development', 'heart development', 'heart development', 'heart development', 'heart development', 'heart development', 'heart development', 'heart development', 'heart development', 'heart development', 'heart development', 'heart development', 'heart development', 'heart development', 'heart development', 'heart development', 'heart development', 'heart development', 'heart development', 'heart development', 'heart development', 'heart development', 'heart development', 'heart development', 'heart development', 'heart development', 'heart development', 'heart development', 'heart development', 'heart development', 'heart development', 'heart development', 'heart development', 'heart development', 'heart development', 'heart development', 'heart development', 'heart development', 'heart development', 'heart development', 'heart development', 'heart development', 'heart development', 'heart development', 'heart development', 'heart development', 'heart development', 'heart development', 'heart development', 'heart development', 'heart development', 'heart development', 'heart development', 'heart development', 'heart development', 'heart development', 'heart development', 'heart development', 'heart development', 'heart development', 'heart development', 'heart development', 'heart development', 'heart development', 'heart development', 'heart development', 'heart development', 'heart development', 'heart development', 'heart development', 'heart development', 'heart development', 'heart development', 'heart development', 'heart development', 'heart development', 'heart development', 'heart development', 'heart development', 'heart development', 'heart development', 'heart development', 'heart development', 'heart development', 'heart development', 'heart development', 'heart development', 'heart development', 'heart development', 'heart development', 'heart development', 'heart development', 'heart development', 'heart development', 'heart development', 'heart development', 'heart development', 'heart development', 'heart development', 'heart development', 'heart development', 'heart development', 'heart development', 'heart development', 'heart development', 'heart development', 'heart development', 'heart development', 'heart development', 'heart development', 'heart development', 'heart development', 'heart development', 'heart development', 'heart development', 'heart development', 'heart development', 'heart development', 'heart development', 'heart development', 'heart development', 'heart development', 'heart development', 'heart development', 'heart development', 'heart development', 'heart development', 'heart development', 'heart development', 'heart development', 'heart development', 'heart development', 'heart development', 'heart development', 'heart development', 'heart development', 'heart development', 'heart development', 'heart development', 'heart development', 'heart development', 'heart development', 'heart development', 'heart development', 'heart development', 'heart development', 'heart development', 'heart development']\n"
     ]
    }
   ],
   "source": [
    "Go=[]\n",
    "for i in range(len(urls_1)):\n",
    "    requ = Request(\"https://www.uniprot.org/uniprot/A0A452G662\", headers={'User-Agent': 'Mozilla/5.0'})\n",
    "    subpage = urlopen(requ).read()\n",
    "    pagesoup=soup(subpage, \"html.parser\")\n",
    "    resl = pagesoup.find(\"ul\",{\"class\":\"noNumbering biological_process\"}).a.text[0:50]    \n",
    "    Go.append(resl)\n",
    "print(Go)"
   ]
  },
  {
   "cell_type": "code",
   "execution_count": 131,
   "metadata": {},
   "outputs": [
    {
     "name": "stdout",
     "output_type": "stream",
     "text": [
      "['NaN', 'NaN', 'NaN', 'NaN', 'NaN', 'heart development', 'heart development', 'heart development', 'heart development', 'NaN', 'heart development', 'heart development', 'NaN', 'heart development', 'heart development', 'NaN', 'heart development', 'heart development', 'heart development', 'heart development', 'NaN', 'heart development', 'heart development', 'heart development', 'heart development', 'heart development', 'heart development', 'heart development', 'heart development', 'NaN', 'NaN', 'heart development', 'heart development', 'heart development', 'NaN', 'heart development', 'NaN', 'heart development', 'heart development', 'heart development', 'NaN', 'heart development', 'heart development', 'heart development', 'heart development', 'NaN', 'heart development', 'heart development', 'NaN', 'heart development', 'heart development', 'NaN', 'NaN', 'heart development', 'heart development', 'NaN', 'NaN', 'NaN', 'NaN', 'NaN', 'NaN', 'NaN', 'NaN', 'NaN', 'NaN', 'heart development', 'NaN', 'NaN', 'NaN', 'NaN', 'heart development', 'heart development', 'heart development', 'heart development', 'NaN', 'heart development', 'heart development', 'heart development', 'heart development', 'heart development', 'NaN', 'heart development', 'heart development', 'heart development', 'heart development', 'NaN', 'NaN', 'heart development', 'NaN', 'heart development', 'heart development', 'heart development', 'heart development', 'NaN', 'heart development', 'heart development', 'heart development', 'heart development', 'NaN', 'heart development', 'heart development', 'heart development', 'NaN', 'heart development', 'heart development', 'heart development', 'heart development', 'heart development', 'NaN', 'NaN', 'heart development', 'NaN', 'heart development', 'heart development', 'heart development', 'heart development', 'heart development', 'heart development', 'heart development', 'heart development', 'heart development', 'heart development', 'NaN', 'heart development', 'heart development', 'heart development', 'heart development', 'NaN', 'heart development', 'heart development', 'heart development', 'heart development', 'NaN', 'heart development', 'NaN', 'heart development', 'heart development', 'heart development', 'heart development', 'NaN', 'NaN', 'heart development', 'NaN', 'NaN', 'NaN', 'heart development', 'heart development', 'heart development', 'heart development', 'heart development', 'heart development', 'heart development', 'heart development', 'NaN', 'heart development', 'NaN', 'heart development', 'heart development', 'heart development', 'heart development', 'heart development', 'heart development', 'heart development', 'NaN', 'heart development', 'heart development', 'heart development', 'NaN', 'heart development', 'heart development', 'heart development', 'NaN', 'NaN', 'heart development', 'NaN', 'heart development', 'NaN', 'NaN', 'NaN', 'heart development', 'heart development', 'NaN', 'heart development', 'heart development', 'NaN', 'heart development', 'NaN', 'heart development', 'heart development', 'heart development', 'heart development', 'heart development', 'heart development', 'NaN', 'heart development', 'heart development', 'heart development', 'heart development', 'heart development', 'heart development', 'heart development', 'heart development', 'heart development', 'heart development', 'NaN', 'NaN', 'heart development', 'heart development', 'heart development', 'NaN', 'heart development', 'heart development', 'heart development', 'heart development', 'NaN', 'NaN', 'heart development', 'NaN', 'NaN', 'heart development', 'heart development', 'heart development', 'heart development', 'heart development', 'heart development', 'heart development', 'NaN', 'heart development', 'NaN', 'NaN', 'heart development', 'heart development', 'heart development', 'heart development', 'heart development', 'heart development', 'NaN', 'NaN', 'heart development', 'heart development', 'heart development', 'heart development', 'heart development', 'NaN', 'heart development', 'NaN', 'heart development', 'NaN', 'NaN', 'NaN', 'heart development', 'heart development', 'heart development', 'heart development', 'heart development', 'heart development', 'heart development', 'NaN', 'heart development', 'heart development', 'heart development', 'NaN', 'heart development', 'heart development', 'heart development', 'NaN', 'heart development', 'heart development', 'NaN', 'heart development', 'NaN', 'NaN', 'heart development', 'heart development', 'heart development', 'heart development', 'NaN', 'heart development', 'NaN', 'NaN', 'NaN', 'NaN', 'heart development', 'heart development', 'NaN', 'NaN', 'heart development', 'NaN', 'heart development', 'heart development', 'NaN', 'heart development', 'heart development', 'heart development', 'heart development', 'heart development', 'NaN', 'heart development', 'heart development', 'NaN', 'heart development', 'heart development', 'NaN', 'heart development', 'heart development', 'heart development', 'heart development', 'heart development', 'NaN', 'heart development', 'heart development', 'heart development', 'NaN', 'heart development', 'heart development', 'heart development', 'NaN', 'heart development', 'heart development', 'heart development', 'NaN', 'heart development', 'NaN', 'heart development', 'heart development', 'NaN', 'heart development', 'heart development', 'heart development', 'heart development', 'heart development', 'heart development', 'heart development', 'NaN', 'heart development', 'NaN', 'heart development', 'heart development', 'NaN', 'heart development', 'heart development', 'heart development', 'heart development', 'heart development', 'heart development', 'NaN', 'NaN', 'heart development', 'heart development', 'heart development', 'NaN', 'heart development', 'heart development', 'NaN', 'heart development', 'heart development', 'heart development', 'NaN', 'heart development', 'heart development', 'heart development', 'NaN', 'heart development', 'heart development', 'heart development', 'NaN', 'NaN', 'heart development', 'NaN', 'heart development', 'heart development', 'heart development', 'heart development', 'heart development', 'heart development', 'heart development', 'NaN', 'heart development', 'heart development', 'NaN', 'NaN', 'heart development', 'NaN', 'heart development', 'heart development', 'heart development', 'heart development', 'NaN', 'heart development', 'heart development', 'heart development', 'NaN', 'heart development', 'heart development', 'NaN', 'NaN', 'NaN', 'NaN', 'NaN', 'NaN', 'NaN', 'NaN', 'NaN', 'NaN', 'heart development', 'NaN', 'heart development', 'heart development', 'NaN', 'NaN', 'heart development', 'NaN', 'heart development', 'heart development', 'heart development', 'heart development', 'NaN', 'NaN', 'heart development', 'heart development', 'heart development', 'heart development', 'heart development', 'heart development', 'NaN', 'heart development', 'heart development', 'heart development', 'NaN', 'heart development', 'heart development', 'heart development', 'heart development', 'heart development', 'NaN', 'NaN', 'heart development', 'heart development', 'heart development', 'heart development', 'heart development', 'heart development', 'NaN', 'NaN', 'heart development', 'heart development', 'heart development', 'NaN', 'heart development', 'heart development', 'NaN', 'NaN', 'heart development', 'heart development', 'heart development', 'heart development', 'heart development', 'heart development', 'heart development', 'NaN', 'heart development', 'NaN', 'heart development', 'heart development', 'heart development', 'NaN', 'heart development', 'NaN', 'NaN', 'heart development', 'heart development', 'NaN', 'heart development', 'heart development', 'heart development', 'heart development', 'heart development', 'NaN', 'NaN', 'heart development', 'heart development', 'NaN', 'NaN', 'heart development', 'NaN', 'heart development', 'heart development', 'heart development', 'heart development', 'heart development', 'NaN', 'NaN', 'heart development', 'NaN', 'NaN', 'heart development', 'NaN', 'NaN', 'heart development', 'heart development', 'NaN', 'heart development', 'NaN', 'heart development', 'heart development', 'heart development', 'heart development', 'heart development', 'heart development']\n"
     ]
    }
   ],
   "source": [
    "x = 0\n",
    "for i in range(len(GO_BP)):\n",
    "    if GO_BP[i]!=\"NaN\":\n",
    "            GO_BP[i]=Go[x]\n",
    "            x = x + 1\n",
    "    else:\n",
    "        GO_BP[i]='NaN'\n",
    "print(GO_BP) "
   ]
  },
  {
   "cell_type": "markdown",
   "metadata": {},
   "source": [
    "### Creando un DataFrame con las listas extraidas : \n",
    "Crearemos un data frame vacio, seguidamente iremos agregando columnas con los datos ya extraidos."
   ]
  },
  {
   "cell_type": "code",
   "execution_count": 150,
   "metadata": {},
   "outputs": [
    {
     "name": "stdout",
     "output_type": "stream",
     "text": [
      "         GeneBrev       Entry        Entry name  \\\n",
      "0       TRNAS-GGA         NaN               NaN   \n",
      "1    LOC102173449         NaN               NaN   \n",
      "2    LOC102169333         NaN               NaN   \n",
      "3    LOC108636757         NaN               NaN   \n",
      "4    LOC102187712         NaN               NaN   \n",
      "..            ...         ...               ...   \n",
      "504         CMTM3  A0A452F9B4  A0A452F9B4_CAPHI   \n",
      "505         CMTM4  A0A452FKT2  A0A452FKT2_CAPHI   \n",
      "506      DYNC1LI2  A0A452ELW2  A0A452ELW2_CAPHI   \n",
      "507         TERB1  A0A452G5T9  A0A452G5T9_CAPHI   \n",
      "508          NAE1  A0A452DZC9  A0A452DZC9_CAPHI   \n",
      "\n",
      "                                               Protein      Gene  \\\n",
      "0                                                  NaN       NaN   \n",
      "1                                                  NaN       NaN   \n",
      "2                                                  NaN       NaN   \n",
      "3                                                  NaN       NaN   \n",
      "4                                                  NaN       NaN   \n",
      "..                                                 ...       ...   \n",
      "504  CKLF like MARVEL transmembrane domain containi...     CMTM3   \n",
      "505  CKLF like MARVEL transmembrane domain containi...     CMTM4   \n",
      "506                    Dynein light intermediate chain  DYNC1LI2   \n",
      "507  Telomere repeat binding bouquet formation prot...     TERB1   \n",
      "508      NEDD8-activating enzyme E1 regulatory subunit      NAE1   \n",
      "\n",
      "                Organism      Status GO-Biological process  \n",
      "0                    NaN         NaN                   NaN  \n",
      "1                    NaN         NaN                   NaN  \n",
      "2                    NaN         NaN                   NaN  \n",
      "3                    NaN         NaN                   NaN  \n",
      "4                    NaN         NaN                   NaN  \n",
      "..                   ...         ...                   ...  \n",
      "504  Capra hircus (Goat)  Unreviewed     heart development  \n",
      "505  Capra hircus (Goat)  Unreviewed     heart development  \n",
      "506  Capra hircus (Goat)  Unreviewed     heart development  \n",
      "507  Capra hircus (Goat)  Unreviewed     heart development  \n",
      "508  Capra hircus (Goat)  Unreviewed     heart development  \n",
      "\n",
      "[509 rows x 8 columns]\n"
     ]
    }
   ],
   "source": [
    "df = pd.DataFrame()\n",
    "df['GeneBrev']=p\n",
    "df['Entry']=Entry\n",
    "df['Entry name']=Entry_Names \n",
    "df['Protein']=Protein\n",
    "df['Gene']=Gene\n",
    "df[\"Organism\"]=Organism\n",
    "df[\"Status\"]=Status\n",
    "df[\"GO-Biological process\"]=GO_BP\n",
    "print(df)\n"
   ]
  },
  {
   "cell_type": "markdown",
   "metadata": {},
   "source": [
    "### Importando un CSV:\n",
    "Exportamos el data frame extraido y lo convertimos en un csv"
   ]
  },
  {
   "cell_type": "code",
   "execution_count": 153,
   "metadata": {},
   "outputs": [],
   "source": [
    "df.to_csv(\"GeneCH02.csv\")"
   ]
  }
 ],
 "metadata": {
  "kernelspec": {
   "display_name": "Python 3",
   "language": "python",
   "name": "python3"
  },
  "language_info": {
   "codemirror_mode": {
    "name": "ipython",
    "version": 3
   },
   "file_extension": ".py",
   "mimetype": "text/x-python",
   "name": "python",
   "nbconvert_exporter": "python",
   "pygments_lexer": "ipython3",
   "version": "3.7.6"
  }
 },
 "nbformat": 4,
 "nbformat_minor": 4
}
